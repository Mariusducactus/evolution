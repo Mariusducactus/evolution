{
 "cells": [
  {
   "cell_type": "markdown",
   "metadata": {
    "slideshow": {
     "slide_type": "slide"
    }
   },
   "source": [
    "<img src=\"../imgs/logo.png\" width=\"20%\" align=\"right\" style=\"margin:0px 20px\">\n",
    "\n",
    "\n",
    "# Evolutionary Computation\n",
    "\n",
    "## 3.2 NSGA-II\n",
    "\n",
    "<a rel=\"license\" href=\"http://creativecommons.org/licenses/by-sa/4.0/\"><img alt=\"Creative Commons License\" align=\"left\" src=\"https://i.creativecommons.org/l/by-sa/4.0/80x15.png\" /></a>&nbsp;| Dennis G. Wilson | <a href=\"https://d9w.github.io/evolution/\">https://d9w.github.io/evolution/</a>"
   ]
  },
  {
   "cell_type": "markdown",
   "metadata": {
    "slideshow": {
     "slide_type": "slide"
    }
   },
   "source": [
    "## Outline\n",
    "\n",
    "1. [The Knapsack Problem](#knapsack)\n",
    "2. [Evolution](#evolution)\n",
    "3. [Visualization](#visualization)"
   ]
  },
  {
   "cell_type": "code",
   "execution_count": 2,
   "metadata": {
    "slideshow": {
     "slide_type": "slide"
    }
   },
   "outputs": [],
   "source": [
    "using NSGAII\n",
    "using JuMP, GLPK\n",
    "using Plots\n",
    "default(show=:ijulia)"
   ]
  },
  {
   "cell_type": "markdown",
   "metadata": {
    "slideshow": {
     "slide_type": "fragment"
    }
   },
   "source": [
    "To experiment with NSGAII we'll be using a rather new implementation of it from Github: https://github.com/gsoleilhac/NSGAII.jl/.\n",
    "\n",
    "This implementation isn't so complicated and if we look at the code, we can see that much of it resembles our [notebook code](https://github.com/d9w/evolution/blob/master/2_ga/1_GAs.ipynb) on Genetic Algorithms. Let's look at the [functions](https://github.com/gsoleilhac/NSGAII.jl/blob/master/src/functions.jl) code which contains the main Genetic Algorithm loop, as well as the [NSGA-II](http://repository.ias.ac.in/83498/1/2-a.pdf) Fast Non-Dominated Sort and Crowding Distance Algorithm."
   ]
  },
  {
   "cell_type": "markdown",
   "metadata": {
    "slideshow": {
     "slide_type": "slide"
    }
   },
   "source": [
    "## <a id=\"knapsack\"></a>The Knapsack Problem"
   ]
  },
  {
   "cell_type": "markdown",
   "metadata": {
    "slideshow": {
     "slide_type": "fragment"
    }
   },
   "source": [
    "<img src=\"https://imgs.xkcd.com/comics/np_complete.png\">\n",
    "<div style=\"text-align:center\"><a href=\"https://xkcd.com/287/\">XKCD on the Knapsack Problem</a></div>\n"
   ]
  },
  {
   "cell_type": "markdown",
   "metadata": {
    "slideshow": {
     "slide_type": "slide"
    }
   },
   "source": [
    "Imagine we're travelling and our bag has a maximum weight limit. We want to fill this bag with items of different value and maximize the total value in our bag, as long as it stays in the weight limit. This is known as the \"knapsack problem\".\n",
    "<img src=\"../imgs/knapsack.png\" width=\"30%\" height=\"auto\">\n",
    "Instead of a bag with items, you could imagine a scenario like the comic. You want to order different appetizers, but you only want to spend a fixed maximum amount. How can you get the best appetizers?"
   ]
  },
  {
   "cell_type": "markdown",
   "metadata": {
    "slideshow": {
     "slide_type": "slide"
    }
   },
   "source": [
    "Let's look at an example, specifically using the version of the Knapsack problem known as the \"0-1 knapsack problem\" where we can have at most 1 copy of each item. We'll use 5 items and randomly geneate values for them."
   ]
  },
  {
   "cell_type": "code",
   "execution_count": 3,
   "metadata": {
    "slideshow": {
     "slide_type": "fragment"
    }
   },
   "outputs": [
    {
     "name": "stdout",
     "output_type": "stream",
     "text": [
      "[11, 30, 32, 19, 46] total value: 138\n"
     ]
    }
   ],
   "source": [
    "n = 5\n",
    "values = rand(0:100, n)\n",
    "println(values, \" total value: \", sum(values))"
   ]
  },
  {
   "cell_type": "code",
   "execution_count": 4,
   "metadata": {
    "slideshow": {
     "slide_type": "fragment"
    }
   },
   "outputs": [
    {
     "name": "stdout",
     "output_type": "stream",
     "text": [
      "[12, 11, 16, 11, 12] total weight: 62\n"
     ]
    }
   ],
   "source": [
    "weights = rand(10:20, n)\n",
    "max_weight = 55\n",
    "println(weights, \" total weight: \", sum(weights))"
   ]
  },
  {
   "cell_type": "markdown",
   "metadata": {
    "slideshow": {
     "slide_type": "fragment"
    }
   },
   "source": [
    "We won't be able to take all items because of the maximum weight of 55. We'll express our choice of items using a binary string, 1 if we take the item and 0 otherwise."
   ]
  },
  {
   "cell_type": "code",
   "execution_count": 5,
   "metadata": {
    "slideshow": {
     "slide_type": "fragment"
    }
   },
   "outputs": [
    {
     "name": "stdout",
     "output_type": "stream",
     "text": [
      "Bool[false, false, false, false, true]\n"
     ]
    }
   ],
   "source": [
    "using Random: bitrand\n",
    "choices = bitrand(n)\n",
    "println(choices)"
   ]
  },
  {
   "cell_type": "markdown",
   "metadata": {
    "slideshow": {
     "slide_type": "slide"
    }
   },
   "source": [
    "The total value of our knapsack is therefore the sum of the element-wise multiplication of our choices and the individual item values."
   ]
  },
  {
   "cell_type": "code",
   "execution_count": 6,
   "metadata": {
    "slideshow": {
     "slide_type": "fragment"
    }
   },
   "outputs": [
    {
     "data": {
      "text/plain": [
       "46"
      ]
     },
     "execution_count": 6,
     "metadata": {},
     "output_type": "execute_result"
    }
   ],
   "source": [
    "sum(choices .* values)"
   ]
  },
  {
   "cell_type": "markdown",
   "metadata": {
    "slideshow": {
     "slide_type": "fragment"
    }
   },
   "source": [
    "In other words, the dot product of the two vectors."
   ]
  },
  {
   "cell_type": "code",
   "execution_count": 7,
   "metadata": {
    "slideshow": {
     "slide_type": "fragment"
    }
   },
   "outputs": [
    {
     "data": {
      "text/plain": [
       "46"
      ]
     },
     "execution_count": 7,
     "metadata": {},
     "output_type": "execute_result"
    }
   ],
   "source": [
    "using LinearAlgebra: dot\n",
    "dot(choices, values)"
   ]
  },
  {
   "cell_type": "markdown",
   "metadata": {
    "slideshow": {
     "slide_type": "fragment"
    }
   },
   "source": [
    "We can also use the dot product to check if our choices fall under the weight limit"
   ]
  },
  {
   "cell_type": "code",
   "execution_count": 8,
   "metadata": {
    "slideshow": {
     "slide_type": "fragment"
    }
   },
   "outputs": [
    {
     "data": {
      "text/plain": [
       "(12, 55)"
      ]
     },
     "execution_count": 8,
     "metadata": {},
     "output_type": "execute_result"
    }
   ],
   "source": [
    "dot(choices, weights), max_weight"
   ]
  },
  {
   "cell_type": "markdown",
   "metadata": {
    "slideshow": {
     "slide_type": "slide"
    }
   },
   "source": [
    "Let's say you and a friend are travelling together and to make it cheaper, you're sharing a bag. You and your friend assign different values to each item based on what you want to bring on the trip. Your preferences are in `values` and your friends preferences are:"
   ]
  },
  {
   "cell_type": "code",
   "execution_count": 9,
   "metadata": {
    "slideshow": {
     "slide_type": "fragment"
    }
   },
   "outputs": [
    {
     "name": "stdout",
     "output_type": "stream",
     "text": [
      "You:\t[11, 30, 32, 19, 46] total value: 138\n",
      "Friend:\t[31, 80, 62, 93, 68] total value: 334\n"
     ]
    }
   ],
   "source": [
    "values2 = rand(0:100, n)\n",
    "println(\"You:\\t\", values, \" total value: \", sum(values))\n",
    "println(\"Friend:\\t\", values2, \" total value: \", sum(values2))"
   ]
  },
  {
   "cell_type": "markdown",
   "metadata": {
    "slideshow": {
     "slide_type": "fragment"
    }
   },
   "source": [
    "Let's see who is happier with the choices we made"
   ]
  },
  {
   "cell_type": "code",
   "execution_count": 10,
   "metadata": {
    "slideshow": {
     "slide_type": "fragment"
    }
   },
   "outputs": [
    {
     "name": "stdout",
     "output_type": "stream",
     "text": [
      "Bool[true, true, false, true, true]\n",
      "weight: 46\n",
      "You: 106 Friend: 272\n"
     ]
    }
   ],
   "source": [
    "choices = bitrand(n)\n",
    "println(choices)\n",
    "println(\"weight: \", dot(choices, weights))\n",
    "println(\"You: \", dot(choices, values), \" Friend: \", dot(choices, values2))"
   ]
  },
  {
   "cell_type": "markdown",
   "metadata": {
    "slideshow": {
     "slide_type": "fragment"
    }
   },
   "source": [
    "This is the multi-objective version of the Knapsack problem where we use $K$ different value vectors for $K$ objectives."
   ]
  },
  {
   "cell_type": "markdown",
   "metadata": {
    "slideshow": {
     "slide_type": "slide"
    }
   },
   "source": [
    "[The Knapsack problem](https://en.wikipedia.org/wiki/Knapsack_problem) has been thoroughly studied in theoretical computer science and evolutionary computation is not the only choice for solving it; dynamic programming and mixed integer programming are what [JuMP](https://github.com/JuliaOpt/JuMP.jl), an optimization library, uses."
   ]
  },
  {
   "cell_type": "code",
   "execution_count": 12,
   "metadata": {
    "slideshow": {
     "slide_type": "fragment"
    }
   },
   "outputs": [],
   "source": [
    "m = Model(GLPK.Optimizer)\n",
    "@variable(m, x[1:n], Bin)\n",
    "# Objective: maximize profit\n",
    "@objective(m, Max, dot(values, x))\n",
    "@objective(m, Max, dot(values2, x))\n",
    "# Constraint: can carry all\n",
    "@constraint(m, dot(weights, x) <= max_weight)\n",
    "# Solve problem using MIP solver\n",
    "JuMP.optimize!(m)"
   ]
  },
  {
   "cell_type": "code",
   "execution_count": 16,
   "metadata": {
    "slideshow": {
     "slide_type": "fragment"
    }
   },
   "outputs": [
    {
     "name": "stdout",
     "output_type": "stream",
     "text": [
      "Objective is: 303.0\n",
      "Solution is:\n",
      "x[1] = 0.0, p[1]/w[1] = 0.9166666666666666, p[1]/w[1] = 2.5833333333333335\n",
      "x[2] = 1.0, p[2]/w[2] = 2.727272727272727, p[2]/w[2] = 7.2727272727272725\n",
      "x[3] = 1.0, p[3]/w[3] = 2.0, p[3]/w[3] = 3.875\n",
      "x[4] = 1.0, p[4]/w[4] = 1.7272727272727273, p[4]/w[4] = 8.454545454545455\n",
      "x[5] = 1.0, p[5]/w[5] = 3.8333333333333335, p[5]/w[5] = 5.666666666666667\n"
     ]
    }
   ],
   "source": [
    "println(\"Objective is: \", JuMP.objective_value(m))\n",
    "println(\"Solution is:\")\n",
    "for i = 1:5\n",
    "    print(\"x[$i] = \", JuMP.value(x[i]))\n",
    "    print(\", p[$i]/w[$i] = \", values[i]/weights[i])\n",
    "    println(\", p[$i]/w[$i] = \", values2[i]/weights[i])\n",
    "end"
   ]
  },
  {
   "cell_type": "markdown",
   "metadata": {
    "slideshow": {
     "slide_type": "slide"
    }
   },
   "source": [
    "## <a id=\"evolution\"></a>Evolution"
   ]
  },
  {
   "cell_type": "markdown",
   "metadata": {
    "slideshow": {
     "slide_type": "fragment"
    }
   },
   "source": [
    "To apply NSGA-II to this problem, let's scale up the number of items to 100. "
   ]
  },
  {
   "cell_type": "code",
   "execution_count": 59,
   "metadata": {
    "slideshow": {
     "slide_type": "fragment"
    }
   },
   "outputs": [
    {
     "data": {
      "text/plain": [
       "100×3 Array{Float64,2}:\n",
       " 0.981471   0.935697   0.881413 \n",
       " 0.188418   0.569482   0.377037 \n",
       " 0.188991   0.274822   0.404022 \n",
       " 0.157529   0.896375   0.101959 \n",
       " 0.364328   0.977454   0.653677 \n",
       " 0.835027   0.0209735  0.679362 \n",
       " 0.702094   0.47597    0.251494 \n",
       " 0.134516   0.253293   0.117673 \n",
       " 0.168837   0.341685   0.84031  \n",
       " 0.536677   0.82704    0.594036 \n",
       " 0.450499   0.562798   0.96028  \n",
       " 0.201244   0.487834   0.36727  \n",
       " 0.464171   0.326779   0.550268 \n",
       " ⋮                              \n",
       " 0.202092   0.206243   0.615706 \n",
       " 0.0502526  0.511605   0.0426974\n",
       " 0.448993   0.575855   0.950722 \n",
       " 0.27446    0.870017   0.703614 \n",
       " 0.755787   0.330065   0.919723 \n",
       " 0.419706   0.527761   0.77205  \n",
       " 0.819936   0.125229   0.138019 \n",
       " 0.891746   0.238714   0.22053  \n",
       " 0.507164   0.682144   0.467772 \n",
       " 0.795942   0.223026   0.970979 \n",
       " 0.293017   0.358099   0.641066 \n",
       " 0.171602   0.184934   0.474187 "
      ]
     },
     "execution_count": 59,
     "metadata": {},
     "output_type": "execute_result"
    }
   ],
   "source": [
    "n = 100\n",
    "n_objectives = 3\n",
    "values = rand(n, n_objectives)"
   ]
  },
  {
   "cell_type": "markdown",
   "metadata": {
    "slideshow": {
     "slide_type": "slide"
    }
   },
   "source": [
    "Let's normalize our fitness values by their sum, so that the total maximum value is 1.0 which will help with plotting later."
   ]
  },
  {
   "cell_type": "code",
   "execution_count": 60,
   "metadata": {
    "slideshow": {
     "slide_type": "fragment"
    }
   },
   "outputs": [
    {
     "data": {
      "text/plain": [
       "1×3 Array{Float64,2}:\n",
       " 1.0  1.0  1.0"
      ]
     },
     "execution_count": 60,
     "metadata": {},
     "output_type": "execute_result"
    }
   ],
   "source": [
    "values = values ./ sum(values, dims=1);\n",
    "sum(values, dims=1)"
   ]
  },
  {
   "cell_type": "markdown",
   "metadata": {
    "slideshow": {
     "slide_type": "slide"
    }
   },
   "source": [
    "Similarly, let's normalize the weights to sum to 1 and set a maximum weight of 0.5, meaning we can keep only half the items on average. This will let us change the number of items more easily later on but doesn't impact the problem in any way."
   ]
  },
  {
   "cell_type": "code",
   "execution_count": 61,
   "metadata": {
    "slideshow": {
     "slide_type": "fragment"
    }
   },
   "outputs": [
    {
     "data": {
      "text/plain": [
       "0.5"
      ]
     },
     "execution_count": 61,
     "metadata": {},
     "output_type": "execute_result"
    }
   ],
   "source": [
    "weights = rand(n)\n",
    "weights = weights ./ sum(weights)\n",
    "max_weight = 0.5"
   ]
  },
  {
   "cell_type": "markdown",
   "metadata": {
    "slideshow": {
     "slide_type": "slide"
    }
   },
   "source": [
    "Let's write our objective function which will compute the value of our knapsack using each different column of profit values."
   ]
  },
  {
   "cell_type": "code",
   "execution_count": 62,
   "metadata": {
    "slideshow": {
     "slide_type": "fragment"
    }
   },
   "outputs": [
    {
     "data": {
      "text/plain": [
       "objective (generic function with 1 method)"
      ]
     },
     "execution_count": 62,
     "metadata": {},
     "output_type": "execute_result"
    }
   ],
   "source": [
    "function objective(genes::AbstractArray)\n",
    "    fits = zeros(n_objectives)\n",
    "    for i in 1:n_objectives\n",
    "        fits[i] = dot(genes, values[:, i])\n",
    "    end\n",
    "    tuple(fits...)\n",
    "end"
   ]
  },
  {
   "cell_type": "markdown",
   "metadata": {
    "slideshow": {
     "slide_type": "slide"
    }
   },
   "source": [
    "We'll add in our weight constraint separately. This is used in the evaluation of individuals and is considered a part of our objective function, but is handled separately. Our lecture on evolution with constraints will go into more detail on that. For this NSGA-II implementation, we return 0 if the condition passes and the distance from meeting the condition otherwise."
   ]
  },
  {
   "cell_type": "code",
   "execution_count": 63,
   "metadata": {
    "slideshow": {
     "slide_type": "fragment"
    }
   },
   "outputs": [
    {
     "data": {
      "text/plain": [
       "constraint (generic function with 1 method)"
      ]
     },
     "execution_count": 63,
     "metadata": {},
     "output_type": "execute_result"
    }
   ],
   "source": [
    "function constraint(genes::AbstractArray)\n",
    "    sum_weights = dot(genes, weights)\n",
    "    return sum_weights <= max_weight ? 0 : sum_weights - max_weight\n",
    "end"
   ]
  },
  {
   "cell_type": "markdown",
   "metadata": {
    "slideshow": {
     "slide_type": "slide"
    }
   },
   "source": [
    "That's all, so now we're ready to run NSGA-II. Let's run it for 100 generations on a population of 100. The function returns the set of non-dominated individuals at the end"
   ]
  },
  {
   "cell_type": "code",
   "execution_count": 64,
   "metadata": {
    "slideshow": {
     "slide_type": "fragment"
    }
   },
   "outputs": [
    {
     "data": {
      "text/plain": [
       "indiv([111101001101111...100001110011010] : (0.6638566660215698, 0.7447138624073149, 0.6773517509045222) | rank : 1)"
      ]
     },
     "execution_count": 64,
     "metadata": {},
     "output_type": "execute_result"
    }
   ],
   "source": [
    "popsize = 100\n",
    "nbgen = 100\n",
    "init() = bitrand(n)\n",
    "non_dominated =  nsga_max(popsize, nbgen, objective, init, fCV=constraint)\n",
    "non_dominated[1]"
   ]
  },
  {
   "cell_type": "markdown",
   "metadata": {
    "slideshow": {
     "slide_type": "slide"
    }
   },
   "source": [
    "Let's see what type of total profit values we have from our two objectives."
   ]
  },
  {
   "cell_type": "code",
   "execution_count": 65,
   "metadata": {
    "slideshow": {
     "slide_type": "fragment"
    }
   },
   "outputs": [
    {
     "data": {
      "text/plain": [
       "27-element Array{Array{Float64,1},1}:\n",
       " [0.663857, 0.744714, 0.677352]\n",
       " [0.670636, 0.74272, 0.67363]  \n",
       " [0.658465, 0.735328, 0.696761]\n",
       " [0.708071, 0.68697, 0.678004] \n",
       " [0.680801, 0.69862, 0.736357] \n",
       " [0.678187, 0.721904, 0.719453]\n",
       " [0.687017, 0.729251, 0.71088] \n",
       " [0.684896, 0.734384, 0.698967]\n",
       " [0.691192, 0.690591, 0.72891] \n",
       " [0.693619, 0.718269, 0.724669]\n",
       " [0.685854, 0.734891, 0.680822]\n",
       " [0.705582, 0.687271, 0.704479]\n",
       " [0.667132, 0.743457, 0.692245]\n",
       " ⋮                             \n",
       " [0.667066, 0.738421, 0.692658]\n",
       " [0.699079, 0.705615, 0.722633]\n",
       " [0.702583, 0.704877, 0.704019]\n",
       " [0.658531, 0.740365, 0.696348]\n",
       " [0.664045, 0.730543, 0.706744]\n",
       " [0.698232, 0.709059, 0.723681]\n",
       " [0.697068, 0.7147, 0.693623]  \n",
       " [0.688426, 0.722621, 0.708154]\n",
       " [0.687702, 0.694971, 0.726916]\n",
       " [0.689459, 0.719931, 0.706055]\n",
       " [0.689508, 0.725174, 0.697979]\n",
       " [0.667805, 0.740274, 0.676721]"
      ]
     },
     "execution_count": 65,
     "metadata": {},
     "output_type": "execute_result"
    }
   ],
   "source": [
    "unique([collect(i.y) for i in non_dominated])"
   ]
  },
  {
   "cell_type": "markdown",
   "metadata": {
    "slideshow": {
     "slide_type": "slide"
    }
   },
   "source": [
    "Finally, we can compare this value to a value obtained by JuMP"
   ]
  },
  {
   "cell_type": "code",
   "execution_count": 66,
   "metadata": {
    "slideshow": {
     "slide_type": "fragment"
    }
   },
   "outputs": [
    {
     "name": "stdout",
     "output_type": "stream",
     "text": [
      "JuMP: 0.629863131260833 0.8533647617153334\n"
     ]
    }
   ],
   "source": [
    "\n",
    "m = Model(GLPK.Optimizer)\n",
    "@variable(m, x[1:n], Bin)\n",
    "# Objective: maximize profit\n",
    "@objective(m, Max, dot(values[:, 1], x))\n",
    "@objective(m, Max, dot(values[:, 2], x))\n",
    "# Constraint: can carry all\n",
    "@constraint(m, dot(weights, x) <= max_weight)\n",
    "# Solve problem using MIP solver\n",
    "JuMP.optimize!(m)\n",
    "best_solution = [JuMP.value(x[i]) for i in 1:n]\n",
    "println(\"JuMP: \", dot(values[:, 1], best_solution), \" \", dot(values[:, 2], best_solution))"
   ]
  },
  {
   "cell_type": "markdown",
   "metadata": {
    "slideshow": {
     "slide_type": "slide"
    }
   },
   "source": [
    "<div class=\"alert alert-success\">\n",
    "    <b>Exercise 2</b>\n",
    "    <br/>\n",
    "    Increase the problem difficulty by increasing the number of items and reducing the weight limit. How does NSGA-II do?\n",
    "    <br/>\n",
    "</div>"
   ]
  },
  {
   "cell_type": "markdown",
   "metadata": {},
   "source": [
    "Quand on augmente la difficulté, la satisfaction des deux individus diminue, mais NSGA-II est plus dégradé qui JuMP"
   ]
  },
  {
   "cell_type": "markdown",
   "metadata": {
    "slideshow": {
     "slide_type": "slide"
    }
   },
   "source": [
    "## <a id=\"visualization\"></a>Visualization"
   ]
  },
  {
   "cell_type": "markdown",
   "metadata": {
    "slideshow": {
     "slide_type": "fragment"
    }
   },
   "source": [
    "To better understand NSGA-II's evolution, let's observe the population over time."
   ]
  },
  {
   "cell_type": "code",
   "execution_count": 69,
   "metadata": {},
   "outputs": [
    {
     "data": {
      "text/plain": [
       "scatter3d (generic function with 1 method)"
      ]
     },
     "execution_count": 69,
     "metadata": {},
     "output_type": "execute_result"
    }
   ],
   "source": [
    "scatter3d"
   ]
  },
  {
   "cell_type": "code",
   "execution_count": 71,
   "metadata": {
    "slideshow": {
     "slide_type": "slide"
    }
   },
   "outputs": [
    {
     "data": {
      "image/svg+xml": [
       "<?xml version=\"1.0\" encoding=\"utf-8\"?>\n",
       "<svg xmlns=\"http://www.w3.org/2000/svg\" xmlns:xlink=\"http://www.w3.org/1999/xlink\" width=\"600\" height=\"400\" viewBox=\"0 0 2400 1600\">\n",
       "<defs>\n",
       "  <clipPath id=\"clip0900\">\n",
       "    <rect x=\"0\" y=\"0\" width=\"2400\" height=\"1600\"/>\n",
       "  </clipPath>\n",
       "</defs>\n",
       "<path clip-path=\"url(#clip0900)\" d=\"\n",
       "M0 1600 L2400 1600 L2400 0 L0 0  Z\n",
       "  \" fill=\"#ffffff\" fill-rule=\"evenodd\" fill-opacity=\"1\"/>\n",
       "<defs>\n",
       "  <clipPath id=\"clip0901\">\n",
       "    <rect x=\"480\" y=\"0\" width=\"1681\" height=\"1600\"/>\n",
       "  </clipPath>\n",
       "</defs>\n",
       "<defs>\n",
       "  <clipPath id=\"clip0902\">\n",
       "    <rect x=\"148\" y=\"47\" width=\"2205\" height=\"1440\"/>\n",
       "  </clipPath>\n",
       "</defs>\n",
       "<path clip-path=\"url(#clip0902)\" d=\"\n",
       "M148.334 1401.43 L148.334 302.298 L955.209 47.2441 L2352.76 132.262 L2352.76 1231.39 L1545.88 1486.45 L148.334 1401.43  Z\n",
       "  \" fill=\"#ffffff\" fill-rule=\"evenodd\" fill-opacity=\"1\"/>\n",
       "<polyline clip-path=\"url(#clip0902)\" style=\"stroke:#000000; stroke-width:2; stroke-opacity:0.1; fill:none\" points=\"\n",
       "  148.334,1401.43 955.209,1146.38 \n",
       "  \"/>\n",
       "<polyline clip-path=\"url(#clip0902)\" style=\"stroke:#000000; stroke-width:2; stroke-opacity:0.1; fill:none\" points=\"\n",
       "  955.209,1146.38 955.209,47.2441 \n",
       "  \"/>\n",
       "<polyline clip-path=\"url(#clip0902)\" style=\"stroke:#000000; stroke-width:2; stroke-opacity:0.1; fill:none\" points=\"\n",
       "  427.844,1418.43 1234.72,1163.38 \n",
       "  \"/>\n",
       "<polyline clip-path=\"url(#clip0902)\" style=\"stroke:#000000; stroke-width:2; stroke-opacity:0.1; fill:none\" points=\"\n",
       "  1234.72,1163.38 1234.72,64.2477 \n",
       "  \"/>\n",
       "<polyline clip-path=\"url(#clip0902)\" style=\"stroke:#000000; stroke-width:2; stroke-opacity:0.1; fill:none\" points=\"\n",
       "  707.353,1435.44 1514.23,1180.38 \n",
       "  \"/>\n",
       "<polyline clip-path=\"url(#clip0902)\" style=\"stroke:#000000; stroke-width:2; stroke-opacity:0.1; fill:none\" points=\"\n",
       "  1514.23,1180.38 1514.23,81.2513 \n",
       "  \"/>\n",
       "<polyline clip-path=\"url(#clip0902)\" style=\"stroke:#000000; stroke-width:2; stroke-opacity:0.1; fill:none\" points=\"\n",
       "  986.863,1452.44 1793.74,1197.39 \n",
       "  \"/>\n",
       "<polyline clip-path=\"url(#clip0902)\" style=\"stroke:#000000; stroke-width:2; stroke-opacity:0.1; fill:none\" points=\"\n",
       "  1793.74,1197.39 1793.74,98.255 \n",
       "  \"/>\n",
       "<polyline clip-path=\"url(#clip0902)\" style=\"stroke:#000000; stroke-width:2; stroke-opacity:0.1; fill:none\" points=\"\n",
       "  1266.37,1469.44 2073.25,1214.39 \n",
       "  \"/>\n",
       "<polyline clip-path=\"url(#clip0902)\" style=\"stroke:#000000; stroke-width:2; stroke-opacity:0.1; fill:none\" points=\"\n",
       "  2073.25,1214.39 2073.25,115.259 \n",
       "  \"/>\n",
       "<polyline clip-path=\"url(#clip0902)\" style=\"stroke:#000000; stroke-width:2; stroke-opacity:0.1; fill:none\" points=\"\n",
       "  1545.88,1486.45 2352.76,1231.39 \n",
       "  \"/>\n",
       "<polyline clip-path=\"url(#clip0902)\" style=\"stroke:#000000; stroke-width:2; stroke-opacity:0.1; fill:none\" points=\"\n",
       "  2352.76,1231.39 2352.76,132.262 \n",
       "  \"/>\n",
       "<polyline clip-path=\"url(#clip0902)\" style=\"stroke:#000000; stroke-width:2; stroke-opacity:0.1; fill:none\" points=\"\n",
       "  1545.88,1486.45 148.334,1401.43 \n",
       "  \"/>\n",
       "<polyline clip-path=\"url(#clip0902)\" style=\"stroke:#000000; stroke-width:2; stroke-opacity:0.1; fill:none\" points=\"\n",
       "  148.334,1401.43 148.334,302.298 \n",
       "  \"/>\n",
       "<polyline clip-path=\"url(#clip0902)\" style=\"stroke:#000000; stroke-width:2; stroke-opacity:0.1; fill:none\" points=\"\n",
       "  1707.26,1435.44 309.709,1350.42 \n",
       "  \"/>\n",
       "<polyline clip-path=\"url(#clip0902)\" style=\"stroke:#000000; stroke-width:2; stroke-opacity:0.1; fill:none\" points=\"\n",
       "  309.709,1350.42 309.709,251.288 \n",
       "  \"/>\n",
       "<polyline clip-path=\"url(#clip0902)\" style=\"stroke:#000000; stroke-width:2; stroke-opacity:0.1; fill:none\" points=\"\n",
       "  1868.63,1384.43 471.084,1299.41 \n",
       "  \"/>\n",
       "<polyline clip-path=\"url(#clip0902)\" style=\"stroke:#000000; stroke-width:2; stroke-opacity:0.1; fill:none\" points=\"\n",
       "  471.084,1299.41 471.084,200.277 \n",
       "  \"/>\n",
       "<polyline clip-path=\"url(#clip0902)\" style=\"stroke:#000000; stroke-width:2; stroke-opacity:0.1; fill:none\" points=\"\n",
       "  2030.01,1333.42 632.459,1248.4 \n",
       "  \"/>\n",
       "<polyline clip-path=\"url(#clip0902)\" style=\"stroke:#000000; stroke-width:2; stroke-opacity:0.1; fill:none\" points=\"\n",
       "  632.459,1248.4 632.459,149.266 \n",
       "  \"/>\n",
       "<polyline clip-path=\"url(#clip0902)\" style=\"stroke:#000000; stroke-width:2; stroke-opacity:0.1; fill:none\" points=\"\n",
       "  2191.38,1282.4 793.834,1197.39 \n",
       "  \"/>\n",
       "<polyline clip-path=\"url(#clip0902)\" style=\"stroke:#000000; stroke-width:2; stroke-opacity:0.1; fill:none\" points=\"\n",
       "  793.834,1197.39 793.834,98.255 \n",
       "  \"/>\n",
       "<polyline clip-path=\"url(#clip0902)\" style=\"stroke:#000000; stroke-width:2; stroke-opacity:0.1; fill:none\" points=\"\n",
       "  2352.76,1231.39 955.209,1146.38 \n",
       "  \"/>\n",
       "<polyline clip-path=\"url(#clip0902)\" style=\"stroke:#000000; stroke-width:2; stroke-opacity:0.1; fill:none\" points=\"\n",
       "  955.209,1146.38 955.209,47.2441 \n",
       "  \"/>\n",
       "<polyline clip-path=\"url(#clip0902)\" style=\"stroke:#000000; stroke-width:2; stroke-opacity:0.1; fill:none\" points=\"\n",
       "  148.334,1401.43 955.209,1146.38 \n",
       "  \"/>\n",
       "<polyline clip-path=\"url(#clip0902)\" style=\"stroke:#000000; stroke-width:2; stroke-opacity:0.1; fill:none\" points=\"\n",
       "  955.209,1146.38 2352.76,1231.39 \n",
       "  \"/>\n",
       "<polyline clip-path=\"url(#clip0902)\" style=\"stroke:#000000; stroke-width:2; stroke-opacity:0.1; fill:none\" points=\"\n",
       "  148.334,1181.6 955.209,926.549 \n",
       "  \"/>\n",
       "<polyline clip-path=\"url(#clip0902)\" style=\"stroke:#000000; stroke-width:2; stroke-opacity:0.1; fill:none\" points=\"\n",
       "  955.209,926.549 2352.76,1011.57 \n",
       "  \"/>\n",
       "<polyline clip-path=\"url(#clip0902)\" style=\"stroke:#000000; stroke-width:2; stroke-opacity:0.1; fill:none\" points=\"\n",
       "  148.334,961.777 955.209,706.723 \n",
       "  \"/>\n",
       "<polyline clip-path=\"url(#clip0902)\" style=\"stroke:#000000; stroke-width:2; stroke-opacity:0.1; fill:none\" points=\"\n",
       "  955.209,706.723 2352.76,791.741 \n",
       "  \"/>\n",
       "<polyline clip-path=\"url(#clip0902)\" style=\"stroke:#000000; stroke-width:2; stroke-opacity:0.1; fill:none\" points=\"\n",
       "  148.334,741.951 955.209,486.897 \n",
       "  \"/>\n",
       "<polyline clip-path=\"url(#clip0902)\" style=\"stroke:#000000; stroke-width:2; stroke-opacity:0.1; fill:none\" points=\"\n",
       "  955.209,486.897 2352.76,571.915 \n",
       "  \"/>\n",
       "<polyline clip-path=\"url(#clip0902)\" style=\"stroke:#000000; stroke-width:2; stroke-opacity:0.1; fill:none\" points=\"\n",
       "  148.334,522.125 955.209,267.07 \n",
       "  \"/>\n",
       "<polyline clip-path=\"url(#clip0902)\" style=\"stroke:#000000; stroke-width:2; stroke-opacity:0.1; fill:none\" points=\"\n",
       "  955.209,267.07 2352.76,352.088 \n",
       "  \"/>\n",
       "<polyline clip-path=\"url(#clip0902)\" style=\"stroke:#000000; stroke-width:2; stroke-opacity:0.1; fill:none\" points=\"\n",
       "  148.334,302.298 955.209,47.2441 \n",
       "  \"/>\n",
       "<polyline clip-path=\"url(#clip0902)\" style=\"stroke:#000000; stroke-width:2; stroke-opacity:0.1; fill:none\" points=\"\n",
       "  955.209,47.2441 2352.76,132.262 \n",
       "  \"/>\n",
       "<polyline clip-path=\"url(#clip0900)\" style=\"stroke:#000000; stroke-width:4; stroke-opacity:1; fill:none\" points=\"\n",
       "  148.334,1401.43 1545.88,1486.45 \n",
       "  \"/>\n",
       "<polyline clip-path=\"url(#clip0900)\" style=\"stroke:#000000; stroke-width:4; stroke-opacity:1; fill:none\" points=\"\n",
       "  1545.88,1486.45 2352.76,1231.39 \n",
       "  \"/>\n",
       "<polyline clip-path=\"url(#clip0900)\" style=\"stroke:#000000; stroke-width:4; stroke-opacity:1; fill:none\" points=\"\n",
       "  148.334,1401.43 148.334,302.298 \n",
       "  \"/>\n",
       "<polyline clip-path=\"url(#clip0900)\" style=\"stroke:#000000; stroke-width:4; stroke-opacity:1; fill:none\" points=\"\n",
       "  148.334,1401.43 158.017,1398.37 \n",
       "  \"/>\n",
       "<polyline clip-path=\"url(#clip0900)\" style=\"stroke:#000000; stroke-width:4; stroke-opacity:1; fill:none\" points=\"\n",
       "  427.844,1418.43 437.526,1415.37 \n",
       "  \"/>\n",
       "<polyline clip-path=\"url(#clip0900)\" style=\"stroke:#000000; stroke-width:4; stroke-opacity:1; fill:none\" points=\"\n",
       "  707.353,1435.44 717.036,1432.38 \n",
       "  \"/>\n",
       "<polyline clip-path=\"url(#clip0900)\" style=\"stroke:#000000; stroke-width:4; stroke-opacity:1; fill:none\" points=\"\n",
       "  986.863,1452.44 996.545,1449.38 \n",
       "  \"/>\n",
       "<polyline clip-path=\"url(#clip0900)\" style=\"stroke:#000000; stroke-width:4; stroke-opacity:1; fill:none\" points=\"\n",
       "  1266.37,1469.44 1276.05,1466.38 \n",
       "  \"/>\n",
       "<polyline clip-path=\"url(#clip0900)\" style=\"stroke:#000000; stroke-width:4; stroke-opacity:1; fill:none\" points=\"\n",
       "  1545.88,1486.45 1555.56,1483.39 \n",
       "  \"/>\n",
       "<polyline clip-path=\"url(#clip0900)\" style=\"stroke:#000000; stroke-width:4; stroke-opacity:1; fill:none\" points=\"\n",
       "  1545.88,1486.45 1529.11,1485.43 \n",
       "  \"/>\n",
       "<polyline clip-path=\"url(#clip0900)\" style=\"stroke:#000000; stroke-width:4; stroke-opacity:1; fill:none\" points=\"\n",
       "  1707.26,1435.44 1690.49,1434.42 \n",
       "  \"/>\n",
       "<polyline clip-path=\"url(#clip0900)\" style=\"stroke:#000000; stroke-width:4; stroke-opacity:1; fill:none\" points=\"\n",
       "  1868.63,1384.43 1851.86,1383.41 \n",
       "  \"/>\n",
       "<polyline clip-path=\"url(#clip0900)\" style=\"stroke:#000000; stroke-width:4; stroke-opacity:1; fill:none\" points=\"\n",
       "  2030.01,1333.42 2013.24,1332.4 \n",
       "  \"/>\n",
       "<polyline clip-path=\"url(#clip0900)\" style=\"stroke:#000000; stroke-width:4; stroke-opacity:1; fill:none\" points=\"\n",
       "  2191.38,1282.4 2174.61,1281.38 \n",
       "  \"/>\n",
       "<polyline clip-path=\"url(#clip0900)\" style=\"stroke:#000000; stroke-width:4; stroke-opacity:1; fill:none\" points=\"\n",
       "  2352.76,1231.39 2335.99,1230.37 \n",
       "  \"/>\n",
       "<polyline clip-path=\"url(#clip0900)\" style=\"stroke:#000000; stroke-width:4; stroke-opacity:1; fill:none\" points=\"\n",
       "  148.334,1401.43 158.017,1398.37 \n",
       "  \"/>\n",
       "<polyline clip-path=\"url(#clip0900)\" style=\"stroke:#000000; stroke-width:4; stroke-opacity:1; fill:none\" points=\"\n",
       "  148.334,1181.6 158.017,1178.54 \n",
       "  \"/>\n",
       "<polyline clip-path=\"url(#clip0900)\" style=\"stroke:#000000; stroke-width:4; stroke-opacity:1; fill:none\" points=\"\n",
       "  148.334,961.777 158.017,958.717 \n",
       "  \"/>\n",
       "<polyline clip-path=\"url(#clip0900)\" style=\"stroke:#000000; stroke-width:4; stroke-opacity:1; fill:none\" points=\"\n",
       "  148.334,741.951 158.017,738.89 \n",
       "  \"/>\n",
       "<polyline clip-path=\"url(#clip0900)\" style=\"stroke:#000000; stroke-width:4; stroke-opacity:1; fill:none\" points=\"\n",
       "  148.334,522.125 158.017,519.064 \n",
       "  \"/>\n",
       "<polyline clip-path=\"url(#clip0900)\" style=\"stroke:#000000; stroke-width:4; stroke-opacity:1; fill:none\" points=\"\n",
       "  148.334,302.298 158.017,299.238 \n",
       "  \"/>\n",
       "<path clip-path=\"url(#clip0900)\" d=\"M 0 0 M105.851 1423.42 Q102.24 1423.42 100.411 1426.99 Q98.6054 1430.53 98.6054 1437.66 Q98.6054 1444.76 100.411 1448.33 Q102.24 1451.87 105.851 1451.87 Q109.485 1451.87 111.29 1448.33 Q113.119 1444.76 113.119 1437.66 Q113.119 1430.53 111.29 1426.99 Q109.485 1423.42 105.851 1423.42 M105.851 1419.72 Q111.661 1419.72 114.716 1424.32 Q117.795 1428.91 117.795 1437.66 Q117.795 1446.38 114.716 1450.99 Q111.661 1455.57 105.851 1455.57 Q100.041 1455.57 96.9619 1450.99 Q93.9063 1446.38 93.9063 1437.66 Q93.9063 1428.91 96.9619 1424.32 Q100.041 1419.72 105.851 1419.72 Z\" fill=\"#000000\" fill-rule=\"evenodd\" fill-opacity=\"1\" /><path clip-path=\"url(#clip0900)\" d=\"M 0 0 M122.864 1449.02 L127.749 1449.02 L127.749 1454.9 L122.864 1454.9 L122.864 1449.02 Z\" fill=\"#000000\" fill-rule=\"evenodd\" fill-opacity=\"1\" /><path clip-path=\"url(#clip0900)\" d=\"M 0 0 M142.818 1423.42 Q139.207 1423.42 137.378 1426.99 Q135.573 1430.53 135.573 1437.66 Q135.573 1444.76 137.378 1448.33 Q139.207 1451.87 142.818 1451.87 Q146.452 1451.87 148.258 1448.33 Q150.087 1444.76 150.087 1437.66 Q150.087 1430.53 148.258 1426.99 Q146.452 1423.42 142.818 1423.42 M142.818 1419.72 Q148.628 1419.72 151.684 1424.32 Q154.762 1428.91 154.762 1437.66 Q154.762 1446.38 151.684 1450.99 Q148.628 1455.57 142.818 1455.57 Q137.008 1455.57 133.929 1450.99 Q130.874 1446.38 130.874 1437.66 Q130.874 1428.91 133.929 1424.32 Q137.008 1419.72 142.818 1419.72 Z\" fill=\"#000000\" fill-rule=\"evenodd\" fill-opacity=\"1\" /><path clip-path=\"url(#clip0900)\" d=\"M 0 0 M386.159 1440.42 Q382.548 1440.42 380.719 1443.99 Q378.913 1447.53 378.913 1454.66 Q378.913 1461.77 380.719 1465.33 Q382.548 1468.87 386.159 1468.87 Q389.793 1468.87 391.599 1465.33 Q393.427 1461.77 393.427 1454.66 Q393.427 1447.53 391.599 1443.99 Q389.793 1440.42 386.159 1440.42 M386.159 1436.72 Q391.969 1436.72 395.024 1441.33 Q398.103 1445.91 398.103 1454.66 Q398.103 1463.39 395.024 1467.99 Q391.969 1472.58 386.159 1472.58 Q380.349 1472.58 377.27 1467.99 Q374.214 1463.39 374.214 1454.66 Q374.214 1445.91 377.27 1441.33 Q380.349 1436.72 386.159 1436.72 Z\" fill=\"#000000\" fill-rule=\"evenodd\" fill-opacity=\"1\" /><path clip-path=\"url(#clip0900)\" d=\"M 0 0 M403.173 1466.03 L408.057 1466.03 L408.057 1471.91 L403.173 1471.91 L403.173 1466.03 Z\" fill=\"#000000\" fill-rule=\"evenodd\" fill-opacity=\"1\" /><path clip-path=\"url(#clip0900)\" d=\"M 0 0 M417.154 1467.97 L433.473 1467.97 L433.473 1471.91 L411.529 1471.91 L411.529 1467.97 Q414.191 1465.22 418.774 1460.59 Q423.381 1455.93 424.561 1454.59 Q426.807 1452.07 427.686 1450.33 Q428.589 1448.57 428.589 1446.88 Q428.589 1444.13 426.645 1442.39 Q424.723 1440.66 421.622 1440.66 Q419.422 1440.66 416.969 1441.42 Q414.538 1442.18 411.76 1443.73 L411.76 1439.01 Q414.585 1437.88 417.038 1437.3 Q419.492 1436.72 421.529 1436.72 Q426.899 1436.72 430.094 1439.41 Q433.288 1442.09 433.288 1446.58 Q433.288 1448.71 432.478 1450.63 Q431.691 1452.53 429.584 1455.12 Q429.006 1455.79 425.904 1459.01 Q422.802 1462.21 417.154 1467.97 Z\" fill=\"#000000\" fill-rule=\"evenodd\" fill-opacity=\"1\" /><path clip-path=\"url(#clip0900)\" d=\"M 0 0 M664.627 1457.43 Q661.015 1457.43 659.187 1460.99 Q657.381 1464.53 657.381 1471.66 Q657.381 1478.77 659.187 1482.33 Q661.015 1485.88 664.627 1485.88 Q668.261 1485.88 670.066 1482.33 Q671.895 1478.77 671.895 1471.66 Q671.895 1464.53 670.066 1460.99 Q668.261 1457.43 664.627 1457.43 M664.627 1453.72 Q670.437 1453.72 673.492 1458.33 Q676.571 1462.91 676.571 1471.66 Q676.571 1480.39 673.492 1485 Q670.437 1489.58 664.627 1489.58 Q658.816 1489.58 655.738 1485 Q652.682 1480.39 652.682 1471.66 Q652.682 1462.91 655.738 1458.33 Q658.816 1453.72 664.627 1453.72 Z\" fill=\"#000000\" fill-rule=\"evenodd\" fill-opacity=\"1\" /><path clip-path=\"url(#clip0900)\" d=\"M 0 0 M681.64 1483.03 L686.525 1483.03 L686.525 1488.91 L681.64 1488.91 L681.64 1483.03 Z\" fill=\"#000000\" fill-rule=\"evenodd\" fill-opacity=\"1\" /><path clip-path=\"url(#clip0900)\" d=\"M 0 0 M704.441 1458.42 L692.636 1476.87 L704.441 1476.87 L704.441 1458.42 M703.214 1454.35 L709.094 1454.35 L709.094 1476.87 L714.024 1476.87 L714.024 1480.76 L709.094 1480.76 L709.094 1488.91 L704.441 1488.91 L704.441 1480.76 L688.839 1480.76 L688.839 1476.25 L703.214 1454.35 Z\" fill=\"#000000\" fill-rule=\"evenodd\" fill-opacity=\"1\" /><path clip-path=\"url(#clip0900)\" d=\"M 0 0 M944.298 1474.43 Q940.687 1474.43 938.858 1478 Q937.053 1481.54 937.053 1488.67 Q937.053 1495.77 938.858 1499.34 Q940.687 1502.88 944.298 1502.88 Q947.932 1502.88 949.738 1499.34 Q951.566 1495.77 951.566 1488.67 Q951.566 1481.54 949.738 1478 Q947.932 1474.43 944.298 1474.43 M944.298 1470.73 Q950.108 1470.73 953.164 1475.33 Q956.242 1479.92 956.242 1488.67 Q956.242 1497.39 953.164 1502 Q950.108 1506.58 944.298 1506.58 Q938.488 1506.58 935.409 1502 Q932.354 1497.39 932.354 1488.67 Q932.354 1479.92 935.409 1475.33 Q938.488 1470.73 944.298 1470.73 Z\" fill=\"#000000\" fill-rule=\"evenodd\" fill-opacity=\"1\" /><path clip-path=\"url(#clip0900)\" d=\"M 0 0 M961.312 1500.03 L966.196 1500.03 L966.196 1505.91 L961.312 1505.91 L961.312 1500.03 Z\" fill=\"#000000\" fill-rule=\"evenodd\" fill-opacity=\"1\" /><path clip-path=\"url(#clip0900)\" d=\"M 0 0 M981.844 1486.77 Q978.696 1486.77 976.844 1488.92 Q975.015 1491.07 975.015 1494.82 Q975.015 1498.55 976.844 1500.73 Q978.696 1502.88 981.844 1502.88 Q984.992 1502.88 986.821 1500.73 Q988.673 1498.55 988.673 1494.82 Q988.673 1491.07 986.821 1488.92 Q984.992 1486.77 981.844 1486.77 M991.126 1472.12 L991.126 1476.38 Q989.367 1475.54 987.562 1475.1 Q985.779 1474.66 984.02 1474.66 Q979.39 1474.66 976.937 1477.79 Q974.506 1480.91 974.159 1487.23 Q975.525 1485.22 977.585 1484.15 Q979.645 1483.07 982.122 1483.07 Q987.33 1483.07 990.339 1486.24 Q993.372 1489.38 993.372 1494.82 Q993.372 1500.15 990.224 1503.37 Q987.076 1506.58 981.844 1506.58 Q975.849 1506.58 972.677 1502 Q969.506 1497.39 969.506 1488.67 Q969.506 1480.47 973.395 1475.61 Q977.284 1470.73 983.835 1470.73 Q985.594 1470.73 987.376 1471.07 Q989.182 1471.42 991.126 1472.12 Z\" fill=\"#000000\" fill-rule=\"evenodd\" fill-opacity=\"1\" /><path clip-path=\"url(#clip0900)\" d=\"M 0 0 M1223.93 1491.43 Q1220.32 1491.43 1218.49 1495 Q1216.69 1498.54 1216.69 1505.67 Q1216.69 1512.78 1218.49 1516.34 Q1220.32 1519.88 1223.93 1519.88 Q1227.57 1519.88 1229.37 1516.34 Q1231.2 1512.78 1231.2 1505.67 Q1231.2 1498.54 1229.37 1495 Q1227.57 1491.43 1223.93 1491.43 M1223.93 1487.73 Q1229.74 1487.73 1232.8 1492.34 Q1235.88 1496.92 1235.88 1505.67 Q1235.88 1514.4 1232.8 1519 Q1229.74 1523.59 1223.93 1523.59 Q1218.12 1523.59 1215.05 1519 Q1211.99 1514.4 1211.99 1505.67 Q1211.99 1496.92 1215.05 1492.34 Q1218.12 1487.73 1223.93 1487.73 Z\" fill=\"#000000\" fill-rule=\"evenodd\" fill-opacity=\"1\" /><path clip-path=\"url(#clip0900)\" d=\"M 0 0 M1240.95 1517.04 L1245.83 1517.04 L1245.83 1522.92 L1240.95 1522.92 L1240.95 1517.04 Z\" fill=\"#000000\" fill-rule=\"evenodd\" fill-opacity=\"1\" /><path clip-path=\"url(#clip0900)\" d=\"M 0 0 M1260.9 1506.5 Q1257.57 1506.5 1255.65 1508.29 Q1253.75 1510.07 1253.75 1513.19 Q1253.75 1516.32 1255.65 1518.1 Q1257.57 1519.88 1260.9 1519.88 Q1264.24 1519.88 1266.16 1518.1 Q1268.08 1516.3 1268.08 1513.19 Q1268.08 1510.07 1266.16 1508.29 Q1264.26 1506.5 1260.9 1506.5 M1256.23 1504.51 Q1253.22 1503.77 1251.53 1501.71 Q1249.86 1499.65 1249.86 1496.69 Q1249.86 1492.55 1252.8 1490.14 Q1255.76 1487.73 1260.9 1487.73 Q1266.06 1487.73 1269 1490.14 Q1271.94 1492.55 1271.94 1496.69 Q1271.94 1499.65 1270.25 1501.71 Q1268.59 1503.77 1265.6 1504.51 Q1268.98 1505.3 1270.86 1507.59 Q1272.75 1509.88 1272.75 1513.19 Q1272.75 1518.22 1269.68 1520.9 Q1266.62 1523.59 1260.9 1523.59 Q1255.18 1523.59 1252.11 1520.9 Q1249.05 1518.22 1249.05 1513.19 Q1249.05 1509.88 1250.95 1507.59 Q1252.85 1505.3 1256.23 1504.51 M1254.51 1497.13 Q1254.51 1499.81 1256.18 1501.32 Q1257.87 1502.82 1260.9 1502.82 Q1263.91 1502.82 1265.6 1501.32 Q1267.31 1499.81 1267.31 1497.13 Q1267.31 1494.44 1265.6 1492.94 Q1263.91 1491.43 1260.9 1491.43 Q1257.87 1491.43 1256.18 1492.94 Q1254.51 1494.44 1254.51 1497.13 Z\" fill=\"#000000\" fill-rule=\"evenodd\" fill-opacity=\"1\" /><path clip-path=\"url(#clip0900)\" d=\"M 0 0 M1493.78 1535.98 L1501.42 1535.98 L1501.42 1509.62 L1493.11 1511.29 L1493.11 1507.03 L1501.37 1505.36 L1506.05 1505.36 L1506.05 1535.98 L1513.69 1535.98 L1513.69 1539.92 L1493.78 1539.92 L1493.78 1535.98 Z\" fill=\"#000000\" fill-rule=\"evenodd\" fill-opacity=\"1\" /><path clip-path=\"url(#clip0900)\" d=\"M 0 0 M1518.76 1534.04 L1523.64 1534.04 L1523.64 1539.92 L1518.76 1539.92 L1518.76 1534.04 Z\" fill=\"#000000\" fill-rule=\"evenodd\" fill-opacity=\"1\" /><path clip-path=\"url(#clip0900)\" d=\"M 0 0 M1538.71 1508.44 Q1535.1 1508.44 1533.27 1512 Q1531.46 1515.55 1531.46 1522.67 Q1531.46 1529.78 1533.27 1533.35 Q1535.1 1536.89 1538.71 1536.89 Q1542.34 1536.89 1544.15 1533.35 Q1545.98 1529.78 1545.98 1522.67 Q1545.98 1515.55 1544.15 1512 Q1542.34 1508.44 1538.71 1508.44 M1538.71 1504.73 Q1544.52 1504.73 1547.58 1509.34 Q1550.65 1513.92 1550.65 1522.67 Q1550.65 1531.4 1547.58 1536.01 Q1544.52 1540.59 1538.71 1540.59 Q1532.9 1540.59 1529.82 1536.01 Q1526.77 1531.4 1526.77 1522.67 Q1526.77 1513.92 1529.82 1509.34 Q1532.9 1504.73 1538.71 1504.73 Z\" fill=\"#000000\" fill-rule=\"evenodd\" fill-opacity=\"1\" /><path clip-path=\"url(#clip0900)\" d=\"M 0 0 M1551.4 1508.44 Q1547.79 1508.44 1545.96 1512 Q1544.15 1515.55 1544.15 1522.67 Q1544.15 1529.78 1545.96 1533.35 Q1547.79 1536.89 1551.4 1536.89 Q1555.03 1536.89 1556.84 1533.35 Q1558.67 1529.78 1558.67 1522.67 Q1558.67 1515.55 1556.84 1512 Q1555.03 1508.44 1551.4 1508.44 M1551.4 1504.73 Q1557.21 1504.73 1560.26 1509.34 Q1563.34 1513.92 1563.34 1522.67 Q1563.34 1531.4 1560.26 1536.01 Q1557.21 1540.59 1551.4 1540.59 Q1545.59 1540.59 1542.51 1536.01 Q1539.45 1531.4 1539.45 1522.67 Q1539.45 1513.92 1542.51 1509.34 Q1545.59 1504.73 1551.4 1504.73 Z\" fill=\"#000000\" fill-rule=\"evenodd\" fill-opacity=\"1\" /><path clip-path=\"url(#clip0900)\" d=\"M 0 0 M1568.41 1534.04 L1573.3 1534.04 L1573.3 1539.92 L1568.41 1539.92 L1568.41 1534.04 Z\" fill=\"#000000\" fill-rule=\"evenodd\" fill-opacity=\"1\" /><path clip-path=\"url(#clip0900)\" d=\"M 0 0 M1588.37 1508.44 Q1584.75 1508.44 1582.93 1512 Q1581.12 1515.55 1581.12 1522.67 Q1581.12 1529.78 1582.93 1533.35 Q1584.75 1536.89 1588.37 1536.89 Q1592 1536.89 1593.81 1533.35 Q1595.63 1529.78 1595.63 1522.67 Q1595.63 1515.55 1593.81 1512 Q1592 1508.44 1588.37 1508.44 M1588.37 1504.73 Q1594.18 1504.73 1597.23 1509.34 Q1600.31 1513.92 1600.31 1522.67 Q1600.31 1531.4 1597.23 1536.01 Q1594.18 1540.59 1588.37 1540.59 Q1582.56 1540.59 1579.48 1536.01 Q1576.42 1531.4 1576.42 1522.67 Q1576.42 1513.92 1579.48 1509.34 Q1582.56 1504.73 1588.37 1504.73 Z\" fill=\"#000000\" fill-rule=\"evenodd\" fill-opacity=\"1\" /><path clip-path=\"url(#clip0900)\" d=\"M 0 0 M1713.57 1457.43 Q1709.96 1457.43 1708.13 1460.99 Q1706.33 1464.53 1706.33 1471.66 Q1706.33 1478.77 1708.13 1482.33 Q1709.96 1485.88 1713.57 1485.88 Q1717.21 1485.88 1719.01 1482.33 Q1720.84 1478.77 1720.84 1471.66 Q1720.84 1464.53 1719.01 1460.99 Q1717.21 1457.43 1713.57 1457.43 M1713.57 1453.72 Q1719.38 1453.72 1722.44 1458.33 Q1725.52 1462.91 1725.52 1471.66 Q1725.52 1480.39 1722.44 1485 Q1719.38 1489.58 1713.57 1489.58 Q1707.76 1489.58 1704.68 1485 Q1701.63 1480.39 1701.63 1471.66 Q1701.63 1462.91 1704.68 1458.33 Q1707.76 1453.72 1713.57 1453.72 Z\" fill=\"#000000\" fill-rule=\"evenodd\" fill-opacity=\"1\" /><path clip-path=\"url(#clip0900)\" d=\"M 0 0 M1730.59 1483.03 L1735.47 1483.03 L1735.47 1488.91 L1730.59 1488.91 L1730.59 1483.03 Z\" fill=\"#000000\" fill-rule=\"evenodd\" fill-opacity=\"1\" /><path clip-path=\"url(#clip0900)\" d=\"M 0 0 M1744.57 1484.97 L1760.89 1484.97 L1760.89 1488.91 L1738.94 1488.91 L1738.94 1484.97 Q1741.6 1482.22 1746.19 1477.59 Q1750.79 1472.94 1751.97 1471.59 Q1754.22 1469.07 1755.1 1467.34 Q1756 1465.58 1756 1463.89 Q1756 1461.13 1754.06 1459.4 Q1752.14 1457.66 1749.03 1457.66 Q1746.84 1457.66 1744.38 1458.42 Q1741.95 1459.19 1739.17 1460.74 L1739.17 1456.02 Q1742 1454.88 1744.45 1454.3 Q1746.9 1453.72 1748.94 1453.72 Q1754.31 1453.72 1757.51 1456.41 Q1760.7 1459.09 1760.7 1463.59 Q1760.7 1465.71 1759.89 1467.64 Q1759.1 1469.53 1757 1472.13 Q1756.42 1472.8 1753.32 1476.02 Q1750.21 1479.21 1744.57 1484.97 Z\" fill=\"#000000\" fill-rule=\"evenodd\" fill-opacity=\"1\" /><path clip-path=\"url(#clip0900)\" d=\"M 0 0 M1873.9 1406.42 Q1870.29 1406.42 1868.46 1409.98 Q1866.66 1413.52 1866.66 1420.65 Q1866.66 1427.76 1868.46 1431.32 Q1870.29 1434.87 1873.9 1434.87 Q1877.54 1434.87 1879.34 1431.32 Q1881.17 1427.76 1881.17 1420.65 Q1881.17 1413.52 1879.34 1409.98 Q1877.54 1406.42 1873.9 1406.42 M1873.9 1402.71 Q1879.71 1402.71 1882.77 1407.32 Q1885.85 1411.9 1885.85 1420.65 Q1885.85 1429.38 1882.77 1433.99 Q1879.71 1438.57 1873.9 1438.57 Q1868.09 1438.57 1865.02 1433.99 Q1861.96 1429.38 1861.96 1420.65 Q1861.96 1411.9 1865.02 1407.32 Q1868.09 1402.71 1873.9 1402.71 Z\" fill=\"#000000\" fill-rule=\"evenodd\" fill-opacity=\"1\" /><path clip-path=\"url(#clip0900)\" d=\"M 0 0 M1890.92 1432.02 L1895.8 1432.02 L1895.8 1437.9 L1890.92 1437.9 L1890.92 1432.02 Z\" fill=\"#000000\" fill-rule=\"evenodd\" fill-opacity=\"1\" /><path clip-path=\"url(#clip0900)\" d=\"M 0 0 M1913.72 1407.41 L1901.91 1425.86 L1913.72 1425.86 L1913.72 1407.41 M1912.49 1403.34 L1918.37 1403.34 L1918.37 1425.86 L1923.3 1425.86 L1923.3 1429.75 L1918.37 1429.75 L1918.37 1437.9 L1913.72 1437.9 L1913.72 1429.75 L1898.12 1429.75 L1898.12 1425.24 L1912.49 1403.34 Z\" fill=\"#000000\" fill-rule=\"evenodd\" fill-opacity=\"1\" /><path clip-path=\"url(#clip0900)\" d=\"M 0 0 M2035.44 1355.41 Q2031.83 1355.41 2030 1358.97 Q2028.2 1362.51 2028.2 1369.64 Q2028.2 1376.75 2030 1380.31 Q2031.83 1383.85 2035.44 1383.85 Q2039.08 1383.85 2040.88 1380.31 Q2042.71 1376.75 2042.71 1369.64 Q2042.71 1362.51 2040.88 1358.97 Q2039.08 1355.41 2035.44 1355.41 M2035.44 1351.7 Q2041.25 1351.7 2044.31 1356.31 Q2047.39 1360.89 2047.39 1369.64 Q2047.39 1378.37 2044.31 1382.98 Q2041.25 1387.56 2035.44 1387.56 Q2029.63 1387.56 2026.55 1382.98 Q2023.5 1378.37 2023.5 1369.64 Q2023.5 1360.89 2026.55 1356.31 Q2029.63 1351.7 2035.44 1351.7 Z\" fill=\"#000000\" fill-rule=\"evenodd\" fill-opacity=\"1\" /><path clip-path=\"url(#clip0900)\" d=\"M 0 0 M2052.46 1381.01 L2057.34 1381.01 L2057.34 1386.89 L2052.46 1386.89 L2052.46 1381.01 Z\" fill=\"#000000\" fill-rule=\"evenodd\" fill-opacity=\"1\" /><path clip-path=\"url(#clip0900)\" d=\"M 0 0 M2072.99 1367.74 Q2069.84 1367.74 2067.99 1369.9 Q2066.16 1372.05 2066.16 1375.8 Q2066.16 1379.53 2067.99 1381.7 Q2069.84 1383.85 2072.99 1383.85 Q2076.14 1383.85 2077.96 1381.7 Q2079.82 1379.53 2079.82 1375.8 Q2079.82 1372.05 2077.96 1369.9 Q2076.14 1367.74 2072.99 1367.74 M2082.27 1353.09 L2082.27 1357.35 Q2080.51 1356.52 2078.71 1356.08 Q2076.92 1355.64 2075.16 1355.64 Q2070.53 1355.64 2068.08 1358.76 Q2065.65 1361.89 2065.3 1368.21 Q2066.67 1366.19 2068.73 1365.13 Q2070.79 1364.04 2073.27 1364.04 Q2078.47 1364.04 2081.48 1367.21 Q2084.52 1370.36 2084.52 1375.8 Q2084.52 1381.12 2081.37 1384.34 Q2078.22 1387.56 2072.99 1387.56 Q2066.99 1387.56 2063.82 1382.98 Q2060.65 1378.37 2060.65 1369.64 Q2060.65 1361.45 2064.54 1356.59 Q2068.43 1351.7 2074.98 1351.7 Q2076.74 1351.7 2078.52 1352.05 Q2080.33 1352.4 2082.27 1353.09 Z\" fill=\"#000000\" fill-rule=\"evenodd\" fill-opacity=\"1\" /><path clip-path=\"url(#clip0900)\" d=\"M 0 0 M2196.94 1304.4 Q2193.33 1304.4 2191.5 1307.96 Q2189.7 1311.5 2189.7 1318.63 Q2189.7 1325.74 2191.5 1329.3 Q2193.33 1332.84 2196.94 1332.84 Q2200.58 1332.84 2202.38 1329.3 Q2204.21 1325.74 2204.21 1318.63 Q2204.21 1311.5 2202.38 1307.96 Q2200.58 1304.4 2196.94 1304.4 M2196.94 1300.69 Q2202.75 1300.69 2205.81 1305.3 Q2208.89 1309.88 2208.89 1318.63 Q2208.89 1327.36 2205.81 1331.96 Q2202.75 1336.55 2196.94 1336.55 Q2191.13 1336.55 2188.05 1331.96 Q2185 1327.36 2185 1318.63 Q2185 1309.88 2188.05 1305.3 Q2191.13 1300.69 2196.94 1300.69 Z\" fill=\"#000000\" fill-rule=\"evenodd\" fill-opacity=\"1\" /><path clip-path=\"url(#clip0900)\" d=\"M 0 0 M2213.96 1330 L2218.84 1330 L2218.84 1335.88 L2213.96 1335.88 L2213.96 1330 Z\" fill=\"#000000\" fill-rule=\"evenodd\" fill-opacity=\"1\" /><path clip-path=\"url(#clip0900)\" d=\"M 0 0 M2233.91 1319.46 Q2230.58 1319.46 2228.66 1321.25 Q2226.76 1323.03 2226.76 1326.15 Q2226.76 1329.28 2228.66 1331.06 Q2230.58 1332.84 2233.91 1332.84 Q2237.24 1332.84 2239.17 1331.06 Q2241.09 1329.26 2241.09 1326.15 Q2241.09 1323.03 2239.17 1321.25 Q2237.27 1319.46 2233.91 1319.46 M2229.24 1317.47 Q2226.23 1316.73 2224.54 1314.67 Q2222.87 1312.61 2222.87 1309.65 Q2222.87 1305.51 2225.81 1303.1 Q2228.77 1300.69 2233.91 1300.69 Q2239.07 1300.69 2242.01 1303.1 Q2244.95 1305.51 2244.95 1309.65 Q2244.95 1312.61 2243.26 1314.67 Q2241.6 1316.73 2238.61 1317.47 Q2241.99 1318.26 2243.86 1320.55 Q2245.76 1322.84 2245.76 1326.15 Q2245.76 1331.18 2242.68 1333.86 Q2239.63 1336.55 2233.91 1336.55 Q2228.19 1336.55 2225.11 1333.86 Q2222.06 1331.18 2222.06 1326.15 Q2222.06 1322.84 2223.96 1320.55 Q2225.86 1318.26 2229.24 1317.47 M2227.52 1310.09 Q2227.52 1312.77 2229.19 1314.28 Q2230.88 1315.78 2233.91 1315.78 Q2236.92 1315.78 2238.61 1314.28 Q2240.32 1312.77 2240.32 1310.09 Q2240.32 1307.4 2238.61 1305.9 Q2236.92 1304.4 2233.91 1304.4 Q2230.88 1304.4 2229.19 1305.9 Q2227.52 1307.4 2227.52 1310.09 Z\" fill=\"#000000\" fill-rule=\"evenodd\" fill-opacity=\"1\" /><path clip-path=\"url(#clip0900)\" d=\"M 0 0 M2348.65 1280.93 L2356.29 1280.93 L2356.29 1254.56 L2347.98 1256.23 L2347.98 1251.97 L2356.25 1250.31 L2360.92 1250.31 L2360.92 1280.93 L2368.56 1280.93 L2368.56 1284.87 L2348.65 1284.87 L2348.65 1280.93 Z\" fill=\"#000000\" fill-rule=\"evenodd\" fill-opacity=\"1\" /><path clip-path=\"url(#clip0900)\" d=\"M 0 0 M2373.63 1278.99 L2378.52 1278.99 L2378.52 1284.87 L2373.63 1284.87 L2373.63 1278.99 Z\" fill=\"#000000\" fill-rule=\"evenodd\" fill-opacity=\"1\" /><path clip-path=\"url(#clip0900)\" d=\"M 0 0 M2393.58 1253.38 Q2389.97 1253.38 2388.14 1256.95 Q2386.34 1260.49 2386.34 1267.62 Q2386.34 1274.73 2388.14 1278.29 Q2389.97 1281.83 2393.58 1281.83 Q2397.22 1281.83 2399.02 1278.29 Q2400.85 1274.73 2400.85 1267.62 Q2400.85 1260.49 2399.02 1256.95 Q2397.22 1253.38 2393.58 1253.38 M2393.58 1249.68 Q2399.39 1249.68 2402.45 1254.29 Q2405.53 1258.87 2405.53 1267.62 Q2405.53 1276.35 2402.45 1280.95 Q2399.39 1285.54 2393.58 1285.54 Q2387.77 1285.54 2384.7 1280.95 Q2381.64 1276.35 2381.64 1267.62 Q2381.64 1258.87 2384.7 1254.29 Q2387.77 1249.68 2393.58 1249.68 Z\" fill=\"#000000\" fill-rule=\"evenodd\" fill-opacity=\"1\" /><path clip-path=\"url(#clip0900)\" d=\"M 0 0 M75.4226 1387.23 Q71.8115 1387.23 69.9828 1390.79 Q68.1773 1394.33 68.1773 1401.46 Q68.1773 1408.57 69.9828 1412.14 Q71.8115 1415.68 75.4226 1415.68 Q79.0569 1415.68 80.8624 1412.14 Q82.6911 1408.57 82.6911 1401.46 Q82.6911 1394.33 80.8624 1390.79 Q79.0569 1387.23 75.4226 1387.23 M75.4226 1383.52 Q81.2328 1383.52 84.2883 1388.13 Q87.367 1392.71 87.367 1401.46 Q87.367 1410.19 84.2883 1414.8 Q81.2328 1419.38 75.4226 1419.38 Q69.6125 1419.38 66.5338 1414.8 Q63.4782 1410.19 63.4782 1401.46 Q63.4782 1392.71 66.5338 1388.13 Q69.6125 1383.52 75.4226 1383.52 Z\" fill=\"#000000\" fill-rule=\"evenodd\" fill-opacity=\"1\" /><path clip-path=\"url(#clip0900)\" d=\"M 0 0 M92.4364 1412.83 L97.3206 1412.83 L97.3206 1418.71 L92.4364 1418.71 L92.4364 1412.83 Z\" fill=\"#000000\" fill-rule=\"evenodd\" fill-opacity=\"1\" /><path clip-path=\"url(#clip0900)\" d=\"M 0 0 M112.39 1387.23 Q108.779 1387.23 106.95 1390.79 Q105.145 1394.33 105.145 1401.46 Q105.145 1408.57 106.95 1412.14 Q108.779 1415.68 112.39 1415.68 Q116.024 1415.68 117.83 1412.14 Q119.658 1408.57 119.658 1401.46 Q119.658 1394.33 117.83 1390.79 Q116.024 1387.23 112.39 1387.23 M112.39 1383.52 Q118.2 1383.52 121.256 1388.13 Q124.334 1392.71 124.334 1401.46 Q124.334 1410.19 121.256 1414.8 Q118.2 1419.38 112.39 1419.38 Q106.58 1419.38 103.501 1414.8 Q100.446 1410.19 100.446 1401.46 Q100.446 1392.71 103.501 1388.13 Q106.58 1383.52 112.39 1383.52 Z\" fill=\"#000000\" fill-rule=\"evenodd\" fill-opacity=\"1\" /><path clip-path=\"url(#clip0900)\" d=\"M 0 0 M77.0198 1167.4 Q73.4087 1167.4 71.58 1170.97 Q69.7745 1174.51 69.7745 1181.64 Q69.7745 1188.74 71.58 1192.31 Q73.4087 1195.85 77.0198 1195.85 Q80.6541 1195.85 82.4596 1192.31 Q84.2883 1188.74 84.2883 1181.64 Q84.2883 1174.51 82.4596 1170.97 Q80.6541 1167.4 77.0198 1167.4 M77.0198 1163.7 Q82.83 1163.7 85.8855 1168.3 Q88.9642 1172.89 88.9642 1181.64 Q88.9642 1190.37 85.8855 1194.97 Q82.83 1199.55 77.0198 1199.55 Q71.2097 1199.55 68.131 1194.97 Q65.0754 1190.37 65.0754 1181.64 Q65.0754 1172.89 68.131 1168.3 Q71.2097 1163.7 77.0198 1163.7 Z\" fill=\"#000000\" fill-rule=\"evenodd\" fill-opacity=\"1\" /><path clip-path=\"url(#clip0900)\" d=\"M 0 0 M94.0336 1193 L98.9179 1193 L98.9179 1198.88 L94.0336 1198.88 L94.0336 1193 Z\" fill=\"#000000\" fill-rule=\"evenodd\" fill-opacity=\"1\" /><path clip-path=\"url(#clip0900)\" d=\"M 0 0 M108.015 1194.95 L124.334 1194.95 L124.334 1198.88 L102.39 1198.88 L102.39 1194.95 Q105.052 1192.19 109.635 1187.56 Q114.242 1182.91 115.422 1181.57 Q117.668 1179.05 118.547 1177.31 Q119.45 1175.55 119.45 1173.86 Q119.45 1171.11 117.506 1169.37 Q115.584 1167.63 112.483 1167.63 Q110.284 1167.63 107.83 1168.4 Q105.399 1169.16 102.622 1170.71 L102.622 1165.99 Q105.446 1164.86 107.899 1164.28 Q110.353 1163.7 112.39 1163.7 Q117.76 1163.7 120.955 1166.38 Q124.149 1169.07 124.149 1173.56 Q124.149 1175.69 123.339 1177.61 Q122.552 1179.51 120.446 1182.1 Q119.867 1182.77 116.765 1185.99 Q113.663 1189.18 108.015 1194.95 Z\" fill=\"#000000\" fill-rule=\"evenodd\" fill-opacity=\"1\" /><path clip-path=\"url(#clip0900)\" d=\"M 0 0 M74.9365 947.576 Q71.3254 947.576 69.4967 951.141 Q67.6912 954.682 67.6912 961.812 Q67.6912 968.918 69.4967 972.483 Q71.3254 976.025 74.9365 976.025 Q78.5707 976.025 80.3763 972.483 Q82.205 968.918 82.205 961.812 Q82.205 954.682 80.3763 951.141 Q78.5707 947.576 74.9365 947.576 M74.9365 943.872 Q80.7467 943.872 83.8022 948.479 Q86.8809 953.062 86.8809 961.812 Q86.8809 970.539 83.8022 975.145 Q80.7467 979.729 74.9365 979.729 Q69.1264 979.729 66.0477 975.145 Q62.9921 970.539 62.9921 961.812 Q62.9921 953.062 66.0477 948.479 Q69.1264 943.872 74.9365 943.872 Z\" fill=\"#000000\" fill-rule=\"evenodd\" fill-opacity=\"1\" /><path clip-path=\"url(#clip0900)\" d=\"M 0 0 M91.9503 973.178 L96.8345 973.178 L96.8345 979.057 L91.9503 979.057 L91.9503 973.178 Z\" fill=\"#000000\" fill-rule=\"evenodd\" fill-opacity=\"1\" /><path clip-path=\"url(#clip0900)\" d=\"M 0 0 M114.751 948.571 L102.946 967.02 L114.751 967.02 L114.751 948.571 M113.524 944.497 L119.404 944.497 L119.404 967.02 L124.334 967.02 L124.334 970.909 L119.404 970.909 L119.404 979.057 L114.751 979.057 L114.751 970.909 L99.1493 970.909 L99.1493 966.395 L113.524 944.497 Z\" fill=\"#000000\" fill-rule=\"evenodd\" fill-opacity=\"1\" /><path clip-path=\"url(#clip0900)\" d=\"M 0 0 M75.2606 727.75 Q71.6495 727.75 69.8208 731.314 Q68.0152 734.856 68.0152 741.986 Q68.0152 749.092 69.8208 752.657 Q71.6495 756.199 75.2606 756.199 Q78.8948 756.199 80.7004 752.657 Q82.5291 749.092 82.5291 741.986 Q82.5291 734.856 80.7004 731.314 Q78.8948 727.75 75.2606 727.75 M75.2606 724.046 Q81.0707 724.046 84.1263 728.652 Q87.205 733.236 87.205 741.986 Q87.205 750.712 84.1263 755.319 Q81.0707 759.902 75.2606 759.902 Q69.4504 759.902 66.3717 755.319 Q63.3162 750.712 63.3162 741.986 Q63.3162 733.236 66.3717 728.652 Q69.4504 724.046 75.2606 724.046 Z\" fill=\"#000000\" fill-rule=\"evenodd\" fill-opacity=\"1\" /><path clip-path=\"url(#clip0900)\" d=\"M 0 0 M92.2744 753.351 L97.1586 753.351 L97.1586 759.231 L92.2744 759.231 L92.2744 753.351 Z\" fill=\"#000000\" fill-rule=\"evenodd\" fill-opacity=\"1\" /><path clip-path=\"url(#clip0900)\" d=\"M 0 0 M112.807 740.088 Q109.659 740.088 107.807 742.24 Q105.978 744.393 105.978 748.143 Q105.978 751.87 107.807 754.046 Q109.659 756.199 112.807 756.199 Q115.955 756.199 117.783 754.046 Q119.635 751.87 119.635 748.143 Q119.635 744.393 117.783 742.24 Q115.955 740.088 112.807 740.088 M122.089 725.435 L122.089 729.694 Q120.33 728.861 118.524 728.421 Q116.742 727.981 114.983 727.981 Q110.353 727.981 107.899 731.106 Q105.469 734.231 105.122 740.55 Q106.487 738.537 108.547 737.472 Q110.608 736.384 113.084 736.384 Q118.293 736.384 121.302 739.555 Q124.334 742.703 124.334 748.143 Q124.334 753.467 121.186 756.685 Q118.038 759.902 112.807 759.902 Q106.811 759.902 103.64 755.319 Q100.469 750.712 100.469 741.986 Q100.469 733.791 104.358 728.93 Q108.247 724.046 114.797 724.046 Q116.557 724.046 118.339 724.393 Q120.145 724.74 122.089 725.435 Z\" fill=\"#000000\" fill-rule=\"evenodd\" fill-opacity=\"1\" /><path clip-path=\"url(#clip0900)\" d=\"M 0 0 M75.5152 507.923 Q71.9041 507.923 70.0754 511.488 Q68.2699 515.03 68.2699 522.159 Q68.2699 529.266 70.0754 532.831 Q71.9041 536.372 75.5152 536.372 Q79.1494 536.372 80.955 532.831 Q82.7837 529.266 82.7837 522.159 Q82.7837 515.03 80.955 511.488 Q79.1494 507.923 75.5152 507.923 M75.5152 504.22 Q81.3254 504.22 84.3809 508.826 Q87.4596 513.409 87.4596 522.159 Q87.4596 530.886 84.3809 535.493 Q81.3254 540.076 75.5152 540.076 Q69.7051 540.076 66.6264 535.493 Q63.5708 530.886 63.5708 522.159 Q63.5708 513.409 66.6264 508.826 Q69.7051 504.22 75.5152 504.22 Z\" fill=\"#000000\" fill-rule=\"evenodd\" fill-opacity=\"1\" /><path clip-path=\"url(#clip0900)\" d=\"M 0 0 M92.529 533.525 L97.4132 533.525 L97.4132 539.405 L92.529 539.405 L92.529 533.525 Z\" fill=\"#000000\" fill-rule=\"evenodd\" fill-opacity=\"1\" /><path clip-path=\"url(#clip0900)\" d=\"M 0 0 M112.483 522.993 Q109.149 522.993 107.228 524.775 Q105.33 526.558 105.33 529.683 Q105.33 532.807 107.228 534.59 Q109.149 536.372 112.483 536.372 Q115.816 536.372 117.737 534.59 Q119.658 532.784 119.658 529.683 Q119.658 526.558 117.737 524.775 Q115.839 522.993 112.483 522.993 M107.807 521.002 Q104.797 520.261 103.108 518.201 Q101.441 516.141 101.441 513.178 Q101.441 509.034 104.381 506.627 Q107.344 504.22 112.483 504.22 Q117.645 504.22 120.584 506.627 Q123.524 509.034 123.524 513.178 Q123.524 516.141 121.834 518.201 Q120.168 520.261 117.182 521.002 Q120.561 521.789 122.436 524.081 Q124.334 526.372 124.334 529.683 Q124.334 534.706 121.256 537.391 Q118.2 540.076 112.483 540.076 Q106.765 540.076 103.686 537.391 Q100.631 534.706 100.631 529.683 Q100.631 526.372 102.529 524.081 Q104.427 521.789 107.807 521.002 M106.094 513.618 Q106.094 516.303 107.76 517.808 Q109.45 519.312 112.483 519.312 Q115.492 519.312 117.182 517.808 Q118.895 516.303 118.895 513.618 Q118.895 510.933 117.182 509.428 Q115.492 507.923 112.483 507.923 Q109.45 507.923 107.76 509.428 Q106.094 510.933 106.094 513.618 Z\" fill=\"#000000\" fill-rule=\"evenodd\" fill-opacity=\"1\" /><path clip-path=\"url(#clip0900)\" d=\"M 0 0 M67.4597 315.643 L75.0985 315.643 L75.0985 289.278 L66.7884 290.944 L66.7884 286.685 L75.0522 285.018 L79.7281 285.018 L79.7281 315.643 L87.367 315.643 L87.367 319.578 L67.4597 319.578 L67.4597 315.643 Z\" fill=\"#000000\" fill-rule=\"evenodd\" fill-opacity=\"1\" /><path clip-path=\"url(#clip0900)\" d=\"M 0 0 M92.4364 313.699 L97.3206 313.699 L97.3206 319.578 L92.4364 319.578 L92.4364 313.699 Z\" fill=\"#000000\" fill-rule=\"evenodd\" fill-opacity=\"1\" /><path clip-path=\"url(#clip0900)\" d=\"M 0 0 M112.39 288.097 Q108.779 288.097 106.95 291.662 Q105.145 295.204 105.145 302.333 Q105.145 309.44 106.95 313.004 Q108.779 316.546 112.39 316.546 Q116.024 316.546 117.83 313.004 Q119.658 309.44 119.658 302.333 Q119.658 295.204 117.83 291.662 Q116.024 288.097 112.39 288.097 M112.39 284.393 Q118.2 284.393 121.256 289 Q124.334 293.583 124.334 302.333 Q124.334 311.06 121.256 315.666 Q118.2 320.25 112.39 320.25 Q106.58 320.25 103.501 315.666 Q100.446 311.06 100.446 302.333 Q100.446 293.583 103.501 289 Q106.58 284.393 112.39 284.393 Z\" fill=\"#000000\" fill-rule=\"evenodd\" fill-opacity=\"1\" /><circle clip-path=\"url(#clip0902)\" cx=\"1716.48\" cy=\"509.06\" r=\"14\" fill=\"#009af9\" fill-rule=\"evenodd\" fill-opacity=\"1\" stroke=\"#000000\" stroke-opacity=\"1\" stroke-width=\"3.2\"/>\n",
       "<circle clip-path=\"url(#clip0902)\" cx=\"1709.79\" cy=\"501.467\" r=\"14\" fill=\"#009af9\" fill-rule=\"evenodd\" fill-opacity=\"1\" stroke=\"#000000\" stroke-opacity=\"1\" stroke-width=\"3.2\"/>\n",
       "<circle clip-path=\"url(#clip0902)\" cx=\"1705.6\" cy=\"487.789\" r=\"14\" fill=\"#009af9\" fill-rule=\"evenodd\" fill-opacity=\"1\" stroke=\"#000000\" stroke-opacity=\"1\" stroke-width=\"3.2\"/>\n",
       "<circle clip-path=\"url(#clip0902)\" cx=\"1702.49\" cy=\"498.604\" r=\"14\" fill=\"#009af9\" fill-rule=\"evenodd\" fill-opacity=\"1\" stroke=\"#000000\" stroke-opacity=\"1\" stroke-width=\"3.2\"/>\n",
       "<circle clip-path=\"url(#clip0902)\" cx=\"1708.38\" cy=\"484.806\" r=\"14\" fill=\"#009af9\" fill-rule=\"evenodd\" fill-opacity=\"1\" stroke=\"#000000\" stroke-opacity=\"1\" stroke-width=\"3.2\"/>\n",
       "<circle clip-path=\"url(#clip0902)\" cx=\"1709.79\" cy=\"501.467\" r=\"14\" fill=\"#009af9\" fill-rule=\"evenodd\" fill-opacity=\"1\" stroke=\"#000000\" stroke-opacity=\"1\" stroke-width=\"3.2\"/>\n",
       "<circle clip-path=\"url(#clip0902)\" cx=\"1708.61\" cy=\"503.885\" r=\"14\" fill=\"#009af9\" fill-rule=\"evenodd\" fill-opacity=\"1\" stroke=\"#000000\" stroke-opacity=\"1\" stroke-width=\"3.2\"/>\n",
       "<circle clip-path=\"url(#clip0902)\" cx=\"1712.56\" cy=\"498.485\" r=\"14\" fill=\"#009af9\" fill-rule=\"evenodd\" fill-opacity=\"1\" stroke=\"#000000\" stroke-opacity=\"1\" stroke-width=\"3.2\"/>\n",
       "<circle clip-path=\"url(#clip0902)\" cx=\"1717.97\" cy=\"501.656\" r=\"14\" fill=\"#009af9\" fill-rule=\"evenodd\" fill-opacity=\"1\" stroke=\"#000000\" stroke-opacity=\"1\" stroke-width=\"3.2\"/>\n",
       "<circle clip-path=\"url(#clip0902)\" cx=\"1708.38\" cy=\"484.806\" r=\"14\" fill=\"#009af9\" fill-rule=\"evenodd\" fill-opacity=\"1\" stroke=\"#000000\" stroke-opacity=\"1\" stroke-width=\"3.2\"/>\n",
       "<circle clip-path=\"url(#clip0902)\" cx=\"1705.6\" cy=\"487.789\" r=\"14\" fill=\"#009af9\" fill-rule=\"evenodd\" fill-opacity=\"1\" stroke=\"#000000\" stroke-opacity=\"1\" stroke-width=\"3.2\"/>\n",
       "<circle clip-path=\"url(#clip0902)\" cx=\"1706.44\" cy=\"493.204\" r=\"14\" fill=\"#009af9\" fill-rule=\"evenodd\" fill-opacity=\"1\" stroke=\"#000000\" stroke-opacity=\"1\" stroke-width=\"3.2\"/>\n",
       "<circle clip-path=\"url(#clip0902)\" cx=\"1720.43\" cy=\"503.66\" r=\"14\" fill=\"#009af9\" fill-rule=\"evenodd\" fill-opacity=\"1\" stroke=\"#000000\" stroke-opacity=\"1\" stroke-width=\"3.2\"/>\n",
       "<circle clip-path=\"url(#clip0902)\" cx=\"1716.48\" cy=\"509.06\" r=\"14\" fill=\"#009af9\" fill-rule=\"evenodd\" fill-opacity=\"1\" stroke=\"#000000\" stroke-opacity=\"1\" stroke-width=\"3.2\"/>\n",
       "<circle clip-path=\"url(#clip0902)\" cx=\"1708.61\" cy=\"503.885\" r=\"14\" fill=\"#009af9\" fill-rule=\"evenodd\" fill-opacity=\"1\" stroke=\"#000000\" stroke-opacity=\"1\" stroke-width=\"3.2\"/>\n",
       "<circle clip-path=\"url(#clip0902)\" cx=\"1712.56\" cy=\"498.485\" r=\"14\" fill=\"#009af9\" fill-rule=\"evenodd\" fill-opacity=\"1\" stroke=\"#000000\" stroke-opacity=\"1\" stroke-width=\"3.2\"/>\n",
       "<circle clip-path=\"url(#clip0902)\" cx=\"1710.11\" cy=\"496.481\" r=\"14\" fill=\"#009af9\" fill-rule=\"evenodd\" fill-opacity=\"1\" stroke=\"#000000\" stroke-opacity=\"1\" stroke-width=\"3.2\"/>\n",
       "<circle clip-path=\"url(#clip0902)\" cx=\"1708.06\" cy=\"489.792\" r=\"14\" fill=\"#009af9\" fill-rule=\"evenodd\" fill-opacity=\"1\" stroke=\"#000000\" stroke-opacity=\"1\" stroke-width=\"3.2\"/>\n",
       "<circle clip-path=\"url(#clip0902)\" cx=\"1708.06\" cy=\"489.792\" r=\"14\" fill=\"#009af9\" fill-rule=\"evenodd\" fill-opacity=\"1\" stroke=\"#000000\" stroke-opacity=\"1\" stroke-width=\"3.2\"/>\n",
       "<circle clip-path=\"url(#clip0902)\" cx=\"1717.97\" cy=\"501.656\" r=\"14\" fill=\"#009af9\" fill-rule=\"evenodd\" fill-opacity=\"1\" stroke=\"#000000\" stroke-opacity=\"1\" stroke-width=\"3.2\"/>\n",
       "<circle clip-path=\"url(#clip0902)\" cx=\"1706.44\" cy=\"493.204\" r=\"14\" fill=\"#009af9\" fill-rule=\"evenodd\" fill-opacity=\"1\" stroke=\"#000000\" stroke-opacity=\"1\" stroke-width=\"3.2\"/>\n",
       "<circle clip-path=\"url(#clip0902)\" cx=\"1710.11\" cy=\"496.481\" r=\"14\" fill=\"#009af9\" fill-rule=\"evenodd\" fill-opacity=\"1\" stroke=\"#000000\" stroke-opacity=\"1\" stroke-width=\"3.2\"/>\n",
       "<circle clip-path=\"url(#clip0902)\" cx=\"1708.38\" cy=\"484.806\" r=\"14\" fill=\"#009af9\" fill-rule=\"evenodd\" fill-opacity=\"1\" stroke=\"#000000\" stroke-opacity=\"1\" stroke-width=\"3.2\"/>\n",
       "<circle clip-path=\"url(#clip0902)\" cx=\"1708.38\" cy=\"484.806\" r=\"14\" fill=\"#009af9\" fill-rule=\"evenodd\" fill-opacity=\"1\" stroke=\"#000000\" stroke-opacity=\"1\" stroke-width=\"3.2\"/>\n",
       "<circle clip-path=\"url(#clip0902)\" cx=\"1708.38\" cy=\"484.806\" r=\"14\" fill=\"#009af9\" fill-rule=\"evenodd\" fill-opacity=\"1\" stroke=\"#000000\" stroke-opacity=\"1\" stroke-width=\"3.2\"/>\n",
       "<circle clip-path=\"url(#clip0902)\" cx=\"1708.38\" cy=\"484.806\" r=\"14\" fill=\"#009af9\" fill-rule=\"evenodd\" fill-opacity=\"1\" stroke=\"#000000\" stroke-opacity=\"1\" stroke-width=\"3.2\"/>\n",
       "<circle clip-path=\"url(#clip0902)\" cx=\"1708.38\" cy=\"484.806\" r=\"14\" fill=\"#009af9\" fill-rule=\"evenodd\" fill-opacity=\"1\" stroke=\"#000000\" stroke-opacity=\"1\" stroke-width=\"3.2\"/>\n",
       "<circle clip-path=\"url(#clip0902)\" cx=\"1708.38\" cy=\"484.806\" r=\"14\" fill=\"#009af9\" fill-rule=\"evenodd\" fill-opacity=\"1\" stroke=\"#000000\" stroke-opacity=\"1\" stroke-width=\"3.2\"/>\n",
       "<circle clip-path=\"url(#clip0902)\" cx=\"1708.38\" cy=\"484.806\" r=\"14\" fill=\"#009af9\" fill-rule=\"evenodd\" fill-opacity=\"1\" stroke=\"#000000\" stroke-opacity=\"1\" stroke-width=\"3.2\"/>\n",
       "<circle clip-path=\"url(#clip0902)\" cx=\"1708.38\" cy=\"484.806\" r=\"14\" fill=\"#009af9\" fill-rule=\"evenodd\" fill-opacity=\"1\" stroke=\"#000000\" stroke-opacity=\"1\" stroke-width=\"3.2\"/>\n",
       "<circle clip-path=\"url(#clip0902)\" cx=\"1708.38\" cy=\"484.806\" r=\"14\" fill=\"#009af9\" fill-rule=\"evenodd\" fill-opacity=\"1\" stroke=\"#000000\" stroke-opacity=\"1\" stroke-width=\"3.2\"/>\n",
       "<circle clip-path=\"url(#clip0902)\" cx=\"1708.38\" cy=\"484.806\" r=\"14\" fill=\"#009af9\" fill-rule=\"evenodd\" fill-opacity=\"1\" stroke=\"#000000\" stroke-opacity=\"1\" stroke-width=\"3.2\"/>\n",
       "<circle clip-path=\"url(#clip0902)\" cx=\"1708.38\" cy=\"484.806\" r=\"14\" fill=\"#009af9\" fill-rule=\"evenodd\" fill-opacity=\"1\" stroke=\"#000000\" stroke-opacity=\"1\" stroke-width=\"3.2\"/>\n",
       "<circle clip-path=\"url(#clip0902)\" cx=\"1708.38\" cy=\"484.806\" r=\"14\" fill=\"#009af9\" fill-rule=\"evenodd\" fill-opacity=\"1\" stroke=\"#000000\" stroke-opacity=\"1\" stroke-width=\"3.2\"/>\n",
       "<circle clip-path=\"url(#clip0902)\" cx=\"1708.38\" cy=\"484.806\" r=\"14\" fill=\"#009af9\" fill-rule=\"evenodd\" fill-opacity=\"1\" stroke=\"#000000\" stroke-opacity=\"1\" stroke-width=\"3.2\"/>\n",
       "<circle clip-path=\"url(#clip0902)\" cx=\"1708.38\" cy=\"484.806\" r=\"14\" fill=\"#009af9\" fill-rule=\"evenodd\" fill-opacity=\"1\" stroke=\"#000000\" stroke-opacity=\"1\" stroke-width=\"3.2\"/>\n",
       "<circle clip-path=\"url(#clip0902)\" cx=\"1708.38\" cy=\"484.806\" r=\"14\" fill=\"#009af9\" fill-rule=\"evenodd\" fill-opacity=\"1\" stroke=\"#000000\" stroke-opacity=\"1\" stroke-width=\"3.2\"/>\n",
       "<circle clip-path=\"url(#clip0902)\" cx=\"1708.38\" cy=\"484.806\" r=\"14\" fill=\"#009af9\" fill-rule=\"evenodd\" fill-opacity=\"1\" stroke=\"#000000\" stroke-opacity=\"1\" stroke-width=\"3.2\"/>\n",
       "<circle clip-path=\"url(#clip0902)\" cx=\"1708.38\" cy=\"484.806\" r=\"14\" fill=\"#009af9\" fill-rule=\"evenodd\" fill-opacity=\"1\" stroke=\"#000000\" stroke-opacity=\"1\" stroke-width=\"3.2\"/>\n",
       "<circle clip-path=\"url(#clip0902)\" cx=\"1708.38\" cy=\"484.806\" r=\"14\" fill=\"#009af9\" fill-rule=\"evenodd\" fill-opacity=\"1\" stroke=\"#000000\" stroke-opacity=\"1\" stroke-width=\"3.2\"/>\n",
       "<circle clip-path=\"url(#clip0902)\" cx=\"1708.38\" cy=\"484.806\" r=\"14\" fill=\"#009af9\" fill-rule=\"evenodd\" fill-opacity=\"1\" stroke=\"#000000\" stroke-opacity=\"1\" stroke-width=\"3.2\"/>\n",
       "<circle clip-path=\"url(#clip0902)\" cx=\"1708.38\" cy=\"484.806\" r=\"14\" fill=\"#009af9\" fill-rule=\"evenodd\" fill-opacity=\"1\" stroke=\"#000000\" stroke-opacity=\"1\" stroke-width=\"3.2\"/>\n",
       "<circle clip-path=\"url(#clip0902)\" cx=\"1708.38\" cy=\"484.806\" r=\"14\" fill=\"#009af9\" fill-rule=\"evenodd\" fill-opacity=\"1\" stroke=\"#000000\" stroke-opacity=\"1\" stroke-width=\"3.2\"/>\n",
       "<circle clip-path=\"url(#clip0902)\" cx=\"1708.38\" cy=\"484.806\" r=\"14\" fill=\"#009af9\" fill-rule=\"evenodd\" fill-opacity=\"1\" stroke=\"#000000\" stroke-opacity=\"1\" stroke-width=\"3.2\"/>\n",
       "<circle clip-path=\"url(#clip0902)\" cx=\"1708.38\" cy=\"484.806\" r=\"14\" fill=\"#009af9\" fill-rule=\"evenodd\" fill-opacity=\"1\" stroke=\"#000000\" stroke-opacity=\"1\" stroke-width=\"3.2\"/>\n",
       "<circle clip-path=\"url(#clip0902)\" cx=\"1708.38\" cy=\"484.806\" r=\"14\" fill=\"#009af9\" fill-rule=\"evenodd\" fill-opacity=\"1\" stroke=\"#000000\" stroke-opacity=\"1\" stroke-width=\"3.2\"/>\n",
       "<circle clip-path=\"url(#clip0902)\" cx=\"1708.38\" cy=\"484.806\" r=\"14\" fill=\"#009af9\" fill-rule=\"evenodd\" fill-opacity=\"1\" stroke=\"#000000\" stroke-opacity=\"1\" stroke-width=\"3.2\"/>\n",
       "<circle clip-path=\"url(#clip0902)\" cx=\"1708.38\" cy=\"484.806\" r=\"14\" fill=\"#009af9\" fill-rule=\"evenodd\" fill-opacity=\"1\" stroke=\"#000000\" stroke-opacity=\"1\" stroke-width=\"3.2\"/>\n",
       "<circle clip-path=\"url(#clip0902)\" cx=\"1708.38\" cy=\"484.806\" r=\"14\" fill=\"#009af9\" fill-rule=\"evenodd\" fill-opacity=\"1\" stroke=\"#000000\" stroke-opacity=\"1\" stroke-width=\"3.2\"/>\n",
       "<circle clip-path=\"url(#clip0902)\" cx=\"1708.38\" cy=\"484.806\" r=\"14\" fill=\"#009af9\" fill-rule=\"evenodd\" fill-opacity=\"1\" stroke=\"#000000\" stroke-opacity=\"1\" stroke-width=\"3.2\"/>\n",
       "<circle clip-path=\"url(#clip0902)\" cx=\"1708.38\" cy=\"484.806\" r=\"14\" fill=\"#009af9\" fill-rule=\"evenodd\" fill-opacity=\"1\" stroke=\"#000000\" stroke-opacity=\"1\" stroke-width=\"3.2\"/>\n",
       "<circle clip-path=\"url(#clip0902)\" cx=\"1708.38\" cy=\"484.806\" r=\"14\" fill=\"#009af9\" fill-rule=\"evenodd\" fill-opacity=\"1\" stroke=\"#000000\" stroke-opacity=\"1\" stroke-width=\"3.2\"/>\n",
       "<circle clip-path=\"url(#clip0902)\" cx=\"1708.38\" cy=\"484.806\" r=\"14\" fill=\"#009af9\" fill-rule=\"evenodd\" fill-opacity=\"1\" stroke=\"#000000\" stroke-opacity=\"1\" stroke-width=\"3.2\"/>\n",
       "<circle clip-path=\"url(#clip0902)\" cx=\"1708.38\" cy=\"484.806\" r=\"14\" fill=\"#009af9\" fill-rule=\"evenodd\" fill-opacity=\"1\" stroke=\"#000000\" stroke-opacity=\"1\" stroke-width=\"3.2\"/>\n",
       "<circle clip-path=\"url(#clip0902)\" cx=\"1708.38\" cy=\"484.806\" r=\"14\" fill=\"#009af9\" fill-rule=\"evenodd\" fill-opacity=\"1\" stroke=\"#000000\" stroke-opacity=\"1\" stroke-width=\"3.2\"/>\n",
       "<circle clip-path=\"url(#clip0902)\" cx=\"1708.38\" cy=\"484.806\" r=\"14\" fill=\"#009af9\" fill-rule=\"evenodd\" fill-opacity=\"1\" stroke=\"#000000\" stroke-opacity=\"1\" stroke-width=\"3.2\"/>\n",
       "<circle clip-path=\"url(#clip0902)\" cx=\"1708.38\" cy=\"484.806\" r=\"14\" fill=\"#009af9\" fill-rule=\"evenodd\" fill-opacity=\"1\" stroke=\"#000000\" stroke-opacity=\"1\" stroke-width=\"3.2\"/>\n",
       "<circle clip-path=\"url(#clip0902)\" cx=\"1708.38\" cy=\"484.806\" r=\"14\" fill=\"#009af9\" fill-rule=\"evenodd\" fill-opacity=\"1\" stroke=\"#000000\" stroke-opacity=\"1\" stroke-width=\"3.2\"/>\n",
       "<circle clip-path=\"url(#clip0902)\" cx=\"1708.38\" cy=\"484.806\" r=\"14\" fill=\"#009af9\" fill-rule=\"evenodd\" fill-opacity=\"1\" stroke=\"#000000\" stroke-opacity=\"1\" stroke-width=\"3.2\"/>\n",
       "<circle clip-path=\"url(#clip0902)\" cx=\"1708.38\" cy=\"484.806\" r=\"14\" fill=\"#009af9\" fill-rule=\"evenodd\" fill-opacity=\"1\" stroke=\"#000000\" stroke-opacity=\"1\" stroke-width=\"3.2\"/>\n",
       "<circle clip-path=\"url(#clip0902)\" cx=\"1708.38\" cy=\"484.806\" r=\"14\" fill=\"#009af9\" fill-rule=\"evenodd\" fill-opacity=\"1\" stroke=\"#000000\" stroke-opacity=\"1\" stroke-width=\"3.2\"/>\n",
       "<circle clip-path=\"url(#clip0902)\" cx=\"1708.38\" cy=\"484.806\" r=\"14\" fill=\"#009af9\" fill-rule=\"evenodd\" fill-opacity=\"1\" stroke=\"#000000\" stroke-opacity=\"1\" stroke-width=\"3.2\"/>\n",
       "<circle clip-path=\"url(#clip0902)\" cx=\"1708.38\" cy=\"484.806\" r=\"14\" fill=\"#009af9\" fill-rule=\"evenodd\" fill-opacity=\"1\" stroke=\"#000000\" stroke-opacity=\"1\" stroke-width=\"3.2\"/>\n",
       "<circle clip-path=\"url(#clip0902)\" cx=\"1708.38\" cy=\"484.806\" r=\"14\" fill=\"#009af9\" fill-rule=\"evenodd\" fill-opacity=\"1\" stroke=\"#000000\" stroke-opacity=\"1\" stroke-width=\"3.2\"/>\n",
       "<circle clip-path=\"url(#clip0902)\" cx=\"1708.38\" cy=\"484.806\" r=\"14\" fill=\"#009af9\" fill-rule=\"evenodd\" fill-opacity=\"1\" stroke=\"#000000\" stroke-opacity=\"1\" stroke-width=\"3.2\"/>\n",
       "<circle clip-path=\"url(#clip0902)\" cx=\"1708.38\" cy=\"484.806\" r=\"14\" fill=\"#009af9\" fill-rule=\"evenodd\" fill-opacity=\"1\" stroke=\"#000000\" stroke-opacity=\"1\" stroke-width=\"3.2\"/>\n",
       "<circle clip-path=\"url(#clip0902)\" cx=\"1708.38\" cy=\"484.806\" r=\"14\" fill=\"#009af9\" fill-rule=\"evenodd\" fill-opacity=\"1\" stroke=\"#000000\" stroke-opacity=\"1\" stroke-width=\"3.2\"/>\n",
       "<circle clip-path=\"url(#clip0902)\" cx=\"1708.38\" cy=\"484.806\" r=\"14\" fill=\"#009af9\" fill-rule=\"evenodd\" fill-opacity=\"1\" stroke=\"#000000\" stroke-opacity=\"1\" stroke-width=\"3.2\"/>\n",
       "<circle clip-path=\"url(#clip0902)\" cx=\"1708.38\" cy=\"484.806\" r=\"14\" fill=\"#009af9\" fill-rule=\"evenodd\" fill-opacity=\"1\" stroke=\"#000000\" stroke-opacity=\"1\" stroke-width=\"3.2\"/>\n",
       "<circle clip-path=\"url(#clip0902)\" cx=\"1708.38\" cy=\"484.806\" r=\"14\" fill=\"#009af9\" fill-rule=\"evenodd\" fill-opacity=\"1\" stroke=\"#000000\" stroke-opacity=\"1\" stroke-width=\"3.2\"/>\n",
       "<circle clip-path=\"url(#clip0902)\" cx=\"1708.38\" cy=\"484.806\" r=\"14\" fill=\"#009af9\" fill-rule=\"evenodd\" fill-opacity=\"1\" stroke=\"#000000\" stroke-opacity=\"1\" stroke-width=\"3.2\"/>\n",
       "<circle clip-path=\"url(#clip0902)\" cx=\"1708.38\" cy=\"484.806\" r=\"14\" fill=\"#009af9\" fill-rule=\"evenodd\" fill-opacity=\"1\" stroke=\"#000000\" stroke-opacity=\"1\" stroke-width=\"3.2\"/>\n",
       "<circle clip-path=\"url(#clip0902)\" cx=\"1708.38\" cy=\"484.806\" r=\"14\" fill=\"#009af9\" fill-rule=\"evenodd\" fill-opacity=\"1\" stroke=\"#000000\" stroke-opacity=\"1\" stroke-width=\"3.2\"/>\n",
       "<circle clip-path=\"url(#clip0902)\" cx=\"1708.38\" cy=\"484.806\" r=\"14\" fill=\"#009af9\" fill-rule=\"evenodd\" fill-opacity=\"1\" stroke=\"#000000\" stroke-opacity=\"1\" stroke-width=\"3.2\"/>\n",
       "<circle clip-path=\"url(#clip0902)\" cx=\"1708.38\" cy=\"484.806\" r=\"14\" fill=\"#009af9\" fill-rule=\"evenodd\" fill-opacity=\"1\" stroke=\"#000000\" stroke-opacity=\"1\" stroke-width=\"3.2\"/>\n",
       "<circle clip-path=\"url(#clip0902)\" cx=\"1708.38\" cy=\"484.806\" r=\"14\" fill=\"#009af9\" fill-rule=\"evenodd\" fill-opacity=\"1\" stroke=\"#000000\" stroke-opacity=\"1\" stroke-width=\"3.2\"/>\n",
       "<circle clip-path=\"url(#clip0902)\" cx=\"1708.38\" cy=\"484.806\" r=\"14\" fill=\"#009af9\" fill-rule=\"evenodd\" fill-opacity=\"1\" stroke=\"#000000\" stroke-opacity=\"1\" stroke-width=\"3.2\"/>\n",
       "<circle clip-path=\"url(#clip0902)\" cx=\"1708.38\" cy=\"484.806\" r=\"14\" fill=\"#009af9\" fill-rule=\"evenodd\" fill-opacity=\"1\" stroke=\"#000000\" stroke-opacity=\"1\" stroke-width=\"3.2\"/>\n",
       "<circle clip-path=\"url(#clip0902)\" cx=\"1708.38\" cy=\"484.806\" r=\"14\" fill=\"#009af9\" fill-rule=\"evenodd\" fill-opacity=\"1\" stroke=\"#000000\" stroke-opacity=\"1\" stroke-width=\"3.2\"/>\n",
       "<circle clip-path=\"url(#clip0902)\" cx=\"1708.38\" cy=\"484.806\" r=\"14\" fill=\"#009af9\" fill-rule=\"evenodd\" fill-opacity=\"1\" stroke=\"#000000\" stroke-opacity=\"1\" stroke-width=\"3.2\"/>\n",
       "<circle clip-path=\"url(#clip0902)\" cx=\"1708.38\" cy=\"484.806\" r=\"14\" fill=\"#009af9\" fill-rule=\"evenodd\" fill-opacity=\"1\" stroke=\"#000000\" stroke-opacity=\"1\" stroke-width=\"3.2\"/>\n",
       "<circle clip-path=\"url(#clip0902)\" cx=\"1708.38\" cy=\"484.806\" r=\"14\" fill=\"#009af9\" fill-rule=\"evenodd\" fill-opacity=\"1\" stroke=\"#000000\" stroke-opacity=\"1\" stroke-width=\"3.2\"/>\n",
       "<circle clip-path=\"url(#clip0902)\" cx=\"1708.38\" cy=\"484.806\" r=\"14\" fill=\"#009af9\" fill-rule=\"evenodd\" fill-opacity=\"1\" stroke=\"#000000\" stroke-opacity=\"1\" stroke-width=\"3.2\"/>\n",
       "<circle clip-path=\"url(#clip0902)\" cx=\"1708.38\" cy=\"484.806\" r=\"14\" fill=\"#009af9\" fill-rule=\"evenodd\" fill-opacity=\"1\" stroke=\"#000000\" stroke-opacity=\"1\" stroke-width=\"3.2\"/>\n",
       "<circle clip-path=\"url(#clip0902)\" cx=\"1708.38\" cy=\"484.806\" r=\"14\" fill=\"#009af9\" fill-rule=\"evenodd\" fill-opacity=\"1\" stroke=\"#000000\" stroke-opacity=\"1\" stroke-width=\"3.2\"/>\n",
       "<circle clip-path=\"url(#clip0902)\" cx=\"1708.38\" cy=\"484.806\" r=\"14\" fill=\"#009af9\" fill-rule=\"evenodd\" fill-opacity=\"1\" stroke=\"#000000\" stroke-opacity=\"1\" stroke-width=\"3.2\"/>\n",
       "<circle clip-path=\"url(#clip0902)\" cx=\"1708.38\" cy=\"484.806\" r=\"14\" fill=\"#009af9\" fill-rule=\"evenodd\" fill-opacity=\"1\" stroke=\"#000000\" stroke-opacity=\"1\" stroke-width=\"3.2\"/>\n",
       "<circle clip-path=\"url(#clip0902)\" cx=\"1708.38\" cy=\"484.806\" r=\"14\" fill=\"#009af9\" fill-rule=\"evenodd\" fill-opacity=\"1\" stroke=\"#000000\" stroke-opacity=\"1\" stroke-width=\"3.2\"/>\n",
       "<circle clip-path=\"url(#clip0902)\" cx=\"1708.38\" cy=\"484.806\" r=\"14\" fill=\"#009af9\" fill-rule=\"evenodd\" fill-opacity=\"1\" stroke=\"#000000\" stroke-opacity=\"1\" stroke-width=\"3.2\"/>\n",
       "<circle clip-path=\"url(#clip0902)\" cx=\"1708.38\" cy=\"484.806\" r=\"14\" fill=\"#009af9\" fill-rule=\"evenodd\" fill-opacity=\"1\" stroke=\"#000000\" stroke-opacity=\"1\" stroke-width=\"3.2\"/>\n",
       "<circle clip-path=\"url(#clip0902)\" cx=\"1708.38\" cy=\"484.806\" r=\"14\" fill=\"#009af9\" fill-rule=\"evenodd\" fill-opacity=\"1\" stroke=\"#000000\" stroke-opacity=\"1\" stroke-width=\"3.2\"/>\n",
       "<circle clip-path=\"url(#clip0902)\" cx=\"1708.38\" cy=\"484.806\" r=\"14\" fill=\"#009af9\" fill-rule=\"evenodd\" fill-opacity=\"1\" stroke=\"#000000\" stroke-opacity=\"1\" stroke-width=\"3.2\"/>\n",
       "<circle clip-path=\"url(#clip0902)\" cx=\"1708.38\" cy=\"484.806\" r=\"14\" fill=\"#009af9\" fill-rule=\"evenodd\" fill-opacity=\"1\" stroke=\"#000000\" stroke-opacity=\"1\" stroke-width=\"3.2\"/>\n",
       "<circle clip-path=\"url(#clip0902)\" cx=\"1708.38\" cy=\"484.806\" r=\"14\" fill=\"#009af9\" fill-rule=\"evenodd\" fill-opacity=\"1\" stroke=\"#000000\" stroke-opacity=\"1\" stroke-width=\"3.2\"/>\n",
       "<circle clip-path=\"url(#clip0902)\" cx=\"1708.38\" cy=\"484.806\" r=\"14\" fill=\"#009af9\" fill-rule=\"evenodd\" fill-opacity=\"1\" stroke=\"#000000\" stroke-opacity=\"1\" stroke-width=\"3.2\"/>\n",
       "<circle clip-path=\"url(#clip0902)\" cx=\"1708.38\" cy=\"484.806\" r=\"14\" fill=\"#009af9\" fill-rule=\"evenodd\" fill-opacity=\"1\" stroke=\"#000000\" stroke-opacity=\"1\" stroke-width=\"3.2\"/>\n",
       "<circle clip-path=\"url(#clip0902)\" cx=\"1708.38\" cy=\"484.806\" r=\"14\" fill=\"#009af9\" fill-rule=\"evenodd\" fill-opacity=\"1\" stroke=\"#000000\" stroke-opacity=\"1\" stroke-width=\"3.2\"/>\n",
       "<circle clip-path=\"url(#clip0902)\" cx=\"1708.38\" cy=\"484.806\" r=\"14\" fill=\"#009af9\" fill-rule=\"evenodd\" fill-opacity=\"1\" stroke=\"#000000\" stroke-opacity=\"1\" stroke-width=\"3.2\"/>\n",
       "<circle clip-path=\"url(#clip0902)\" cx=\"1708.38\" cy=\"484.806\" r=\"14\" fill=\"#009af9\" fill-rule=\"evenodd\" fill-opacity=\"1\" stroke=\"#000000\" stroke-opacity=\"1\" stroke-width=\"3.2\"/>\n",
       "<circle clip-path=\"url(#clip0902)\" cx=\"1708.38\" cy=\"484.806\" r=\"14\" fill=\"#009af9\" fill-rule=\"evenodd\" fill-opacity=\"1\" stroke=\"#000000\" stroke-opacity=\"1\" stroke-width=\"3.2\"/>\n",
       "<circle clip-path=\"url(#clip0902)\" cx=\"1708.38\" cy=\"484.806\" r=\"14\" fill=\"#009af9\" fill-rule=\"evenodd\" fill-opacity=\"1\" stroke=\"#000000\" stroke-opacity=\"1\" stroke-width=\"3.2\"/>\n",
       "<circle clip-path=\"url(#clip0902)\" cx=\"1708.38\" cy=\"484.806\" r=\"14\" fill=\"#009af9\" fill-rule=\"evenodd\" fill-opacity=\"1\" stroke=\"#000000\" stroke-opacity=\"1\" stroke-width=\"3.2\"/>\n",
       "<circle clip-path=\"url(#clip0902)\" cx=\"1708.38\" cy=\"484.806\" r=\"14\" fill=\"#009af9\" fill-rule=\"evenodd\" fill-opacity=\"1\" stroke=\"#000000\" stroke-opacity=\"1\" stroke-width=\"3.2\"/>\n",
       "<circle clip-path=\"url(#clip0902)\" cx=\"1708.38\" cy=\"484.806\" r=\"14\" fill=\"#009af9\" fill-rule=\"evenodd\" fill-opacity=\"1\" stroke=\"#000000\" stroke-opacity=\"1\" stroke-width=\"3.2\"/>\n",
       "<circle clip-path=\"url(#clip0902)\" cx=\"1708.38\" cy=\"484.806\" r=\"14\" fill=\"#009af9\" fill-rule=\"evenodd\" fill-opacity=\"1\" stroke=\"#000000\" stroke-opacity=\"1\" stroke-width=\"3.2\"/>\n",
       "<circle clip-path=\"url(#clip0902)\" cx=\"1708.38\" cy=\"484.806\" r=\"14\" fill=\"#009af9\" fill-rule=\"evenodd\" fill-opacity=\"1\" stroke=\"#000000\" stroke-opacity=\"1\" stroke-width=\"3.2\"/>\n",
       "<circle clip-path=\"url(#clip0902)\" cx=\"1708.38\" cy=\"484.806\" r=\"14\" fill=\"#009af9\" fill-rule=\"evenodd\" fill-opacity=\"1\" stroke=\"#000000\" stroke-opacity=\"1\" stroke-width=\"3.2\"/>\n",
       "<circle clip-path=\"url(#clip0902)\" cx=\"1708.38\" cy=\"484.806\" r=\"14\" fill=\"#009af9\" fill-rule=\"evenodd\" fill-opacity=\"1\" stroke=\"#000000\" stroke-opacity=\"1\" stroke-width=\"3.2\"/>\n",
       "<circle clip-path=\"url(#clip0902)\" cx=\"1708.38\" cy=\"484.806\" r=\"14\" fill=\"#009af9\" fill-rule=\"evenodd\" fill-opacity=\"1\" stroke=\"#000000\" stroke-opacity=\"1\" stroke-width=\"3.2\"/>\n",
       "<circle clip-path=\"url(#clip0902)\" cx=\"1708.38\" cy=\"484.806\" r=\"14\" fill=\"#009af9\" fill-rule=\"evenodd\" fill-opacity=\"1\" stroke=\"#000000\" stroke-opacity=\"1\" stroke-width=\"3.2\"/>\n",
       "<circle clip-path=\"url(#clip0902)\" cx=\"1705.6\" cy=\"487.789\" r=\"14\" fill=\"#009af9\" fill-rule=\"evenodd\" fill-opacity=\"1\" stroke=\"#000000\" stroke-opacity=\"1\" stroke-width=\"3.2\"/>\n",
       "<circle clip-path=\"url(#clip0902)\" cx=\"1705.6\" cy=\"487.789\" r=\"14\" fill=\"#009af9\" fill-rule=\"evenodd\" fill-opacity=\"1\" stroke=\"#000000\" stroke-opacity=\"1\" stroke-width=\"3.2\"/>\n",
       "<circle clip-path=\"url(#clip0902)\" cx=\"1705.6\" cy=\"487.789\" r=\"14\" fill=\"#009af9\" fill-rule=\"evenodd\" fill-opacity=\"1\" stroke=\"#000000\" stroke-opacity=\"1\" stroke-width=\"3.2\"/>\n",
       "<circle clip-path=\"url(#clip0902)\" cx=\"1705.6\" cy=\"487.789\" r=\"14\" fill=\"#009af9\" fill-rule=\"evenodd\" fill-opacity=\"1\" stroke=\"#000000\" stroke-opacity=\"1\" stroke-width=\"3.2\"/>\n",
       "<circle clip-path=\"url(#clip0902)\" cx=\"1705.6\" cy=\"487.789\" r=\"14\" fill=\"#009af9\" fill-rule=\"evenodd\" fill-opacity=\"1\" stroke=\"#000000\" stroke-opacity=\"1\" stroke-width=\"3.2\"/>\n",
       "<circle clip-path=\"url(#clip0902)\" cx=\"1705.6\" cy=\"487.789\" r=\"14\" fill=\"#009af9\" fill-rule=\"evenodd\" fill-opacity=\"1\" stroke=\"#000000\" stroke-opacity=\"1\" stroke-width=\"3.2\"/>\n",
       "<circle clip-path=\"url(#clip0902)\" cx=\"1705.6\" cy=\"487.789\" r=\"14\" fill=\"#009af9\" fill-rule=\"evenodd\" fill-opacity=\"1\" stroke=\"#000000\" stroke-opacity=\"1\" stroke-width=\"3.2\"/>\n",
       "<circle clip-path=\"url(#clip0902)\" cx=\"1705.6\" cy=\"487.789\" r=\"14\" fill=\"#009af9\" fill-rule=\"evenodd\" fill-opacity=\"1\" stroke=\"#000000\" stroke-opacity=\"1\" stroke-width=\"3.2\"/>\n",
       "<circle clip-path=\"url(#clip0902)\" cx=\"1705.6\" cy=\"487.789\" r=\"14\" fill=\"#009af9\" fill-rule=\"evenodd\" fill-opacity=\"1\" stroke=\"#000000\" stroke-opacity=\"1\" stroke-width=\"3.2\"/>\n",
       "<circle clip-path=\"url(#clip0902)\" cx=\"1705.6\" cy=\"487.789\" r=\"14\" fill=\"#009af9\" fill-rule=\"evenodd\" fill-opacity=\"1\" stroke=\"#000000\" stroke-opacity=\"1\" stroke-width=\"3.2\"/>\n",
       "<circle clip-path=\"url(#clip0902)\" cx=\"1705.6\" cy=\"487.789\" r=\"14\" fill=\"#009af9\" fill-rule=\"evenodd\" fill-opacity=\"1\" stroke=\"#000000\" stroke-opacity=\"1\" stroke-width=\"3.2\"/>\n",
       "<circle clip-path=\"url(#clip0902)\" cx=\"1709.79\" cy=\"501.467\" r=\"14\" fill=\"#009af9\" fill-rule=\"evenodd\" fill-opacity=\"1\" stroke=\"#000000\" stroke-opacity=\"1\" stroke-width=\"3.2\"/>\n",
       "<circle clip-path=\"url(#clip0902)\" cx=\"1706.44\" cy=\"493.204\" r=\"14\" fill=\"#009af9\" fill-rule=\"evenodd\" fill-opacity=\"1\" stroke=\"#000000\" stroke-opacity=\"1\" stroke-width=\"3.2\"/>\n",
       "<circle clip-path=\"url(#clip0902)\" cx=\"1706.44\" cy=\"493.204\" r=\"14\" fill=\"#009af9\" fill-rule=\"evenodd\" fill-opacity=\"1\" stroke=\"#000000\" stroke-opacity=\"1\" stroke-width=\"3.2\"/>\n",
       "<circle clip-path=\"url(#clip0902)\" cx=\"1706.44\" cy=\"493.204\" r=\"14\" fill=\"#009af9\" fill-rule=\"evenodd\" fill-opacity=\"1\" stroke=\"#000000\" stroke-opacity=\"1\" stroke-width=\"3.2\"/>\n",
       "<circle clip-path=\"url(#clip0902)\" cx=\"1708.06\" cy=\"489.792\" r=\"14\" fill=\"#009af9\" fill-rule=\"evenodd\" fill-opacity=\"1\" stroke=\"#000000\" stroke-opacity=\"1\" stroke-width=\"3.2\"/>\n",
       "<circle clip-path=\"url(#clip0902)\" cx=\"1708.06\" cy=\"489.792\" r=\"14\" fill=\"#009af9\" fill-rule=\"evenodd\" fill-opacity=\"1\" stroke=\"#000000\" stroke-opacity=\"1\" stroke-width=\"3.2\"/>\n",
       "<circle clip-path=\"url(#clip0902)\" cx=\"1708.06\" cy=\"489.792\" r=\"14\" fill=\"#009af9\" fill-rule=\"evenodd\" fill-opacity=\"1\" stroke=\"#000000\" stroke-opacity=\"1\" stroke-width=\"3.2\"/>\n",
       "<circle clip-path=\"url(#clip0902)\" cx=\"1708.06\" cy=\"489.792\" r=\"14\" fill=\"#009af9\" fill-rule=\"evenodd\" fill-opacity=\"1\" stroke=\"#000000\" stroke-opacity=\"1\" stroke-width=\"3.2\"/>\n",
       "<circle clip-path=\"url(#clip0902)\" cx=\"1710.11\" cy=\"496.481\" r=\"14\" fill=\"#009af9\" fill-rule=\"evenodd\" fill-opacity=\"1\" stroke=\"#000000\" stroke-opacity=\"1\" stroke-width=\"3.2\"/>\n",
       "<circle clip-path=\"url(#clip0902)\" cx=\"1708.61\" cy=\"503.885\" r=\"14\" fill=\"#009af9\" fill-rule=\"evenodd\" fill-opacity=\"1\" stroke=\"#000000\" stroke-opacity=\"1\" stroke-width=\"3.2\"/>\n",
       "<circle clip-path=\"url(#clip0902)\" cx=\"1708.61\" cy=\"503.885\" r=\"14\" fill=\"#009af9\" fill-rule=\"evenodd\" fill-opacity=\"1\" stroke=\"#000000\" stroke-opacity=\"1\" stroke-width=\"3.2\"/>\n",
       "<circle clip-path=\"url(#clip0902)\" cx=\"1708.61\" cy=\"503.885\" r=\"14\" fill=\"#009af9\" fill-rule=\"evenodd\" fill-opacity=\"1\" stroke=\"#000000\" stroke-opacity=\"1\" stroke-width=\"3.2\"/>\n",
       "<circle clip-path=\"url(#clip0902)\" cx=\"1712.56\" cy=\"498.485\" r=\"14\" fill=\"#009af9\" fill-rule=\"evenodd\" fill-opacity=\"1\" stroke=\"#000000\" stroke-opacity=\"1\" stroke-width=\"3.2\"/>\n",
       "<circle clip-path=\"url(#clip0902)\" cx=\"1708.38\" cy=\"484.806\" r=\"14\" fill=\"#009af9\" fill-rule=\"evenodd\" fill-opacity=\"1\" stroke=\"#000000\" stroke-opacity=\"1\" stroke-width=\"3.2\"/>\n",
       "<circle clip-path=\"url(#clip0902)\" cx=\"1708.38\" cy=\"484.806\" r=\"14\" fill=\"#009af9\" fill-rule=\"evenodd\" fill-opacity=\"1\" stroke=\"#000000\" stroke-opacity=\"1\" stroke-width=\"3.2\"/>\n",
       "<circle clip-path=\"url(#clip0902)\" cx=\"1708.38\" cy=\"484.806\" r=\"14\" fill=\"#009af9\" fill-rule=\"evenodd\" fill-opacity=\"1\" stroke=\"#000000\" stroke-opacity=\"1\" stroke-width=\"3.2\"/>\n",
       "<circle clip-path=\"url(#clip0902)\" cx=\"1708.38\" cy=\"484.806\" r=\"14\" fill=\"#009af9\" fill-rule=\"evenodd\" fill-opacity=\"1\" stroke=\"#000000\" stroke-opacity=\"1\" stroke-width=\"3.2\"/>\n",
       "<circle clip-path=\"url(#clip0902)\" cx=\"1708.38\" cy=\"484.806\" r=\"14\" fill=\"#009af9\" fill-rule=\"evenodd\" fill-opacity=\"1\" stroke=\"#000000\" stroke-opacity=\"1\" stroke-width=\"3.2\"/>\n",
       "<circle clip-path=\"url(#clip0902)\" cx=\"1708.38\" cy=\"484.806\" r=\"14\" fill=\"#009af9\" fill-rule=\"evenodd\" fill-opacity=\"1\" stroke=\"#000000\" stroke-opacity=\"1\" stroke-width=\"3.2\"/>\n",
       "<circle clip-path=\"url(#clip0902)\" cx=\"1708.38\" cy=\"484.806\" r=\"14\" fill=\"#009af9\" fill-rule=\"evenodd\" fill-opacity=\"1\" stroke=\"#000000\" stroke-opacity=\"1\" stroke-width=\"3.2\"/>\n",
       "<circle clip-path=\"url(#clip0902)\" cx=\"1708.38\" cy=\"484.806\" r=\"14\" fill=\"#009af9\" fill-rule=\"evenodd\" fill-opacity=\"1\" stroke=\"#000000\" stroke-opacity=\"1\" stroke-width=\"3.2\"/>\n",
       "<circle clip-path=\"url(#clip0902)\" cx=\"1708.38\" cy=\"484.806\" r=\"14\" fill=\"#009af9\" fill-rule=\"evenodd\" fill-opacity=\"1\" stroke=\"#000000\" stroke-opacity=\"1\" stroke-width=\"3.2\"/>\n",
       "<circle clip-path=\"url(#clip0902)\" cx=\"1708.38\" cy=\"484.806\" r=\"14\" fill=\"#009af9\" fill-rule=\"evenodd\" fill-opacity=\"1\" stroke=\"#000000\" stroke-opacity=\"1\" stroke-width=\"3.2\"/>\n",
       "<circle clip-path=\"url(#clip0902)\" cx=\"1708.38\" cy=\"484.806\" r=\"14\" fill=\"#009af9\" fill-rule=\"evenodd\" fill-opacity=\"1\" stroke=\"#000000\" stroke-opacity=\"1\" stroke-width=\"3.2\"/>\n",
       "<circle clip-path=\"url(#clip0902)\" cx=\"1708.38\" cy=\"484.806\" r=\"14\" fill=\"#009af9\" fill-rule=\"evenodd\" fill-opacity=\"1\" stroke=\"#000000\" stroke-opacity=\"1\" stroke-width=\"3.2\"/>\n",
       "<circle clip-path=\"url(#clip0902)\" cx=\"1708.38\" cy=\"484.806\" r=\"14\" fill=\"#009af9\" fill-rule=\"evenodd\" fill-opacity=\"1\" stroke=\"#000000\" stroke-opacity=\"1\" stroke-width=\"3.2\"/>\n",
       "<circle clip-path=\"url(#clip0902)\" cx=\"1708.38\" cy=\"484.806\" r=\"14\" fill=\"#009af9\" fill-rule=\"evenodd\" fill-opacity=\"1\" stroke=\"#000000\" stroke-opacity=\"1\" stroke-width=\"3.2\"/>\n",
       "<circle clip-path=\"url(#clip0902)\" cx=\"1708.38\" cy=\"484.806\" r=\"14\" fill=\"#009af9\" fill-rule=\"evenodd\" fill-opacity=\"1\" stroke=\"#000000\" stroke-opacity=\"1\" stroke-width=\"3.2\"/>\n",
       "<circle clip-path=\"url(#clip0902)\" cx=\"1708.38\" cy=\"484.806\" r=\"14\" fill=\"#009af9\" fill-rule=\"evenodd\" fill-opacity=\"1\" stroke=\"#000000\" stroke-opacity=\"1\" stroke-width=\"3.2\"/>\n",
       "<circle clip-path=\"url(#clip0902)\" cx=\"1708.38\" cy=\"484.806\" r=\"14\" fill=\"#009af9\" fill-rule=\"evenodd\" fill-opacity=\"1\" stroke=\"#000000\" stroke-opacity=\"1\" stroke-width=\"3.2\"/>\n",
       "<circle clip-path=\"url(#clip0902)\" cx=\"1708.38\" cy=\"484.806\" r=\"14\" fill=\"#009af9\" fill-rule=\"evenodd\" fill-opacity=\"1\" stroke=\"#000000\" stroke-opacity=\"1\" stroke-width=\"3.2\"/>\n",
       "<circle clip-path=\"url(#clip0902)\" cx=\"1708.38\" cy=\"484.806\" r=\"14\" fill=\"#009af9\" fill-rule=\"evenodd\" fill-opacity=\"1\" stroke=\"#000000\" stroke-opacity=\"1\" stroke-width=\"3.2\"/>\n",
       "<circle clip-path=\"url(#clip0902)\" cx=\"1708.38\" cy=\"484.806\" r=\"14\" fill=\"#009af9\" fill-rule=\"evenodd\" fill-opacity=\"1\" stroke=\"#000000\" stroke-opacity=\"1\" stroke-width=\"3.2\"/>\n",
       "<circle clip-path=\"url(#clip0902)\" cx=\"1708.38\" cy=\"484.806\" r=\"14\" fill=\"#009af9\" fill-rule=\"evenodd\" fill-opacity=\"1\" stroke=\"#000000\" stroke-opacity=\"1\" stroke-width=\"3.2\"/>\n",
       "<circle clip-path=\"url(#clip0902)\" cx=\"1708.38\" cy=\"484.806\" r=\"14\" fill=\"#009af9\" fill-rule=\"evenodd\" fill-opacity=\"1\" stroke=\"#000000\" stroke-opacity=\"1\" stroke-width=\"3.2\"/>\n",
       "<circle clip-path=\"url(#clip0902)\" cx=\"1708.38\" cy=\"484.806\" r=\"14\" fill=\"#009af9\" fill-rule=\"evenodd\" fill-opacity=\"1\" stroke=\"#000000\" stroke-opacity=\"1\" stroke-width=\"3.2\"/>\n",
       "<circle clip-path=\"url(#clip0902)\" cx=\"1708.38\" cy=\"484.806\" r=\"14\" fill=\"#009af9\" fill-rule=\"evenodd\" fill-opacity=\"1\" stroke=\"#000000\" stroke-opacity=\"1\" stroke-width=\"3.2\"/>\n",
       "<circle clip-path=\"url(#clip0902)\" cx=\"1708.38\" cy=\"484.806\" r=\"14\" fill=\"#009af9\" fill-rule=\"evenodd\" fill-opacity=\"1\" stroke=\"#000000\" stroke-opacity=\"1\" stroke-width=\"3.2\"/>\n",
       "<circle clip-path=\"url(#clip0902)\" cx=\"1708.38\" cy=\"484.806\" r=\"14\" fill=\"#009af9\" fill-rule=\"evenodd\" fill-opacity=\"1\" stroke=\"#000000\" stroke-opacity=\"1\" stroke-width=\"3.2\"/>\n",
       "<circle clip-path=\"url(#clip0902)\" cx=\"1708.38\" cy=\"484.806\" r=\"14\" fill=\"#009af9\" fill-rule=\"evenodd\" fill-opacity=\"1\" stroke=\"#000000\" stroke-opacity=\"1\" stroke-width=\"3.2\"/>\n",
       "<circle clip-path=\"url(#clip0902)\" cx=\"1708.38\" cy=\"484.806\" r=\"14\" fill=\"#009af9\" fill-rule=\"evenodd\" fill-opacity=\"1\" stroke=\"#000000\" stroke-opacity=\"1\" stroke-width=\"3.2\"/>\n",
       "<circle clip-path=\"url(#clip0902)\" cx=\"1708.38\" cy=\"484.806\" r=\"14\" fill=\"#009af9\" fill-rule=\"evenodd\" fill-opacity=\"1\" stroke=\"#000000\" stroke-opacity=\"1\" stroke-width=\"3.2\"/>\n",
       "<circle clip-path=\"url(#clip0902)\" cx=\"1709.79\" cy=\"501.467\" r=\"14\" fill=\"#009af9\" fill-rule=\"evenodd\" fill-opacity=\"1\" stroke=\"#000000\" stroke-opacity=\"1\" stroke-width=\"3.2\"/>\n",
       "<circle clip-path=\"url(#clip0902)\" cx=\"1708.38\" cy=\"484.806\" r=\"14\" fill=\"#009af9\" fill-rule=\"evenodd\" fill-opacity=\"1\" stroke=\"#000000\" stroke-opacity=\"1\" stroke-width=\"3.2\"/>\n",
       "<circle clip-path=\"url(#clip0902)\" cx=\"1708.38\" cy=\"484.806\" r=\"14\" fill=\"#009af9\" fill-rule=\"evenodd\" fill-opacity=\"1\" stroke=\"#000000\" stroke-opacity=\"1\" stroke-width=\"3.2\"/>\n",
       "<circle clip-path=\"url(#clip0902)\" cx=\"1708.38\" cy=\"484.806\" r=\"14\" fill=\"#009af9\" fill-rule=\"evenodd\" fill-opacity=\"1\" stroke=\"#000000\" stroke-opacity=\"1\" stroke-width=\"3.2\"/>\n",
       "<circle clip-path=\"url(#clip0902)\" cx=\"1708.38\" cy=\"484.806\" r=\"14\" fill=\"#009af9\" fill-rule=\"evenodd\" fill-opacity=\"1\" stroke=\"#000000\" stroke-opacity=\"1\" stroke-width=\"3.2\"/>\n",
       "<circle clip-path=\"url(#clip0902)\" cx=\"1708.38\" cy=\"484.806\" r=\"14\" fill=\"#009af9\" fill-rule=\"evenodd\" fill-opacity=\"1\" stroke=\"#000000\" stroke-opacity=\"1\" stroke-width=\"3.2\"/>\n",
       "<circle clip-path=\"url(#clip0902)\" cx=\"1708.38\" cy=\"484.806\" r=\"14\" fill=\"#009af9\" fill-rule=\"evenodd\" fill-opacity=\"1\" stroke=\"#000000\" stroke-opacity=\"1\" stroke-width=\"3.2\"/>\n",
       "<circle clip-path=\"url(#clip0902)\" cx=\"1708.38\" cy=\"484.806\" r=\"14\" fill=\"#009af9\" fill-rule=\"evenodd\" fill-opacity=\"1\" stroke=\"#000000\" stroke-opacity=\"1\" stroke-width=\"3.2\"/>\n",
       "<circle clip-path=\"url(#clip0902)\" cx=\"1708.38\" cy=\"484.806\" r=\"14\" fill=\"#009af9\" fill-rule=\"evenodd\" fill-opacity=\"1\" stroke=\"#000000\" stroke-opacity=\"1\" stroke-width=\"3.2\"/>\n",
       "<circle clip-path=\"url(#clip0902)\" cx=\"1708.38\" cy=\"484.806\" r=\"14\" fill=\"#009af9\" fill-rule=\"evenodd\" fill-opacity=\"1\" stroke=\"#000000\" stroke-opacity=\"1\" stroke-width=\"3.2\"/>\n",
       "<circle clip-path=\"url(#clip0902)\" cx=\"1703.99\" cy=\"491.201\" r=\"14\" fill=\"#009af9\" fill-rule=\"evenodd\" fill-opacity=\"1\" stroke=\"#000000\" stroke-opacity=\"1\" stroke-width=\"3.2\"/>\n",
       "<circle clip-path=\"url(#clip0902)\" cx=\"1685.73\" cy=\"498.992\" r=\"14\" fill=\"#009af9\" fill-rule=\"evenodd\" fill-opacity=\"1\" stroke=\"#000000\" stroke-opacity=\"1\" stroke-width=\"3.2\"/>\n",
       "<circle clip-path=\"url(#clip0902)\" cx=\"1713.71\" cy=\"512.042\" r=\"14\" fill=\"#009af9\" fill-rule=\"evenodd\" fill-opacity=\"1\" stroke=\"#000000\" stroke-opacity=\"1\" stroke-width=\"3.2\"/>\n",
       "<circle clip-path=\"url(#clip0902)\" cx=\"1685.73\" cy=\"498.992\" r=\"14\" fill=\"#009af9\" fill-rule=\"evenodd\" fill-opacity=\"1\" stroke=\"#000000\" stroke-opacity=\"1\" stroke-width=\"3.2\"/>\n",
       "<circle clip-path=\"url(#clip0902)\" cx=\"1684.35\" cy=\"496.318\" r=\"14\" fill=\"#009af9\" fill-rule=\"evenodd\" fill-opacity=\"1\" stroke=\"#000000\" stroke-opacity=\"1\" stroke-width=\"3.2\"/>\n",
       "<circle clip-path=\"url(#clip0902)\" cx=\"1685.73\" cy=\"498.992\" r=\"14\" fill=\"#009af9\" fill-rule=\"evenodd\" fill-opacity=\"1\" stroke=\"#000000\" stroke-opacity=\"1\" stroke-width=\"3.2\"/>\n",
       "<circle clip-path=\"url(#clip0902)\" cx=\"1683.27\" cy=\"496.988\" r=\"14\" fill=\"#009af9\" fill-rule=\"evenodd\" fill-opacity=\"1\" stroke=\"#000000\" stroke-opacity=\"1\" stroke-width=\"3.2\"/>\n",
       "<circle clip-path=\"url(#clip0902)\" cx=\"1683.27\" cy=\"496.988\" r=\"14\" fill=\"#009af9\" fill-rule=\"evenodd\" fill-opacity=\"1\" stroke=\"#000000\" stroke-opacity=\"1\" stroke-width=\"3.2\"/>\n",
       "<circle clip-path=\"url(#clip0902)\" cx=\"1683.27\" cy=\"496.988\" r=\"14\" fill=\"#009af9\" fill-rule=\"evenodd\" fill-opacity=\"1\" stroke=\"#000000\" stroke-opacity=\"1\" stroke-width=\"3.2\"/>\n",
       "<circle clip-path=\"url(#clip0902)\" cx=\"1681.78\" cy=\"504.392\" r=\"14\" fill=\"#009af9\" fill-rule=\"evenodd\" fill-opacity=\"1\" stroke=\"#000000\" stroke-opacity=\"1\" stroke-width=\"3.2\"/>\n",
       "<circle clip-path=\"url(#clip0902)\" cx=\"1681.78\" cy=\"504.392\" r=\"14\" fill=\"#009af9\" fill-rule=\"evenodd\" fill-opacity=\"1\" stroke=\"#000000\" stroke-opacity=\"1\" stroke-width=\"3.2\"/>\n",
       "<circle clip-path=\"url(#clip0902)\" cx=\"1683.27\" cy=\"496.988\" r=\"14\" fill=\"#009af9\" fill-rule=\"evenodd\" fill-opacity=\"1\" stroke=\"#000000\" stroke-opacity=\"1\" stroke-width=\"3.2\"/>\n",
       "<circle clip-path=\"url(#clip0902)\" cx=\"1681.78\" cy=\"504.392\" r=\"14\" fill=\"#009af9\" fill-rule=\"evenodd\" fill-opacity=\"1\" stroke=\"#000000\" stroke-opacity=\"1\" stroke-width=\"3.2\"/>\n",
       "<circle clip-path=\"url(#clip0902)\" cx=\"1681.78\" cy=\"504.392\" r=\"14\" fill=\"#009af9\" fill-rule=\"evenodd\" fill-opacity=\"1\" stroke=\"#000000\" stroke-opacity=\"1\" stroke-width=\"3.2\"/>\n",
       "<circle clip-path=\"url(#clip0902)\" cx=\"1665.2\" cy=\"509.911\" r=\"14\" fill=\"#009af9\" fill-rule=\"evenodd\" fill-opacity=\"1\" stroke=\"#000000\" stroke-opacity=\"1\" stroke-width=\"3.2\"/>\n",
       "<circle clip-path=\"url(#clip0902)\" cx=\"1705.6\" cy=\"487.789\" r=\"14\" fill=\"#009af9\" fill-rule=\"evenodd\" fill-opacity=\"1\" stroke=\"#000000\" stroke-opacity=\"1\" stroke-width=\"3.2\"/>\n",
       "<circle clip-path=\"url(#clip0902)\" cx=\"1710.11\" cy=\"496.481\" r=\"14\" fill=\"#009af9\" fill-rule=\"evenodd\" fill-opacity=\"1\" stroke=\"#000000\" stroke-opacity=\"1\" stroke-width=\"3.2\"/>\n",
       "<circle clip-path=\"url(#clip0902)\" cx=\"1705.6\" cy=\"487.789\" r=\"14\" fill=\"#009af9\" fill-rule=\"evenodd\" fill-opacity=\"1\" stroke=\"#000000\" stroke-opacity=\"1\" stroke-width=\"3.2\"/>\n",
       "<circle clip-path=\"url(#clip0902)\" cx=\"1716.48\" cy=\"509.06\" r=\"14\" fill=\"#009af9\" fill-rule=\"evenodd\" fill-opacity=\"1\" stroke=\"#000000\" stroke-opacity=\"1\" stroke-width=\"3.2\"/>\n",
       "<circle clip-path=\"url(#clip0902)\" cx=\"1712.56\" cy=\"498.485\" r=\"14\" fill=\"#009af9\" fill-rule=\"evenodd\" fill-opacity=\"1\" stroke=\"#000000\" stroke-opacity=\"1\" stroke-width=\"3.2\"/>\n",
       "<circle clip-path=\"url(#clip0902)\" cx=\"1708.38\" cy=\"484.806\" r=\"14\" fill=\"#009af9\" fill-rule=\"evenodd\" fill-opacity=\"1\" stroke=\"#000000\" stroke-opacity=\"1\" stroke-width=\"3.2\"/>\n",
       "<circle clip-path=\"url(#clip0902)\" cx=\"1705.6\" cy=\"487.789\" r=\"14\" fill=\"#009af9\" fill-rule=\"evenodd\" fill-opacity=\"1\" stroke=\"#000000\" stroke-opacity=\"1\" stroke-width=\"3.2\"/>\n",
       "<circle clip-path=\"url(#clip0902)\" cx=\"1665.1\" cy=\"505.362\" r=\"14\" fill=\"#009af9\" fill-rule=\"evenodd\" fill-opacity=\"1\" stroke=\"#000000\" stroke-opacity=\"1\" stroke-width=\"3.2\"/>\n",
       "<circle clip-path=\"url(#clip0902)\" cx=\"1705.6\" cy=\"487.789\" r=\"14\" fill=\"#009af9\" fill-rule=\"evenodd\" fill-opacity=\"1\" stroke=\"#000000\" stroke-opacity=\"1\" stroke-width=\"3.2\"/>\n",
       "<circle clip-path=\"url(#clip0902)\" cx=\"1665.1\" cy=\"505.362\" r=\"14\" fill=\"#009af9\" fill-rule=\"evenodd\" fill-opacity=\"1\" stroke=\"#000000\" stroke-opacity=\"1\" stroke-width=\"3.2\"/>\n",
       "<circle clip-path=\"url(#clip0902)\" cx=\"1705.6\" cy=\"487.789\" r=\"14\" fill=\"#009af9\" fill-rule=\"evenodd\" fill-opacity=\"1\" stroke=\"#000000\" stroke-opacity=\"1\" stroke-width=\"3.2\"/>\n",
       "<circle clip-path=\"url(#clip0902)\" cx=\"1708.38\" cy=\"484.806\" r=\"14\" fill=\"#009af9\" fill-rule=\"evenodd\" fill-opacity=\"1\" stroke=\"#000000\" stroke-opacity=\"1\" stroke-width=\"3.2\"/>\n",
       "<circle clip-path=\"url(#clip0902)\" cx=\"1716.48\" cy=\"509.06\" r=\"14\" fill=\"#e26f46\" fill-rule=\"evenodd\" fill-opacity=\"1\" stroke=\"#000000\" stroke-opacity=\"1\" stroke-width=\"3.2\"/>\n",
       "<circle clip-path=\"url(#clip0902)\" cx=\"1709.79\" cy=\"501.467\" r=\"14\" fill=\"#e26f46\" fill-rule=\"evenodd\" fill-opacity=\"1\" stroke=\"#000000\" stroke-opacity=\"1\" stroke-width=\"3.2\"/>\n",
       "<circle clip-path=\"url(#clip0902)\" cx=\"1705.6\" cy=\"487.789\" r=\"14\" fill=\"#e26f46\" fill-rule=\"evenodd\" fill-opacity=\"1\" stroke=\"#000000\" stroke-opacity=\"1\" stroke-width=\"3.2\"/>\n",
       "<circle clip-path=\"url(#clip0902)\" cx=\"1702.49\" cy=\"498.604\" r=\"14\" fill=\"#e26f46\" fill-rule=\"evenodd\" fill-opacity=\"1\" stroke=\"#000000\" stroke-opacity=\"1\" stroke-width=\"3.2\"/>\n",
       "<circle clip-path=\"url(#clip0902)\" cx=\"1708.38\" cy=\"484.806\" r=\"14\" fill=\"#e26f46\" fill-rule=\"evenodd\" fill-opacity=\"1\" stroke=\"#000000\" stroke-opacity=\"1\" stroke-width=\"3.2\"/>\n",
       "<circle clip-path=\"url(#clip0902)\" cx=\"1709.79\" cy=\"501.467\" r=\"14\" fill=\"#e26f46\" fill-rule=\"evenodd\" fill-opacity=\"1\" stroke=\"#000000\" stroke-opacity=\"1\" stroke-width=\"3.2\"/>\n",
       "<circle clip-path=\"url(#clip0902)\" cx=\"1708.61\" cy=\"503.885\" r=\"14\" fill=\"#e26f46\" fill-rule=\"evenodd\" fill-opacity=\"1\" stroke=\"#000000\" stroke-opacity=\"1\" stroke-width=\"3.2\"/>\n",
       "<circle clip-path=\"url(#clip0902)\" cx=\"1712.56\" cy=\"498.485\" r=\"14\" fill=\"#e26f46\" fill-rule=\"evenodd\" fill-opacity=\"1\" stroke=\"#000000\" stroke-opacity=\"1\" stroke-width=\"3.2\"/>\n",
       "<circle clip-path=\"url(#clip0902)\" cx=\"1717.97\" cy=\"501.656\" r=\"14\" fill=\"#e26f46\" fill-rule=\"evenodd\" fill-opacity=\"1\" stroke=\"#000000\" stroke-opacity=\"1\" stroke-width=\"3.2\"/>\n",
       "<circle clip-path=\"url(#clip0902)\" cx=\"1708.38\" cy=\"484.806\" r=\"14\" fill=\"#e26f46\" fill-rule=\"evenodd\" fill-opacity=\"1\" stroke=\"#000000\" stroke-opacity=\"1\" stroke-width=\"3.2\"/>\n",
       "<circle clip-path=\"url(#clip0902)\" cx=\"1705.6\" cy=\"487.789\" r=\"14\" fill=\"#e26f46\" fill-rule=\"evenodd\" fill-opacity=\"1\" stroke=\"#000000\" stroke-opacity=\"1\" stroke-width=\"3.2\"/>\n",
       "<circle clip-path=\"url(#clip0902)\" cx=\"1706.44\" cy=\"493.204\" r=\"14\" fill=\"#e26f46\" fill-rule=\"evenodd\" fill-opacity=\"1\" stroke=\"#000000\" stroke-opacity=\"1\" stroke-width=\"3.2\"/>\n",
       "<circle clip-path=\"url(#clip0902)\" cx=\"1720.43\" cy=\"503.66\" r=\"14\" fill=\"#e26f46\" fill-rule=\"evenodd\" fill-opacity=\"1\" stroke=\"#000000\" stroke-opacity=\"1\" stroke-width=\"3.2\"/>\n",
       "<circle clip-path=\"url(#clip0902)\" cx=\"1716.48\" cy=\"509.06\" r=\"14\" fill=\"#e26f46\" fill-rule=\"evenodd\" fill-opacity=\"1\" stroke=\"#000000\" stroke-opacity=\"1\" stroke-width=\"3.2\"/>\n",
       "<circle clip-path=\"url(#clip0902)\" cx=\"1708.61\" cy=\"503.885\" r=\"14\" fill=\"#e26f46\" fill-rule=\"evenodd\" fill-opacity=\"1\" stroke=\"#000000\" stroke-opacity=\"1\" stroke-width=\"3.2\"/>\n",
       "<circle clip-path=\"url(#clip0902)\" cx=\"1712.56\" cy=\"498.485\" r=\"14\" fill=\"#e26f46\" fill-rule=\"evenodd\" fill-opacity=\"1\" stroke=\"#000000\" stroke-opacity=\"1\" stroke-width=\"3.2\"/>\n",
       "<circle clip-path=\"url(#clip0902)\" cx=\"1710.11\" cy=\"496.481\" r=\"14\" fill=\"#e26f46\" fill-rule=\"evenodd\" fill-opacity=\"1\" stroke=\"#000000\" stroke-opacity=\"1\" stroke-width=\"3.2\"/>\n",
       "<circle clip-path=\"url(#clip0902)\" cx=\"1708.06\" cy=\"489.792\" r=\"14\" fill=\"#e26f46\" fill-rule=\"evenodd\" fill-opacity=\"1\" stroke=\"#000000\" stroke-opacity=\"1\" stroke-width=\"3.2\"/>\n",
       "<circle clip-path=\"url(#clip0902)\" cx=\"1708.06\" cy=\"489.792\" r=\"14\" fill=\"#e26f46\" fill-rule=\"evenodd\" fill-opacity=\"1\" stroke=\"#000000\" stroke-opacity=\"1\" stroke-width=\"3.2\"/>\n",
       "<circle clip-path=\"url(#clip0902)\" cx=\"1717.97\" cy=\"501.656\" r=\"14\" fill=\"#e26f46\" fill-rule=\"evenodd\" fill-opacity=\"1\" stroke=\"#000000\" stroke-opacity=\"1\" stroke-width=\"3.2\"/>\n",
       "<circle clip-path=\"url(#clip0902)\" cx=\"1706.44\" cy=\"493.204\" r=\"14\" fill=\"#e26f46\" fill-rule=\"evenodd\" fill-opacity=\"1\" stroke=\"#000000\" stroke-opacity=\"1\" stroke-width=\"3.2\"/>\n",
       "<circle clip-path=\"url(#clip0902)\" cx=\"1710.11\" cy=\"496.481\" r=\"14\" fill=\"#e26f46\" fill-rule=\"evenodd\" fill-opacity=\"1\" stroke=\"#000000\" stroke-opacity=\"1\" stroke-width=\"3.2\"/>\n",
       "<circle clip-path=\"url(#clip0902)\" cx=\"1708.38\" cy=\"484.806\" r=\"14\" fill=\"#e26f46\" fill-rule=\"evenodd\" fill-opacity=\"1\" stroke=\"#000000\" stroke-opacity=\"1\" stroke-width=\"3.2\"/>\n",
       "<circle clip-path=\"url(#clip0902)\" cx=\"1708.38\" cy=\"484.806\" r=\"14\" fill=\"#e26f46\" fill-rule=\"evenodd\" fill-opacity=\"1\" stroke=\"#000000\" stroke-opacity=\"1\" stroke-width=\"3.2\"/>\n",
       "<circle clip-path=\"url(#clip0902)\" cx=\"1708.38\" cy=\"484.806\" r=\"14\" fill=\"#e26f46\" fill-rule=\"evenodd\" fill-opacity=\"1\" stroke=\"#000000\" stroke-opacity=\"1\" stroke-width=\"3.2\"/>\n",
       "<circle clip-path=\"url(#clip0902)\" cx=\"1708.38\" cy=\"484.806\" r=\"14\" fill=\"#e26f46\" fill-rule=\"evenodd\" fill-opacity=\"1\" stroke=\"#000000\" stroke-opacity=\"1\" stroke-width=\"3.2\"/>\n",
       "<circle clip-path=\"url(#clip0902)\" cx=\"1708.38\" cy=\"484.806\" r=\"14\" fill=\"#e26f46\" fill-rule=\"evenodd\" fill-opacity=\"1\" stroke=\"#000000\" stroke-opacity=\"1\" stroke-width=\"3.2\"/>\n",
       "<circle clip-path=\"url(#clip0902)\" cx=\"1708.38\" cy=\"484.806\" r=\"14\" fill=\"#e26f46\" fill-rule=\"evenodd\" fill-opacity=\"1\" stroke=\"#000000\" stroke-opacity=\"1\" stroke-width=\"3.2\"/>\n",
       "<circle clip-path=\"url(#clip0902)\" cx=\"1708.38\" cy=\"484.806\" r=\"14\" fill=\"#e26f46\" fill-rule=\"evenodd\" fill-opacity=\"1\" stroke=\"#000000\" stroke-opacity=\"1\" stroke-width=\"3.2\"/>\n",
       "<circle clip-path=\"url(#clip0902)\" cx=\"1708.38\" cy=\"484.806\" r=\"14\" fill=\"#e26f46\" fill-rule=\"evenodd\" fill-opacity=\"1\" stroke=\"#000000\" stroke-opacity=\"1\" stroke-width=\"3.2\"/>\n",
       "<circle clip-path=\"url(#clip0902)\" cx=\"1708.38\" cy=\"484.806\" r=\"14\" fill=\"#e26f46\" fill-rule=\"evenodd\" fill-opacity=\"1\" stroke=\"#000000\" stroke-opacity=\"1\" stroke-width=\"3.2\"/>\n",
       "<circle clip-path=\"url(#clip0902)\" cx=\"1708.38\" cy=\"484.806\" r=\"14\" fill=\"#e26f46\" fill-rule=\"evenodd\" fill-opacity=\"1\" stroke=\"#000000\" stroke-opacity=\"1\" stroke-width=\"3.2\"/>\n",
       "<circle clip-path=\"url(#clip0902)\" cx=\"1708.38\" cy=\"484.806\" r=\"14\" fill=\"#e26f46\" fill-rule=\"evenodd\" fill-opacity=\"1\" stroke=\"#000000\" stroke-opacity=\"1\" stroke-width=\"3.2\"/>\n",
       "<circle clip-path=\"url(#clip0902)\" cx=\"1708.38\" cy=\"484.806\" r=\"14\" fill=\"#e26f46\" fill-rule=\"evenodd\" fill-opacity=\"1\" stroke=\"#000000\" stroke-opacity=\"1\" stroke-width=\"3.2\"/>\n",
       "<circle clip-path=\"url(#clip0902)\" cx=\"1708.38\" cy=\"484.806\" r=\"14\" fill=\"#e26f46\" fill-rule=\"evenodd\" fill-opacity=\"1\" stroke=\"#000000\" stroke-opacity=\"1\" stroke-width=\"3.2\"/>\n",
       "<circle clip-path=\"url(#clip0902)\" cx=\"1708.38\" cy=\"484.806\" r=\"14\" fill=\"#e26f46\" fill-rule=\"evenodd\" fill-opacity=\"1\" stroke=\"#000000\" stroke-opacity=\"1\" stroke-width=\"3.2\"/>\n",
       "<circle clip-path=\"url(#clip0902)\" cx=\"1708.38\" cy=\"484.806\" r=\"14\" fill=\"#e26f46\" fill-rule=\"evenodd\" fill-opacity=\"1\" stroke=\"#000000\" stroke-opacity=\"1\" stroke-width=\"3.2\"/>\n",
       "<circle clip-path=\"url(#clip0902)\" cx=\"1708.38\" cy=\"484.806\" r=\"14\" fill=\"#e26f46\" fill-rule=\"evenodd\" fill-opacity=\"1\" stroke=\"#000000\" stroke-opacity=\"1\" stroke-width=\"3.2\"/>\n",
       "<circle clip-path=\"url(#clip0902)\" cx=\"1708.38\" cy=\"484.806\" r=\"14\" fill=\"#e26f46\" fill-rule=\"evenodd\" fill-opacity=\"1\" stroke=\"#000000\" stroke-opacity=\"1\" stroke-width=\"3.2\"/>\n",
       "<circle clip-path=\"url(#clip0902)\" cx=\"1708.38\" cy=\"484.806\" r=\"14\" fill=\"#e26f46\" fill-rule=\"evenodd\" fill-opacity=\"1\" stroke=\"#000000\" stroke-opacity=\"1\" stroke-width=\"3.2\"/>\n",
       "<circle clip-path=\"url(#clip0902)\" cx=\"1708.38\" cy=\"484.806\" r=\"14\" fill=\"#e26f46\" fill-rule=\"evenodd\" fill-opacity=\"1\" stroke=\"#000000\" stroke-opacity=\"1\" stroke-width=\"3.2\"/>\n",
       "<circle clip-path=\"url(#clip0902)\" cx=\"1708.38\" cy=\"484.806\" r=\"14\" fill=\"#e26f46\" fill-rule=\"evenodd\" fill-opacity=\"1\" stroke=\"#000000\" stroke-opacity=\"1\" stroke-width=\"3.2\"/>\n",
       "<circle clip-path=\"url(#clip0902)\" cx=\"1708.38\" cy=\"484.806\" r=\"14\" fill=\"#e26f46\" fill-rule=\"evenodd\" fill-opacity=\"1\" stroke=\"#000000\" stroke-opacity=\"1\" stroke-width=\"3.2\"/>\n",
       "<circle clip-path=\"url(#clip0902)\" cx=\"1708.38\" cy=\"484.806\" r=\"14\" fill=\"#e26f46\" fill-rule=\"evenodd\" fill-opacity=\"1\" stroke=\"#000000\" stroke-opacity=\"1\" stroke-width=\"3.2\"/>\n",
       "<circle clip-path=\"url(#clip0902)\" cx=\"1708.38\" cy=\"484.806\" r=\"14\" fill=\"#e26f46\" fill-rule=\"evenodd\" fill-opacity=\"1\" stroke=\"#000000\" stroke-opacity=\"1\" stroke-width=\"3.2\"/>\n",
       "<circle clip-path=\"url(#clip0902)\" cx=\"1708.38\" cy=\"484.806\" r=\"14\" fill=\"#e26f46\" fill-rule=\"evenodd\" fill-opacity=\"1\" stroke=\"#000000\" stroke-opacity=\"1\" stroke-width=\"3.2\"/>\n",
       "<circle clip-path=\"url(#clip0902)\" cx=\"1708.38\" cy=\"484.806\" r=\"14\" fill=\"#e26f46\" fill-rule=\"evenodd\" fill-opacity=\"1\" stroke=\"#000000\" stroke-opacity=\"1\" stroke-width=\"3.2\"/>\n",
       "<circle clip-path=\"url(#clip0902)\" cx=\"1708.38\" cy=\"484.806\" r=\"14\" fill=\"#e26f46\" fill-rule=\"evenodd\" fill-opacity=\"1\" stroke=\"#000000\" stroke-opacity=\"1\" stroke-width=\"3.2\"/>\n",
       "<circle clip-path=\"url(#clip0902)\" cx=\"1708.38\" cy=\"484.806\" r=\"14\" fill=\"#e26f46\" fill-rule=\"evenodd\" fill-opacity=\"1\" stroke=\"#000000\" stroke-opacity=\"1\" stroke-width=\"3.2\"/>\n",
       "<circle clip-path=\"url(#clip0902)\" cx=\"1708.38\" cy=\"484.806\" r=\"14\" fill=\"#e26f46\" fill-rule=\"evenodd\" fill-opacity=\"1\" stroke=\"#000000\" stroke-opacity=\"1\" stroke-width=\"3.2\"/>\n",
       "<circle clip-path=\"url(#clip0902)\" cx=\"1708.38\" cy=\"484.806\" r=\"14\" fill=\"#e26f46\" fill-rule=\"evenodd\" fill-opacity=\"1\" stroke=\"#000000\" stroke-opacity=\"1\" stroke-width=\"3.2\"/>\n",
       "<circle clip-path=\"url(#clip0902)\" cx=\"1708.38\" cy=\"484.806\" r=\"14\" fill=\"#e26f46\" fill-rule=\"evenodd\" fill-opacity=\"1\" stroke=\"#000000\" stroke-opacity=\"1\" stroke-width=\"3.2\"/>\n",
       "<circle clip-path=\"url(#clip0902)\" cx=\"1708.38\" cy=\"484.806\" r=\"14\" fill=\"#e26f46\" fill-rule=\"evenodd\" fill-opacity=\"1\" stroke=\"#000000\" stroke-opacity=\"1\" stroke-width=\"3.2\"/>\n",
       "<circle clip-path=\"url(#clip0902)\" cx=\"1708.38\" cy=\"484.806\" r=\"14\" fill=\"#e26f46\" fill-rule=\"evenodd\" fill-opacity=\"1\" stroke=\"#000000\" stroke-opacity=\"1\" stroke-width=\"3.2\"/>\n",
       "<circle clip-path=\"url(#clip0902)\" cx=\"1708.38\" cy=\"484.806\" r=\"14\" fill=\"#e26f46\" fill-rule=\"evenodd\" fill-opacity=\"1\" stroke=\"#000000\" stroke-opacity=\"1\" stroke-width=\"3.2\"/>\n",
       "<circle clip-path=\"url(#clip0902)\" cx=\"1708.38\" cy=\"484.806\" r=\"14\" fill=\"#e26f46\" fill-rule=\"evenodd\" fill-opacity=\"1\" stroke=\"#000000\" stroke-opacity=\"1\" stroke-width=\"3.2\"/>\n",
       "<circle clip-path=\"url(#clip0902)\" cx=\"1708.38\" cy=\"484.806\" r=\"14\" fill=\"#e26f46\" fill-rule=\"evenodd\" fill-opacity=\"1\" stroke=\"#000000\" stroke-opacity=\"1\" stroke-width=\"3.2\"/>\n",
       "<circle clip-path=\"url(#clip0902)\" cx=\"1708.38\" cy=\"484.806\" r=\"14\" fill=\"#e26f46\" fill-rule=\"evenodd\" fill-opacity=\"1\" stroke=\"#000000\" stroke-opacity=\"1\" stroke-width=\"3.2\"/>\n",
       "<circle clip-path=\"url(#clip0902)\" cx=\"1708.38\" cy=\"484.806\" r=\"14\" fill=\"#e26f46\" fill-rule=\"evenodd\" fill-opacity=\"1\" stroke=\"#000000\" stroke-opacity=\"1\" stroke-width=\"3.2\"/>\n",
       "<circle clip-path=\"url(#clip0902)\" cx=\"1708.38\" cy=\"484.806\" r=\"14\" fill=\"#e26f46\" fill-rule=\"evenodd\" fill-opacity=\"1\" stroke=\"#000000\" stroke-opacity=\"1\" stroke-width=\"3.2\"/>\n",
       "<circle clip-path=\"url(#clip0902)\" cx=\"1708.38\" cy=\"484.806\" r=\"14\" fill=\"#e26f46\" fill-rule=\"evenodd\" fill-opacity=\"1\" stroke=\"#000000\" stroke-opacity=\"1\" stroke-width=\"3.2\"/>\n",
       "<circle clip-path=\"url(#clip0902)\" cx=\"1708.38\" cy=\"484.806\" r=\"14\" fill=\"#e26f46\" fill-rule=\"evenodd\" fill-opacity=\"1\" stroke=\"#000000\" stroke-opacity=\"1\" stroke-width=\"3.2\"/>\n",
       "<circle clip-path=\"url(#clip0902)\" cx=\"1708.38\" cy=\"484.806\" r=\"14\" fill=\"#e26f46\" fill-rule=\"evenodd\" fill-opacity=\"1\" stroke=\"#000000\" stroke-opacity=\"1\" stroke-width=\"3.2\"/>\n",
       "<circle clip-path=\"url(#clip0902)\" cx=\"1708.38\" cy=\"484.806\" r=\"14\" fill=\"#e26f46\" fill-rule=\"evenodd\" fill-opacity=\"1\" stroke=\"#000000\" stroke-opacity=\"1\" stroke-width=\"3.2\"/>\n",
       "<circle clip-path=\"url(#clip0902)\" cx=\"1708.38\" cy=\"484.806\" r=\"14\" fill=\"#e26f46\" fill-rule=\"evenodd\" fill-opacity=\"1\" stroke=\"#000000\" stroke-opacity=\"1\" stroke-width=\"3.2\"/>\n",
       "<circle clip-path=\"url(#clip0902)\" cx=\"1708.38\" cy=\"484.806\" r=\"14\" fill=\"#e26f46\" fill-rule=\"evenodd\" fill-opacity=\"1\" stroke=\"#000000\" stroke-opacity=\"1\" stroke-width=\"3.2\"/>\n",
       "<circle clip-path=\"url(#clip0902)\" cx=\"1708.38\" cy=\"484.806\" r=\"14\" fill=\"#e26f46\" fill-rule=\"evenodd\" fill-opacity=\"1\" stroke=\"#000000\" stroke-opacity=\"1\" stroke-width=\"3.2\"/>\n",
       "<circle clip-path=\"url(#clip0902)\" cx=\"1708.38\" cy=\"484.806\" r=\"14\" fill=\"#e26f46\" fill-rule=\"evenodd\" fill-opacity=\"1\" stroke=\"#000000\" stroke-opacity=\"1\" stroke-width=\"3.2\"/>\n",
       "<circle clip-path=\"url(#clip0902)\" cx=\"1708.38\" cy=\"484.806\" r=\"14\" fill=\"#e26f46\" fill-rule=\"evenodd\" fill-opacity=\"1\" stroke=\"#000000\" stroke-opacity=\"1\" stroke-width=\"3.2\"/>\n",
       "<circle clip-path=\"url(#clip0902)\" cx=\"1708.38\" cy=\"484.806\" r=\"14\" fill=\"#e26f46\" fill-rule=\"evenodd\" fill-opacity=\"1\" stroke=\"#000000\" stroke-opacity=\"1\" stroke-width=\"3.2\"/>\n",
       "<circle clip-path=\"url(#clip0902)\" cx=\"1708.38\" cy=\"484.806\" r=\"14\" fill=\"#e26f46\" fill-rule=\"evenodd\" fill-opacity=\"1\" stroke=\"#000000\" stroke-opacity=\"1\" stroke-width=\"3.2\"/>\n",
       "<circle clip-path=\"url(#clip0902)\" cx=\"1708.38\" cy=\"484.806\" r=\"14\" fill=\"#e26f46\" fill-rule=\"evenodd\" fill-opacity=\"1\" stroke=\"#000000\" stroke-opacity=\"1\" stroke-width=\"3.2\"/>\n",
       "<circle clip-path=\"url(#clip0902)\" cx=\"1708.38\" cy=\"484.806\" r=\"14\" fill=\"#e26f46\" fill-rule=\"evenodd\" fill-opacity=\"1\" stroke=\"#000000\" stroke-opacity=\"1\" stroke-width=\"3.2\"/>\n",
       "<circle clip-path=\"url(#clip0902)\" cx=\"1708.38\" cy=\"484.806\" r=\"14\" fill=\"#e26f46\" fill-rule=\"evenodd\" fill-opacity=\"1\" stroke=\"#000000\" stroke-opacity=\"1\" stroke-width=\"3.2\"/>\n",
       "<circle clip-path=\"url(#clip0902)\" cx=\"1708.38\" cy=\"484.806\" r=\"14\" fill=\"#e26f46\" fill-rule=\"evenodd\" fill-opacity=\"1\" stroke=\"#000000\" stroke-opacity=\"1\" stroke-width=\"3.2\"/>\n",
       "<circle clip-path=\"url(#clip0902)\" cx=\"1708.38\" cy=\"484.806\" r=\"14\" fill=\"#e26f46\" fill-rule=\"evenodd\" fill-opacity=\"1\" stroke=\"#000000\" stroke-opacity=\"1\" stroke-width=\"3.2\"/>\n",
       "<circle clip-path=\"url(#clip0902)\" cx=\"1708.38\" cy=\"484.806\" r=\"14\" fill=\"#e26f46\" fill-rule=\"evenodd\" fill-opacity=\"1\" stroke=\"#000000\" stroke-opacity=\"1\" stroke-width=\"3.2\"/>\n",
       "<circle clip-path=\"url(#clip0902)\" cx=\"1708.38\" cy=\"484.806\" r=\"14\" fill=\"#e26f46\" fill-rule=\"evenodd\" fill-opacity=\"1\" stroke=\"#000000\" stroke-opacity=\"1\" stroke-width=\"3.2\"/>\n",
       "<circle clip-path=\"url(#clip0902)\" cx=\"1708.38\" cy=\"484.806\" r=\"14\" fill=\"#e26f46\" fill-rule=\"evenodd\" fill-opacity=\"1\" stroke=\"#000000\" stroke-opacity=\"1\" stroke-width=\"3.2\"/>\n",
       "<circle clip-path=\"url(#clip0902)\" cx=\"1708.38\" cy=\"484.806\" r=\"14\" fill=\"#e26f46\" fill-rule=\"evenodd\" fill-opacity=\"1\" stroke=\"#000000\" stroke-opacity=\"1\" stroke-width=\"3.2\"/>\n",
       "<circle clip-path=\"url(#clip0902)\" cx=\"1708.38\" cy=\"484.806\" r=\"14\" fill=\"#e26f46\" fill-rule=\"evenodd\" fill-opacity=\"1\" stroke=\"#000000\" stroke-opacity=\"1\" stroke-width=\"3.2\"/>\n",
       "<circle clip-path=\"url(#clip0902)\" cx=\"1708.38\" cy=\"484.806\" r=\"14\" fill=\"#e26f46\" fill-rule=\"evenodd\" fill-opacity=\"1\" stroke=\"#000000\" stroke-opacity=\"1\" stroke-width=\"3.2\"/>\n",
       "<circle clip-path=\"url(#clip0902)\" cx=\"1708.38\" cy=\"484.806\" r=\"14\" fill=\"#e26f46\" fill-rule=\"evenodd\" fill-opacity=\"1\" stroke=\"#000000\" stroke-opacity=\"1\" stroke-width=\"3.2\"/>\n",
       "<circle clip-path=\"url(#clip0902)\" cx=\"1708.38\" cy=\"484.806\" r=\"14\" fill=\"#e26f46\" fill-rule=\"evenodd\" fill-opacity=\"1\" stroke=\"#000000\" stroke-opacity=\"1\" stroke-width=\"3.2\"/>\n",
       "<circle clip-path=\"url(#clip0902)\" cx=\"1708.38\" cy=\"484.806\" r=\"14\" fill=\"#e26f46\" fill-rule=\"evenodd\" fill-opacity=\"1\" stroke=\"#000000\" stroke-opacity=\"1\" stroke-width=\"3.2\"/>\n",
       "<circle clip-path=\"url(#clip0902)\" cx=\"1708.38\" cy=\"484.806\" r=\"14\" fill=\"#e26f46\" fill-rule=\"evenodd\" fill-opacity=\"1\" stroke=\"#000000\" stroke-opacity=\"1\" stroke-width=\"3.2\"/>\n",
       "<circle clip-path=\"url(#clip0902)\" cx=\"1708.38\" cy=\"484.806\" r=\"14\" fill=\"#e26f46\" fill-rule=\"evenodd\" fill-opacity=\"1\" stroke=\"#000000\" stroke-opacity=\"1\" stroke-width=\"3.2\"/>\n",
       "<circle clip-path=\"url(#clip0902)\" cx=\"1708.38\" cy=\"484.806\" r=\"14\" fill=\"#e26f46\" fill-rule=\"evenodd\" fill-opacity=\"1\" stroke=\"#000000\" stroke-opacity=\"1\" stroke-width=\"3.2\"/>\n",
       "<circle clip-path=\"url(#clip0902)\" cx=\"1708.38\" cy=\"484.806\" r=\"14\" fill=\"#e26f46\" fill-rule=\"evenodd\" fill-opacity=\"1\" stroke=\"#000000\" stroke-opacity=\"1\" stroke-width=\"3.2\"/>\n",
       "<circle clip-path=\"url(#clip0902)\" cx=\"1708.38\" cy=\"484.806\" r=\"14\" fill=\"#e26f46\" fill-rule=\"evenodd\" fill-opacity=\"1\" stroke=\"#000000\" stroke-opacity=\"1\" stroke-width=\"3.2\"/>\n",
       "<circle clip-path=\"url(#clip0902)\" cx=\"1708.38\" cy=\"484.806\" r=\"14\" fill=\"#e26f46\" fill-rule=\"evenodd\" fill-opacity=\"1\" stroke=\"#000000\" stroke-opacity=\"1\" stroke-width=\"3.2\"/>\n",
       "<circle clip-path=\"url(#clip0902)\" cx=\"1708.38\" cy=\"484.806\" r=\"14\" fill=\"#e26f46\" fill-rule=\"evenodd\" fill-opacity=\"1\" stroke=\"#000000\" stroke-opacity=\"1\" stroke-width=\"3.2\"/>\n",
       "<circle clip-path=\"url(#clip0902)\" cx=\"1708.38\" cy=\"484.806\" r=\"14\" fill=\"#e26f46\" fill-rule=\"evenodd\" fill-opacity=\"1\" stroke=\"#000000\" stroke-opacity=\"1\" stroke-width=\"3.2\"/>\n",
       "<circle clip-path=\"url(#clip0902)\" cx=\"1708.38\" cy=\"484.806\" r=\"14\" fill=\"#e26f46\" fill-rule=\"evenodd\" fill-opacity=\"1\" stroke=\"#000000\" stroke-opacity=\"1\" stroke-width=\"3.2\"/>\n",
       "<circle clip-path=\"url(#clip0902)\" cx=\"1708.38\" cy=\"484.806\" r=\"14\" fill=\"#e26f46\" fill-rule=\"evenodd\" fill-opacity=\"1\" stroke=\"#000000\" stroke-opacity=\"1\" stroke-width=\"3.2\"/>\n",
       "<circle clip-path=\"url(#clip0902)\" cx=\"1708.38\" cy=\"484.806\" r=\"14\" fill=\"#e26f46\" fill-rule=\"evenodd\" fill-opacity=\"1\" stroke=\"#000000\" stroke-opacity=\"1\" stroke-width=\"3.2\"/>\n",
       "<circle clip-path=\"url(#clip0902)\" cx=\"1708.38\" cy=\"484.806\" r=\"14\" fill=\"#e26f46\" fill-rule=\"evenodd\" fill-opacity=\"1\" stroke=\"#000000\" stroke-opacity=\"1\" stroke-width=\"3.2\"/>\n",
       "<circle clip-path=\"url(#clip0902)\" cx=\"1708.38\" cy=\"484.806\" r=\"14\" fill=\"#e26f46\" fill-rule=\"evenodd\" fill-opacity=\"1\" stroke=\"#000000\" stroke-opacity=\"1\" stroke-width=\"3.2\"/>\n",
       "<circle clip-path=\"url(#clip0902)\" cx=\"1708.38\" cy=\"484.806\" r=\"14\" fill=\"#e26f46\" fill-rule=\"evenodd\" fill-opacity=\"1\" stroke=\"#000000\" stroke-opacity=\"1\" stroke-width=\"3.2\"/>\n",
       "<circle clip-path=\"url(#clip0902)\" cx=\"1708.38\" cy=\"484.806\" r=\"14\" fill=\"#e26f46\" fill-rule=\"evenodd\" fill-opacity=\"1\" stroke=\"#000000\" stroke-opacity=\"1\" stroke-width=\"3.2\"/>\n",
       "<circle clip-path=\"url(#clip0902)\" cx=\"1708.38\" cy=\"484.806\" r=\"14\" fill=\"#e26f46\" fill-rule=\"evenodd\" fill-opacity=\"1\" stroke=\"#000000\" stroke-opacity=\"1\" stroke-width=\"3.2\"/>\n",
       "<circle clip-path=\"url(#clip0902)\" cx=\"1708.38\" cy=\"484.806\" r=\"14\" fill=\"#e26f46\" fill-rule=\"evenodd\" fill-opacity=\"1\" stroke=\"#000000\" stroke-opacity=\"1\" stroke-width=\"3.2\"/>\n",
       "<circle clip-path=\"url(#clip0902)\" cx=\"1708.38\" cy=\"484.806\" r=\"14\" fill=\"#e26f46\" fill-rule=\"evenodd\" fill-opacity=\"1\" stroke=\"#000000\" stroke-opacity=\"1\" stroke-width=\"3.2\"/>\n",
       "<circle clip-path=\"url(#clip0902)\" cx=\"1708.38\" cy=\"484.806\" r=\"14\" fill=\"#e26f46\" fill-rule=\"evenodd\" fill-opacity=\"1\" stroke=\"#000000\" stroke-opacity=\"1\" stroke-width=\"3.2\"/>\n",
       "<circle clip-path=\"url(#clip0902)\" cx=\"1708.38\" cy=\"484.806\" r=\"14\" fill=\"#e26f46\" fill-rule=\"evenodd\" fill-opacity=\"1\" stroke=\"#000000\" stroke-opacity=\"1\" stroke-width=\"3.2\"/>\n",
       "<circle clip-path=\"url(#clip0902)\" cx=\"1708.38\" cy=\"484.806\" r=\"14\" fill=\"#e26f46\" fill-rule=\"evenodd\" fill-opacity=\"1\" stroke=\"#000000\" stroke-opacity=\"1\" stroke-width=\"3.2\"/>\n",
       "<circle clip-path=\"url(#clip0902)\" cx=\"1708.38\" cy=\"484.806\" r=\"14\" fill=\"#e26f46\" fill-rule=\"evenodd\" fill-opacity=\"1\" stroke=\"#000000\" stroke-opacity=\"1\" stroke-width=\"3.2\"/>\n",
       "<circle clip-path=\"url(#clip0902)\" cx=\"1708.38\" cy=\"484.806\" r=\"14\" fill=\"#e26f46\" fill-rule=\"evenodd\" fill-opacity=\"1\" stroke=\"#000000\" stroke-opacity=\"1\" stroke-width=\"3.2\"/>\n",
       "<circle clip-path=\"url(#clip0902)\" cx=\"1708.38\" cy=\"484.806\" r=\"14\" fill=\"#e26f46\" fill-rule=\"evenodd\" fill-opacity=\"1\" stroke=\"#000000\" stroke-opacity=\"1\" stroke-width=\"3.2\"/>\n",
       "<circle clip-path=\"url(#clip0902)\" cx=\"1708.38\" cy=\"484.806\" r=\"14\" fill=\"#e26f46\" fill-rule=\"evenodd\" fill-opacity=\"1\" stroke=\"#000000\" stroke-opacity=\"1\" stroke-width=\"3.2\"/>\n",
       "<circle clip-path=\"url(#clip0902)\" cx=\"1705.6\" cy=\"487.789\" r=\"14\" fill=\"#e26f46\" fill-rule=\"evenodd\" fill-opacity=\"1\" stroke=\"#000000\" stroke-opacity=\"1\" stroke-width=\"3.2\"/>\n",
       "<circle clip-path=\"url(#clip0902)\" cx=\"1705.6\" cy=\"487.789\" r=\"14\" fill=\"#e26f46\" fill-rule=\"evenodd\" fill-opacity=\"1\" stroke=\"#000000\" stroke-opacity=\"1\" stroke-width=\"3.2\"/>\n",
       "<circle clip-path=\"url(#clip0902)\" cx=\"1705.6\" cy=\"487.789\" r=\"14\" fill=\"#e26f46\" fill-rule=\"evenodd\" fill-opacity=\"1\" stroke=\"#000000\" stroke-opacity=\"1\" stroke-width=\"3.2\"/>\n",
       "<circle clip-path=\"url(#clip0902)\" cx=\"1705.6\" cy=\"487.789\" r=\"14\" fill=\"#e26f46\" fill-rule=\"evenodd\" fill-opacity=\"1\" stroke=\"#000000\" stroke-opacity=\"1\" stroke-width=\"3.2\"/>\n",
       "<circle clip-path=\"url(#clip0902)\" cx=\"1705.6\" cy=\"487.789\" r=\"14\" fill=\"#e26f46\" fill-rule=\"evenodd\" fill-opacity=\"1\" stroke=\"#000000\" stroke-opacity=\"1\" stroke-width=\"3.2\"/>\n",
       "<circle clip-path=\"url(#clip0902)\" cx=\"1705.6\" cy=\"487.789\" r=\"14\" fill=\"#e26f46\" fill-rule=\"evenodd\" fill-opacity=\"1\" stroke=\"#000000\" stroke-opacity=\"1\" stroke-width=\"3.2\"/>\n",
       "<circle clip-path=\"url(#clip0902)\" cx=\"1705.6\" cy=\"487.789\" r=\"14\" fill=\"#e26f46\" fill-rule=\"evenodd\" fill-opacity=\"1\" stroke=\"#000000\" stroke-opacity=\"1\" stroke-width=\"3.2\"/>\n",
       "<circle clip-path=\"url(#clip0902)\" cx=\"1705.6\" cy=\"487.789\" r=\"14\" fill=\"#e26f46\" fill-rule=\"evenodd\" fill-opacity=\"1\" stroke=\"#000000\" stroke-opacity=\"1\" stroke-width=\"3.2\"/>\n",
       "<circle clip-path=\"url(#clip0902)\" cx=\"1705.6\" cy=\"487.789\" r=\"14\" fill=\"#e26f46\" fill-rule=\"evenodd\" fill-opacity=\"1\" stroke=\"#000000\" stroke-opacity=\"1\" stroke-width=\"3.2\"/>\n",
       "<circle clip-path=\"url(#clip0902)\" cx=\"1705.6\" cy=\"487.789\" r=\"14\" fill=\"#e26f46\" fill-rule=\"evenodd\" fill-opacity=\"1\" stroke=\"#000000\" stroke-opacity=\"1\" stroke-width=\"3.2\"/>\n",
       "<circle clip-path=\"url(#clip0902)\" cx=\"1705.6\" cy=\"487.789\" r=\"14\" fill=\"#e26f46\" fill-rule=\"evenodd\" fill-opacity=\"1\" stroke=\"#000000\" stroke-opacity=\"1\" stroke-width=\"3.2\"/>\n",
       "<circle clip-path=\"url(#clip0902)\" cx=\"1709.79\" cy=\"501.467\" r=\"14\" fill=\"#e26f46\" fill-rule=\"evenodd\" fill-opacity=\"1\" stroke=\"#000000\" stroke-opacity=\"1\" stroke-width=\"3.2\"/>\n",
       "<circle clip-path=\"url(#clip0902)\" cx=\"1706.44\" cy=\"493.204\" r=\"14\" fill=\"#e26f46\" fill-rule=\"evenodd\" fill-opacity=\"1\" stroke=\"#000000\" stroke-opacity=\"1\" stroke-width=\"3.2\"/>\n",
       "<circle clip-path=\"url(#clip0902)\" cx=\"1706.44\" cy=\"493.204\" r=\"14\" fill=\"#e26f46\" fill-rule=\"evenodd\" fill-opacity=\"1\" stroke=\"#000000\" stroke-opacity=\"1\" stroke-width=\"3.2\"/>\n",
       "<circle clip-path=\"url(#clip0902)\" cx=\"1706.44\" cy=\"493.204\" r=\"14\" fill=\"#e26f46\" fill-rule=\"evenodd\" fill-opacity=\"1\" stroke=\"#000000\" stroke-opacity=\"1\" stroke-width=\"3.2\"/>\n",
       "<circle clip-path=\"url(#clip0902)\" cx=\"1708.06\" cy=\"489.792\" r=\"14\" fill=\"#e26f46\" fill-rule=\"evenodd\" fill-opacity=\"1\" stroke=\"#000000\" stroke-opacity=\"1\" stroke-width=\"3.2\"/>\n",
       "<circle clip-path=\"url(#clip0902)\" cx=\"1708.06\" cy=\"489.792\" r=\"14\" fill=\"#e26f46\" fill-rule=\"evenodd\" fill-opacity=\"1\" stroke=\"#000000\" stroke-opacity=\"1\" stroke-width=\"3.2\"/>\n",
       "<circle clip-path=\"url(#clip0902)\" cx=\"1708.06\" cy=\"489.792\" r=\"14\" fill=\"#e26f46\" fill-rule=\"evenodd\" fill-opacity=\"1\" stroke=\"#000000\" stroke-opacity=\"1\" stroke-width=\"3.2\"/>\n",
       "<circle clip-path=\"url(#clip0902)\" cx=\"1708.06\" cy=\"489.792\" r=\"14\" fill=\"#e26f46\" fill-rule=\"evenodd\" fill-opacity=\"1\" stroke=\"#000000\" stroke-opacity=\"1\" stroke-width=\"3.2\"/>\n",
       "<circle clip-path=\"url(#clip0902)\" cx=\"1710.11\" cy=\"496.481\" r=\"14\" fill=\"#e26f46\" fill-rule=\"evenodd\" fill-opacity=\"1\" stroke=\"#000000\" stroke-opacity=\"1\" stroke-width=\"3.2\"/>\n",
       "<circle clip-path=\"url(#clip0902)\" cx=\"1708.61\" cy=\"503.885\" r=\"14\" fill=\"#e26f46\" fill-rule=\"evenodd\" fill-opacity=\"1\" stroke=\"#000000\" stroke-opacity=\"1\" stroke-width=\"3.2\"/>\n",
       "<circle clip-path=\"url(#clip0902)\" cx=\"1708.61\" cy=\"503.885\" r=\"14\" fill=\"#e26f46\" fill-rule=\"evenodd\" fill-opacity=\"1\" stroke=\"#000000\" stroke-opacity=\"1\" stroke-width=\"3.2\"/>\n",
       "<circle clip-path=\"url(#clip0902)\" cx=\"1708.61\" cy=\"503.885\" r=\"14\" fill=\"#e26f46\" fill-rule=\"evenodd\" fill-opacity=\"1\" stroke=\"#000000\" stroke-opacity=\"1\" stroke-width=\"3.2\"/>\n",
       "<circle clip-path=\"url(#clip0902)\" cx=\"1712.56\" cy=\"498.485\" r=\"14\" fill=\"#e26f46\" fill-rule=\"evenodd\" fill-opacity=\"1\" stroke=\"#000000\" stroke-opacity=\"1\" stroke-width=\"3.2\"/>\n",
       "<circle clip-path=\"url(#clip0902)\" cx=\"1708.38\" cy=\"484.806\" r=\"14\" fill=\"#e26f46\" fill-rule=\"evenodd\" fill-opacity=\"1\" stroke=\"#000000\" stroke-opacity=\"1\" stroke-width=\"3.2\"/>\n",
       "<circle clip-path=\"url(#clip0902)\" cx=\"1708.38\" cy=\"484.806\" r=\"14\" fill=\"#e26f46\" fill-rule=\"evenodd\" fill-opacity=\"1\" stroke=\"#000000\" stroke-opacity=\"1\" stroke-width=\"3.2\"/>\n",
       "<circle clip-path=\"url(#clip0902)\" cx=\"1708.38\" cy=\"484.806\" r=\"14\" fill=\"#e26f46\" fill-rule=\"evenodd\" fill-opacity=\"1\" stroke=\"#000000\" stroke-opacity=\"1\" stroke-width=\"3.2\"/>\n",
       "<circle clip-path=\"url(#clip0902)\" cx=\"1708.38\" cy=\"484.806\" r=\"14\" fill=\"#e26f46\" fill-rule=\"evenodd\" fill-opacity=\"1\" stroke=\"#000000\" stroke-opacity=\"1\" stroke-width=\"3.2\"/>\n",
       "<circle clip-path=\"url(#clip0902)\" cx=\"1708.38\" cy=\"484.806\" r=\"14\" fill=\"#e26f46\" fill-rule=\"evenodd\" fill-opacity=\"1\" stroke=\"#000000\" stroke-opacity=\"1\" stroke-width=\"3.2\"/>\n",
       "<circle clip-path=\"url(#clip0902)\" cx=\"1708.38\" cy=\"484.806\" r=\"14\" fill=\"#e26f46\" fill-rule=\"evenodd\" fill-opacity=\"1\" stroke=\"#000000\" stroke-opacity=\"1\" stroke-width=\"3.2\"/>\n",
       "<circle clip-path=\"url(#clip0902)\" cx=\"1708.38\" cy=\"484.806\" r=\"14\" fill=\"#e26f46\" fill-rule=\"evenodd\" fill-opacity=\"1\" stroke=\"#000000\" stroke-opacity=\"1\" stroke-width=\"3.2\"/>\n",
       "<circle clip-path=\"url(#clip0902)\" cx=\"1708.38\" cy=\"484.806\" r=\"14\" fill=\"#e26f46\" fill-rule=\"evenodd\" fill-opacity=\"1\" stroke=\"#000000\" stroke-opacity=\"1\" stroke-width=\"3.2\"/>\n",
       "<circle clip-path=\"url(#clip0902)\" cx=\"1708.38\" cy=\"484.806\" r=\"14\" fill=\"#e26f46\" fill-rule=\"evenodd\" fill-opacity=\"1\" stroke=\"#000000\" stroke-opacity=\"1\" stroke-width=\"3.2\"/>\n",
       "<circle clip-path=\"url(#clip0902)\" cx=\"1708.38\" cy=\"484.806\" r=\"14\" fill=\"#e26f46\" fill-rule=\"evenodd\" fill-opacity=\"1\" stroke=\"#000000\" stroke-opacity=\"1\" stroke-width=\"3.2\"/>\n",
       "<circle clip-path=\"url(#clip0902)\" cx=\"1708.38\" cy=\"484.806\" r=\"14\" fill=\"#e26f46\" fill-rule=\"evenodd\" fill-opacity=\"1\" stroke=\"#000000\" stroke-opacity=\"1\" stroke-width=\"3.2\"/>\n",
       "<circle clip-path=\"url(#clip0902)\" cx=\"1708.38\" cy=\"484.806\" r=\"14\" fill=\"#e26f46\" fill-rule=\"evenodd\" fill-opacity=\"1\" stroke=\"#000000\" stroke-opacity=\"1\" stroke-width=\"3.2\"/>\n",
       "<circle clip-path=\"url(#clip0902)\" cx=\"1708.38\" cy=\"484.806\" r=\"14\" fill=\"#e26f46\" fill-rule=\"evenodd\" fill-opacity=\"1\" stroke=\"#000000\" stroke-opacity=\"1\" stroke-width=\"3.2\"/>\n",
       "<circle clip-path=\"url(#clip0902)\" cx=\"1708.38\" cy=\"484.806\" r=\"14\" fill=\"#e26f46\" fill-rule=\"evenodd\" fill-opacity=\"1\" stroke=\"#000000\" stroke-opacity=\"1\" stroke-width=\"3.2\"/>\n",
       "<circle clip-path=\"url(#clip0902)\" cx=\"1708.38\" cy=\"484.806\" r=\"14\" fill=\"#e26f46\" fill-rule=\"evenodd\" fill-opacity=\"1\" stroke=\"#000000\" stroke-opacity=\"1\" stroke-width=\"3.2\"/>\n",
       "<circle clip-path=\"url(#clip0902)\" cx=\"1708.38\" cy=\"484.806\" r=\"14\" fill=\"#e26f46\" fill-rule=\"evenodd\" fill-opacity=\"1\" stroke=\"#000000\" stroke-opacity=\"1\" stroke-width=\"3.2\"/>\n",
       "<circle clip-path=\"url(#clip0902)\" cx=\"1708.38\" cy=\"484.806\" r=\"14\" fill=\"#e26f46\" fill-rule=\"evenodd\" fill-opacity=\"1\" stroke=\"#000000\" stroke-opacity=\"1\" stroke-width=\"3.2\"/>\n",
       "<circle clip-path=\"url(#clip0902)\" cx=\"1708.38\" cy=\"484.806\" r=\"14\" fill=\"#e26f46\" fill-rule=\"evenodd\" fill-opacity=\"1\" stroke=\"#000000\" stroke-opacity=\"1\" stroke-width=\"3.2\"/>\n",
       "<circle clip-path=\"url(#clip0902)\" cx=\"1708.38\" cy=\"484.806\" r=\"14\" fill=\"#e26f46\" fill-rule=\"evenodd\" fill-opacity=\"1\" stroke=\"#000000\" stroke-opacity=\"1\" stroke-width=\"3.2\"/>\n",
       "<circle clip-path=\"url(#clip0902)\" cx=\"1708.38\" cy=\"484.806\" r=\"14\" fill=\"#e26f46\" fill-rule=\"evenodd\" fill-opacity=\"1\" stroke=\"#000000\" stroke-opacity=\"1\" stroke-width=\"3.2\"/>\n",
       "<circle clip-path=\"url(#clip0902)\" cx=\"1708.38\" cy=\"484.806\" r=\"14\" fill=\"#e26f46\" fill-rule=\"evenodd\" fill-opacity=\"1\" stroke=\"#000000\" stroke-opacity=\"1\" stroke-width=\"3.2\"/>\n",
       "<circle clip-path=\"url(#clip0902)\" cx=\"1708.38\" cy=\"484.806\" r=\"14\" fill=\"#e26f46\" fill-rule=\"evenodd\" fill-opacity=\"1\" stroke=\"#000000\" stroke-opacity=\"1\" stroke-width=\"3.2\"/>\n",
       "<circle clip-path=\"url(#clip0902)\" cx=\"1708.38\" cy=\"484.806\" r=\"14\" fill=\"#e26f46\" fill-rule=\"evenodd\" fill-opacity=\"1\" stroke=\"#000000\" stroke-opacity=\"1\" stroke-width=\"3.2\"/>\n",
       "<circle clip-path=\"url(#clip0902)\" cx=\"1708.38\" cy=\"484.806\" r=\"14\" fill=\"#e26f46\" fill-rule=\"evenodd\" fill-opacity=\"1\" stroke=\"#000000\" stroke-opacity=\"1\" stroke-width=\"3.2\"/>\n",
       "<circle clip-path=\"url(#clip0902)\" cx=\"1708.38\" cy=\"484.806\" r=\"14\" fill=\"#e26f46\" fill-rule=\"evenodd\" fill-opacity=\"1\" stroke=\"#000000\" stroke-opacity=\"1\" stroke-width=\"3.2\"/>\n",
       "<circle clip-path=\"url(#clip0902)\" cx=\"1708.38\" cy=\"484.806\" r=\"14\" fill=\"#e26f46\" fill-rule=\"evenodd\" fill-opacity=\"1\" stroke=\"#000000\" stroke-opacity=\"1\" stroke-width=\"3.2\"/>\n",
       "<circle clip-path=\"url(#clip0902)\" cx=\"1708.38\" cy=\"484.806\" r=\"14\" fill=\"#e26f46\" fill-rule=\"evenodd\" fill-opacity=\"1\" stroke=\"#000000\" stroke-opacity=\"1\" stroke-width=\"3.2\"/>\n",
       "<circle clip-path=\"url(#clip0902)\" cx=\"1708.38\" cy=\"484.806\" r=\"14\" fill=\"#e26f46\" fill-rule=\"evenodd\" fill-opacity=\"1\" stroke=\"#000000\" stroke-opacity=\"1\" stroke-width=\"3.2\"/>\n",
       "<circle clip-path=\"url(#clip0902)\" cx=\"1708.38\" cy=\"484.806\" r=\"14\" fill=\"#e26f46\" fill-rule=\"evenodd\" fill-opacity=\"1\" stroke=\"#000000\" stroke-opacity=\"1\" stroke-width=\"3.2\"/>\n",
       "<circle clip-path=\"url(#clip0902)\" cx=\"1709.79\" cy=\"501.467\" r=\"14\" fill=\"#e26f46\" fill-rule=\"evenodd\" fill-opacity=\"1\" stroke=\"#000000\" stroke-opacity=\"1\" stroke-width=\"3.2\"/>\n",
       "<circle clip-path=\"url(#clip0902)\" cx=\"1708.38\" cy=\"484.806\" r=\"14\" fill=\"#e26f46\" fill-rule=\"evenodd\" fill-opacity=\"1\" stroke=\"#000000\" stroke-opacity=\"1\" stroke-width=\"3.2\"/>\n",
       "<circle clip-path=\"url(#clip0902)\" cx=\"1708.38\" cy=\"484.806\" r=\"14\" fill=\"#e26f46\" fill-rule=\"evenodd\" fill-opacity=\"1\" stroke=\"#000000\" stroke-opacity=\"1\" stroke-width=\"3.2\"/>\n",
       "<circle clip-path=\"url(#clip0902)\" cx=\"1708.38\" cy=\"484.806\" r=\"14\" fill=\"#e26f46\" fill-rule=\"evenodd\" fill-opacity=\"1\" stroke=\"#000000\" stroke-opacity=\"1\" stroke-width=\"3.2\"/>\n",
       "<circle clip-path=\"url(#clip0902)\" cx=\"1708.38\" cy=\"484.806\" r=\"14\" fill=\"#e26f46\" fill-rule=\"evenodd\" fill-opacity=\"1\" stroke=\"#000000\" stroke-opacity=\"1\" stroke-width=\"3.2\"/>\n",
       "<circle clip-path=\"url(#clip0902)\" cx=\"1708.38\" cy=\"484.806\" r=\"14\" fill=\"#e26f46\" fill-rule=\"evenodd\" fill-opacity=\"1\" stroke=\"#000000\" stroke-opacity=\"1\" stroke-width=\"3.2\"/>\n",
       "<circle clip-path=\"url(#clip0902)\" cx=\"1708.38\" cy=\"484.806\" r=\"14\" fill=\"#e26f46\" fill-rule=\"evenodd\" fill-opacity=\"1\" stroke=\"#000000\" stroke-opacity=\"1\" stroke-width=\"3.2\"/>\n",
       "<circle clip-path=\"url(#clip0902)\" cx=\"1708.38\" cy=\"484.806\" r=\"14\" fill=\"#e26f46\" fill-rule=\"evenodd\" fill-opacity=\"1\" stroke=\"#000000\" stroke-opacity=\"1\" stroke-width=\"3.2\"/>\n",
       "<circle clip-path=\"url(#clip0902)\" cx=\"1708.38\" cy=\"484.806\" r=\"14\" fill=\"#e26f46\" fill-rule=\"evenodd\" fill-opacity=\"1\" stroke=\"#000000\" stroke-opacity=\"1\" stroke-width=\"3.2\"/>\n",
       "<circle clip-path=\"url(#clip0902)\" cx=\"1708.38\" cy=\"484.806\" r=\"14\" fill=\"#e26f46\" fill-rule=\"evenodd\" fill-opacity=\"1\" stroke=\"#000000\" stroke-opacity=\"1\" stroke-width=\"3.2\"/>\n",
       "</svg>\n"
      ]
     },
     "metadata": {},
     "output_type": "display_data"
    }
   ],
   "source": [
    "function plot_pop(P)\n",
    "    scatter3d([i.y[1] for i in P], [i.y[2] for i in P], [i.y[3] for i in P], xlims=(0.0, 1.0), ylims=(0.0, 1.0), zlims=(0.0, 1.0), legend=:none)\n",
    "    ND = filter(indiv -> indiv.rank == 1, P)\n",
    "    scatter3d!([i.y[1] for i in ND], [i.y[2] for i in ND], [i.y[3] for i in ND], legend=:none)\n",
    "end\n",
    "\n",
    "nsga_max(popsize, nbgen, objective, init, fCV=constraint, fplot=plot_pop, plotevery=1, showprogress=false);"
   ]
  },
  {
   "cell_type": "markdown",
   "metadata": {
    "slideshow": {
     "slide_type": "slide"
    }
   },
   "source": [
    "This type of visualization, plotting one objective function as X and another as Y, allows us to see the Pareto front for 2 dimensions easily. However, once we increase the number of objectives, this plot is much less useful as we'll always be constrained to looking at 2 dimensions, or at best 3."
   ]
  },
  {
   "cell_type": "markdown",
   "metadata": {
    "slideshow": {
     "slide_type": "fragment"
    }
   },
   "source": [
    "<div class=\"alert alert-success\">\n",
    "    <b>Exercise 3</b>\n",
    "    <br/>\n",
    "    Change the number of objectives to 3. Then use a <tt>scatter3d</tt> plot instead of a <tt>scatter</tt> plot to plot the evolution over 3 objectives.\n",
    "    <br/>\n",
    "    <ul>\n",
    "        <li>Can you still observe the Pareto front?</li>\n",
    "        <li>Can you identify non-dominated individuals easily</li>\n",
    "        <li>Do you see the performance for each objective</li>\n",
    "    </ul>\n",
    "    <br/>\n",
    "</div>"
   ]
  },
  {
   "cell_type": "markdown",
   "metadata": {
    "slideshow": {
     "slide_type": "slide"
    }
   },
   "source": [
    "Another way to look at the different objectives is to plot the different objectives on the `x` axis and the fitness values on the `y` axis. Each individual in a population is then represented as a line. Let's try this method, increasing the number of objectives to 10."
   ]
  },
  {
   "cell_type": "code",
   "execution_count": 74,
   "metadata": {
    "slideshow": {
     "slide_type": "fragment"
    }
   },
   "outputs": [
    {
     "data": {
      "text/plain": [
       "init (generic function with 1 method)"
      ]
     },
     "execution_count": 74,
     "metadata": {},
     "output_type": "execute_result"
    }
   ],
   "source": [
    "n = 100\n",
    "n_objectives = 20\n",
    "values = rand(n, n_objectives)\n",
    "values = values ./ sum(values, dims=1)\n",
    "weights = rand(n)\n",
    "weights = weights ./ sum(weights)\n",
    "max_weight = 0.5\n",
    "popsize = 100\n",
    "nbgen = 50\n",
    "init() = bitrand(n)"
   ]
  },
  {
   "cell_type": "code",
   "execution_count": 75,
   "metadata": {
    "slideshow": {
     "slide_type": "slide"
    }
   },
   "outputs": [
    {
     "data": {
      "image/svg+xml": [
       "<?xml version=\"1.0\" encoding=\"utf-8\"?>\n",
       "<svg xmlns=\"http://www.w3.org/2000/svg\" xmlns:xlink=\"http://www.w3.org/1999/xlink\" width=\"600\" height=\"400\" viewBox=\"0 0 2400 1600\">\n",
       "<defs>\n",
       "  <clipPath id=\"clip5700\">\n",
       "    <rect x=\"0\" y=\"0\" width=\"2400\" height=\"1600\"/>\n",
       "  </clipPath>\n",
       "</defs>\n",
       "<path clip-path=\"url(#clip5700)\" d=\"\n",
       "M0 1600 L2400 1600 L2400 0 L0 0  Z\n",
       "  \" fill=\"#ffffff\" fill-rule=\"evenodd\" fill-opacity=\"1\"/>\n",
       "<defs>\n",
       "  <clipPath id=\"clip5701\">\n",
       "    <rect x=\"480\" y=\"0\" width=\"1681\" height=\"1600\"/>\n",
       "  </clipPath>\n",
       "</defs>\n",
       "<path clip-path=\"url(#clip5700)\" d=\"\n",
       "M175.024 1486.45 L2352.76 1486.45 L2352.76 47.2441 L175.024 47.2441  Z\n",
       "  \" fill=\"#ffffff\" fill-rule=\"evenodd\" fill-opacity=\"1\"/>\n",
       "<defs>\n",
       "  <clipPath id=\"clip5702\">\n",
       "    <rect x=\"175\" y=\"47\" width=\"2179\" height=\"1440\"/>\n",
       "  </clipPath>\n",
       "</defs>\n",
       "<polyline clip-path=\"url(#clip5702)\" style=\"stroke:#000000; stroke-width:2; stroke-opacity:0.1; fill:none\" points=\"\n",
       "  633.494,1486.45 633.494,47.2441 \n",
       "  \"/>\n",
       "<polyline clip-path=\"url(#clip5702)\" style=\"stroke:#000000; stroke-width:2; stroke-opacity:0.1; fill:none\" points=\"\n",
       "  1206.58,1486.45 1206.58,47.2441 \n",
       "  \"/>\n",
       "<polyline clip-path=\"url(#clip5702)\" style=\"stroke:#000000; stroke-width:2; stroke-opacity:0.1; fill:none\" points=\"\n",
       "  1779.67,1486.45 1779.67,47.2441 \n",
       "  \"/>\n",
       "<polyline clip-path=\"url(#clip5702)\" style=\"stroke:#000000; stroke-width:2; stroke-opacity:0.1; fill:none\" points=\"\n",
       "  2352.76,1486.45 2352.76,47.2441 \n",
       "  \"/>\n",
       "<polyline clip-path=\"url(#clip5702)\" style=\"stroke:#000000; stroke-width:2; stroke-opacity:0.1; fill:none\" points=\"\n",
       "  175.024,1316.1 2352.76,1316.1 \n",
       "  \"/>\n",
       "<polyline clip-path=\"url(#clip5702)\" style=\"stroke:#000000; stroke-width:2; stroke-opacity:0.1; fill:none\" points=\"\n",
       "  175.024,1125.48 2352.76,1125.48 \n",
       "  \"/>\n",
       "<polyline clip-path=\"url(#clip5702)\" style=\"stroke:#000000; stroke-width:2; stroke-opacity:0.1; fill:none\" points=\"\n",
       "  175.024,934.851 2352.76,934.851 \n",
       "  \"/>\n",
       "<polyline clip-path=\"url(#clip5702)\" style=\"stroke:#000000; stroke-width:2; stroke-opacity:0.1; fill:none\" points=\"\n",
       "  175.024,744.226 2352.76,744.226 \n",
       "  \"/>\n",
       "<polyline clip-path=\"url(#clip5702)\" style=\"stroke:#000000; stroke-width:2; stroke-opacity:0.1; fill:none\" points=\"\n",
       "  175.024,553.6 2352.76,553.6 \n",
       "  \"/>\n",
       "<polyline clip-path=\"url(#clip5702)\" style=\"stroke:#000000; stroke-width:2; stroke-opacity:0.1; fill:none\" points=\"\n",
       "  175.024,362.974 2352.76,362.974 \n",
       "  \"/>\n",
       "<polyline clip-path=\"url(#clip5702)\" style=\"stroke:#000000; stroke-width:2; stroke-opacity:0.1; fill:none\" points=\"\n",
       "  175.024,172.349 2352.76,172.349 \n",
       "  \"/>\n",
       "<polyline clip-path=\"url(#clip5700)\" style=\"stroke:#000000; stroke-width:4; stroke-opacity:1; fill:none\" points=\"\n",
       "  175.024,1486.45 2352.76,1486.45 \n",
       "  \"/>\n",
       "<polyline clip-path=\"url(#clip5700)\" style=\"stroke:#000000; stroke-width:4; stroke-opacity:1; fill:none\" points=\"\n",
       "  175.024,1486.45 175.024,47.2441 \n",
       "  \"/>\n",
       "<polyline clip-path=\"url(#clip5700)\" style=\"stroke:#000000; stroke-width:4; stroke-opacity:1; fill:none\" points=\"\n",
       "  633.494,1486.45 633.494,1469.18 \n",
       "  \"/>\n",
       "<polyline clip-path=\"url(#clip5700)\" style=\"stroke:#000000; stroke-width:4; stroke-opacity:1; fill:none\" points=\"\n",
       "  1206.58,1486.45 1206.58,1469.18 \n",
       "  \"/>\n",
       "<polyline clip-path=\"url(#clip5700)\" style=\"stroke:#000000; stroke-width:4; stroke-opacity:1; fill:none\" points=\"\n",
       "  1779.67,1486.45 1779.67,1469.18 \n",
       "  \"/>\n",
       "<polyline clip-path=\"url(#clip5700)\" style=\"stroke:#000000; stroke-width:4; stroke-opacity:1; fill:none\" points=\"\n",
       "  2352.76,1486.45 2352.76,1469.18 \n",
       "  \"/>\n",
       "<polyline clip-path=\"url(#clip5700)\" style=\"stroke:#000000; stroke-width:4; stroke-opacity:1; fill:none\" points=\"\n",
       "  175.024,1316.1 201.157,1316.1 \n",
       "  \"/>\n",
       "<polyline clip-path=\"url(#clip5700)\" style=\"stroke:#000000; stroke-width:4; stroke-opacity:1; fill:none\" points=\"\n",
       "  175.024,1125.48 201.157,1125.48 \n",
       "  \"/>\n",
       "<polyline clip-path=\"url(#clip5700)\" style=\"stroke:#000000; stroke-width:4; stroke-opacity:1; fill:none\" points=\"\n",
       "  175.024,934.851 201.157,934.851 \n",
       "  \"/>\n",
       "<polyline clip-path=\"url(#clip5700)\" style=\"stroke:#000000; stroke-width:4; stroke-opacity:1; fill:none\" points=\"\n",
       "  175.024,744.226 201.157,744.226 \n",
       "  \"/>\n",
       "<polyline clip-path=\"url(#clip5700)\" style=\"stroke:#000000; stroke-width:4; stroke-opacity:1; fill:none\" points=\"\n",
       "  175.024,553.6 201.157,553.6 \n",
       "  \"/>\n",
       "<polyline clip-path=\"url(#clip5700)\" style=\"stroke:#000000; stroke-width:4; stroke-opacity:1; fill:none\" points=\"\n",
       "  175.024,362.974 201.157,362.974 \n",
       "  \"/>\n",
       "<polyline clip-path=\"url(#clip5700)\" style=\"stroke:#000000; stroke-width:4; stroke-opacity:1; fill:none\" points=\"\n",
       "  175.024,172.349 201.157,172.349 \n",
       "  \"/>\n",
       "<path clip-path=\"url(#clip5700)\" d=\"M 0 0 M623.772 1505.36 L642.128 1505.36 L642.128 1509.3 L628.054 1509.3 L628.054 1517.77 Q629.073 1517.42 630.091 1517.26 Q631.11 1517.07 632.128 1517.07 Q637.915 1517.07 641.295 1520.24 Q644.674 1523.42 644.674 1528.83 Q644.674 1534.41 641.202 1537.51 Q637.73 1540.59 631.411 1540.59 Q629.235 1540.59 626.966 1540.22 Q624.721 1539.85 622.313 1539.11 L622.313 1534.41 Q624.397 1535.54 626.619 1536.1 Q628.841 1536.66 631.318 1536.66 Q635.323 1536.66 637.661 1534.55 Q639.999 1532.44 639.999 1528.83 Q639.999 1525.22 637.661 1523.11 Q635.323 1521.01 631.318 1521.01 Q629.443 1521.01 627.568 1521.42 Q625.716 1521.84 623.772 1522.72 L623.772 1505.36 Z\" fill=\"#000000\" fill-rule=\"evenodd\" fill-opacity=\"1\" /><path clip-path=\"url(#clip5700)\" d=\"M 0 0 M1183.46 1535.98 L1191.1 1535.98 L1191.1 1509.62 L1182.79 1511.29 L1182.79 1507.03 L1191.05 1505.36 L1195.72 1505.36 L1195.72 1535.98 L1203.36 1535.98 L1203.36 1539.92 L1183.46 1539.92 L1183.46 1535.98 Z\" fill=\"#000000\" fill-rule=\"evenodd\" fill-opacity=\"1\" /><path clip-path=\"url(#clip5700)\" d=\"M 0 0 M1218.43 1508.44 Q1214.82 1508.44 1212.99 1512 Q1211.19 1515.55 1211.19 1522.67 Q1211.19 1529.78 1212.99 1533.35 Q1214.82 1536.89 1218.43 1536.89 Q1222.07 1536.89 1223.87 1533.35 Q1225.7 1529.78 1225.7 1522.67 Q1225.7 1515.55 1223.87 1512 Q1222.07 1508.44 1218.43 1508.44 M1218.43 1504.73 Q1224.24 1504.73 1227.3 1509.34 Q1230.38 1513.92 1230.38 1522.67 Q1230.38 1531.4 1227.3 1536.01 Q1224.24 1540.59 1218.43 1540.59 Q1212.62 1540.59 1209.54 1536.01 Q1206.49 1531.4 1206.49 1522.67 Q1206.49 1513.92 1209.54 1509.34 Q1212.62 1504.73 1218.43 1504.73 Z\" fill=\"#000000\" fill-rule=\"evenodd\" fill-opacity=\"1\" /><path clip-path=\"url(#clip5700)\" d=\"M 0 0 M1757.04 1535.98 L1764.68 1535.98 L1764.68 1509.62 L1756.37 1511.29 L1756.37 1507.03 L1764.63 1505.36 L1769.31 1505.36 L1769.31 1535.98 L1776.95 1535.98 L1776.95 1539.92 L1757.04 1539.92 L1757.04 1535.98 Z\" fill=\"#000000\" fill-rule=\"evenodd\" fill-opacity=\"1\" /><path clip-path=\"url(#clip5700)\" d=\"M 0 0 M1782.06 1505.36 L1800.42 1505.36 L1800.42 1509.3 L1786.35 1509.3 L1786.35 1517.77 Q1787.37 1517.42 1788.38 1517.26 Q1789.4 1517.07 1790.42 1517.07 Q1796.21 1517.07 1799.59 1520.24 Q1802.97 1523.42 1802.97 1528.83 Q1802.97 1534.41 1799.49 1537.51 Q1796.02 1540.59 1789.7 1540.59 Q1787.53 1540.59 1785.26 1540.22 Q1783.01 1539.85 1780.61 1539.11 L1780.61 1534.41 Q1782.69 1535.54 1784.91 1536.1 Q1787.13 1536.66 1789.61 1536.66 Q1793.62 1536.66 1795.95 1534.55 Q1798.29 1532.44 1798.29 1528.83 Q1798.29 1525.22 1795.95 1523.11 Q1793.62 1521.01 1789.61 1521.01 Q1787.74 1521.01 1785.86 1521.42 Q1784.01 1521.84 1782.06 1522.72 L1782.06 1505.36 Z\" fill=\"#000000\" fill-rule=\"evenodd\" fill-opacity=\"1\" /><path clip-path=\"url(#clip5700)\" d=\"M 0 0 M2333.9 1535.98 L2350.22 1535.98 L2350.22 1539.92 L2328.28 1539.92 L2328.28 1535.98 Q2330.94 1533.23 2335.52 1528.6 Q2340.13 1523.95 2341.31 1522.61 Q2343.55 1520.08 2344.43 1518.35 Q2345.34 1516.59 2345.34 1514.9 Q2345.34 1512.14 2343.39 1510.41 Q2341.47 1508.67 2338.37 1508.67 Q2336.17 1508.67 2333.72 1509.43 Q2331.29 1510.2 2328.51 1511.75 L2328.51 1507.03 Q2331.33 1505.89 2333.79 1505.31 Q2336.24 1504.73 2338.28 1504.73 Q2343.65 1504.73 2346.84 1507.42 Q2350.04 1510.11 2350.04 1514.6 Q2350.04 1516.73 2349.23 1518.65 Q2348.44 1520.54 2346.33 1523.14 Q2345.75 1523.81 2342.65 1527.03 Q2339.55 1530.22 2333.9 1535.98 Z\" fill=\"#000000\" fill-rule=\"evenodd\" fill-opacity=\"1\" /><path clip-path=\"url(#clip5700)\" d=\"M 0 0 M2365.29 1508.44 Q2361.68 1508.44 2359.85 1512 Q2358.05 1515.55 2358.05 1522.67 Q2358.05 1529.78 2359.85 1533.35 Q2361.68 1536.89 2365.29 1536.89 Q2368.92 1536.89 2370.73 1533.35 Q2372.56 1529.78 2372.56 1522.67 Q2372.56 1515.55 2370.73 1512 Q2368.92 1508.44 2365.29 1508.44 M2365.29 1504.73 Q2371.1 1504.73 2374.16 1509.34 Q2377.23 1513.92 2377.23 1522.67 Q2377.23 1531.4 2374.16 1536.01 Q2371.1 1540.59 2365.29 1540.59 Q2359.48 1540.59 2356.4 1536.01 Q2353.35 1531.4 2353.35 1522.67 Q2353.35 1513.92 2356.4 1509.34 Q2359.48 1504.73 2365.29 1504.73 Z\" fill=\"#000000\" fill-rule=\"evenodd\" fill-opacity=\"1\" /><path clip-path=\"url(#clip5700)\" d=\"M 0 0 M75.6078 1301.9 Q71.9967 1301.9 70.168 1305.47 Q68.3625 1309.01 68.3625 1316.14 Q68.3625 1323.24 70.168 1326.81 Q71.9967 1330.35 75.6078 1330.35 Q79.242 1330.35 81.0476 1326.81 Q82.8763 1323.24 82.8763 1316.14 Q82.8763 1309.01 81.0476 1305.47 Q79.242 1301.9 75.6078 1301.9 M75.6078 1298.2 Q81.418 1298.2 84.4735 1302.8 Q87.5522 1307.39 87.5522 1316.14 Q87.5522 1324.86 84.4735 1329.47 Q81.418 1334.05 75.6078 1334.05 Q69.7976 1334.05 66.719 1329.47 Q63.6634 1324.86 63.6634 1316.14 Q63.6634 1307.39 66.719 1302.8 Q69.7976 1298.2 75.6078 1298.2 Z\" fill=\"#000000\" fill-rule=\"evenodd\" fill-opacity=\"1\" /><path clip-path=\"url(#clip5700)\" d=\"M 0 0 M92.6216 1327.5 L97.5058 1327.5 L97.5058 1333.38 L92.6216 1333.38 L92.6216 1327.5 Z\" fill=\"#000000\" fill-rule=\"evenodd\" fill-opacity=\"1\" /><path clip-path=\"url(#clip5700)\" d=\"M 0 0 M115.422 1302.9 L103.617 1321.35 L115.422 1321.35 L115.422 1302.9 M114.196 1298.82 L120.075 1298.82 L120.075 1321.35 L125.006 1321.35 L125.006 1325.23 L120.075 1325.23 L120.075 1333.38 L115.422 1333.38 L115.422 1325.23 L99.8206 1325.23 L99.8206 1320.72 L114.196 1298.82 Z\" fill=\"#000000\" fill-rule=\"evenodd\" fill-opacity=\"1\" /><path clip-path=\"url(#clip5700)\" d=\"M 0 0 M130.121 1298.82 L148.478 1298.82 L148.478 1302.76 L134.404 1302.76 L134.404 1311.23 Q135.422 1310.88 136.441 1310.72 Q137.459 1310.54 138.478 1310.54 Q144.265 1310.54 147.644 1313.71 Q151.024 1316.88 151.024 1322.29 Q151.024 1327.87 147.552 1330.97 Q144.08 1334.05 137.76 1334.05 Q135.584 1334.05 133.316 1333.68 Q131.07 1333.31 128.663 1332.57 L128.663 1327.87 Q130.746 1329.01 132.969 1329.56 Q135.191 1330.12 137.668 1330.12 Q141.672 1330.12 144.01 1328.01 Q146.348 1325.91 146.348 1322.29 Q146.348 1318.68 144.01 1316.58 Q141.672 1314.47 137.668 1314.47 Q135.793 1314.47 133.918 1314.89 Q132.066 1315.3 130.121 1316.18 L130.121 1298.82 Z\" fill=\"#000000\" fill-rule=\"evenodd\" fill-opacity=\"1\" /><path clip-path=\"url(#clip5700)\" d=\"M 0 0 M76.0939 1111.28 Q72.4828 1111.28 70.6541 1114.84 Q68.8486 1118.38 68.8486 1125.51 Q68.8486 1132.62 70.6541 1136.18 Q72.4828 1139.72 76.0939 1139.72 Q79.7281 1139.72 81.5337 1136.18 Q83.3624 1132.62 83.3624 1125.51 Q83.3624 1118.38 81.5337 1114.84 Q79.7281 1111.28 76.0939 1111.28 M76.0939 1107.57 Q81.9041 1107.57 84.9596 1112.18 Q88.0383 1116.76 88.0383 1125.51 Q88.0383 1134.24 84.9596 1138.84 Q81.9041 1143.43 76.0939 1143.43 Q70.2838 1143.43 67.2051 1138.84 Q64.1495 1134.24 64.1495 1125.51 Q64.1495 1116.76 67.2051 1112.18 Q70.2838 1107.57 76.0939 1107.57 Z\" fill=\"#000000\" fill-rule=\"evenodd\" fill-opacity=\"1\" /><path clip-path=\"url(#clip5700)\" d=\"M 0 0 M93.1077 1136.88 L97.9919 1136.88 L97.9919 1142.76 L93.1077 1142.76 L93.1077 1136.88 Z\" fill=\"#000000\" fill-rule=\"evenodd\" fill-opacity=\"1\" /><path clip-path=\"url(#clip5700)\" d=\"M 0 0 M103.108 1108.2 L121.464 1108.2 L121.464 1112.13 L107.39 1112.13 L107.39 1120.6 Q108.409 1120.26 109.427 1120.09 Q110.446 1119.91 111.464 1119.91 Q117.251 1119.91 120.631 1123.08 Q124.01 1126.25 124.01 1131.67 Q124.01 1137.25 120.538 1140.35 Q117.066 1143.43 110.746 1143.43 Q108.571 1143.43 106.302 1143.06 Q104.057 1142.69 101.649 1141.95 L101.649 1137.25 Q103.733 1138.38 105.955 1138.94 Q108.177 1139.49 110.654 1139.49 Q114.659 1139.49 116.996 1137.39 Q119.334 1135.28 119.334 1131.67 Q119.334 1128.06 116.996 1125.95 Q114.659 1123.84 110.654 1123.84 Q108.779 1123.84 106.904 1124.26 Q105.052 1124.68 103.108 1125.56 L103.108 1108.2 Z\" fill=\"#000000\" fill-rule=\"evenodd\" fill-opacity=\"1\" /><path clip-path=\"url(#clip5700)\" d=\"M 0 0 M139.08 1111.28 Q135.469 1111.28 133.64 1114.84 Q131.834 1118.38 131.834 1125.51 Q131.834 1132.62 133.64 1136.18 Q135.469 1139.72 139.08 1139.72 Q142.714 1139.72 144.519 1136.18 Q146.348 1132.62 146.348 1125.51 Q146.348 1118.38 144.519 1114.84 Q142.714 1111.28 139.08 1111.28 M139.08 1107.57 Q144.89 1107.57 147.945 1112.18 Q151.024 1116.76 151.024 1125.51 Q151.024 1134.24 147.945 1138.84 Q144.89 1143.43 139.08 1143.43 Q133.27 1143.43 130.191 1138.84 Q127.135 1134.24 127.135 1125.51 Q127.135 1116.76 130.191 1112.18 Q133.27 1107.57 139.08 1107.57 Z\" fill=\"#000000\" fill-rule=\"evenodd\" fill-opacity=\"1\" /><path clip-path=\"url(#clip5700)\" d=\"M 0 0 M77.0893 920.65 Q73.4782 920.65 71.6495 924.215 Q69.8439 927.756 69.8439 934.886 Q69.8439 941.992 71.6495 945.557 Q73.4782 949.099 77.0893 949.099 Q80.7235 949.099 82.5291 945.557 Q84.3578 941.992 84.3578 934.886 Q84.3578 927.756 82.5291 924.215 Q80.7235 920.65 77.0893 920.65 M77.0893 916.946 Q82.8994 916.946 85.955 921.553 Q89.0337 926.136 89.0337 934.886 Q89.0337 943.613 85.955 948.219 Q82.8994 952.802 77.0893 952.802 Q71.2791 952.802 68.2004 948.219 Q65.1449 943.613 65.1449 934.886 Q65.1449 926.136 68.2004 921.553 Q71.2791 916.946 77.0893 916.946 Z\" fill=\"#000000\" fill-rule=\"evenodd\" fill-opacity=\"1\" /><path clip-path=\"url(#clip5700)\" d=\"M 0 0 M94.1031 946.252 L98.9873 946.252 L98.9873 952.131 L94.1031 952.131 L94.1031 946.252 Z\" fill=\"#000000\" fill-rule=\"evenodd\" fill-opacity=\"1\" /><path clip-path=\"url(#clip5700)\" d=\"M 0 0 M104.103 917.571 L122.459 917.571 L122.459 921.506 L108.385 921.506 L108.385 929.979 Q109.404 929.631 110.422 929.469 Q111.441 929.284 112.459 929.284 Q118.246 929.284 121.626 932.455 Q125.006 935.627 125.006 941.043 Q125.006 946.622 121.533 949.724 Q118.061 952.802 111.742 952.802 Q109.566 952.802 107.297 952.432 Q105.052 952.062 102.645 951.321 L102.645 946.622 Q104.728 947.756 106.95 948.312 Q109.172 948.867 111.649 948.867 Q115.654 948.867 117.992 946.761 Q120.33 944.654 120.33 941.043 Q120.33 937.432 117.992 935.326 Q115.654 933.219 111.649 933.219 Q109.774 933.219 107.899 933.636 Q106.047 934.053 104.103 934.932 L104.103 917.571 Z\" fill=\"#000000\" fill-rule=\"evenodd\" fill-opacity=\"1\" /><path clip-path=\"url(#clip5700)\" d=\"M 0 0 M130.121 917.571 L148.478 917.571 L148.478 921.506 L134.404 921.506 L134.404 929.979 Q135.422 929.631 136.441 929.469 Q137.459 929.284 138.478 929.284 Q144.265 929.284 147.644 932.455 Q151.024 935.627 151.024 941.043 Q151.024 946.622 147.552 949.724 Q144.08 952.802 137.76 952.802 Q135.584 952.802 133.316 952.432 Q131.07 952.062 128.663 951.321 L128.663 946.622 Q130.746 947.756 132.969 948.312 Q135.191 948.867 137.668 948.867 Q141.672 948.867 144.01 946.761 Q146.348 944.654 146.348 941.043 Q146.348 937.432 144.01 935.326 Q141.672 933.219 137.668 933.219 Q135.793 933.219 133.918 933.636 Q132.066 934.053 130.121 934.932 L130.121 917.571 Z\" fill=\"#000000\" fill-rule=\"evenodd\" fill-opacity=\"1\" /><path clip-path=\"url(#clip5700)\" d=\"M 0 0 M74.9365 730.024 Q71.3254 730.024 69.4967 733.589 Q67.6912 737.131 67.6912 744.26 Q67.6912 751.367 69.4967 754.932 Q71.3254 758.473 74.9365 758.473 Q78.5707 758.473 80.3763 754.932 Q82.205 751.367 82.205 744.26 Q82.205 737.131 80.3763 733.589 Q78.5707 730.024 74.9365 730.024 M74.9365 726.321 Q80.7467 726.321 83.8022 730.927 Q86.8809 735.51 86.8809 744.26 Q86.8809 752.987 83.8022 757.594 Q80.7467 762.177 74.9365 762.177 Q69.1264 762.177 66.0477 757.594 Q62.9921 752.987 62.9921 744.26 Q62.9921 735.51 66.0477 730.927 Q69.1264 726.321 74.9365 726.321 Z\" fill=\"#000000\" fill-rule=\"evenodd\" fill-opacity=\"1\" /><path clip-path=\"url(#clip5700)\" d=\"M 0 0 M91.9503 755.626 L96.8345 755.626 L96.8345 761.506 L91.9503 761.506 L91.9503 755.626 Z\" fill=\"#000000\" fill-rule=\"evenodd\" fill-opacity=\"1\" /><path clip-path=\"url(#clip5700)\" d=\"M 0 0 M112.483 742.362 Q109.334 742.362 107.483 744.515 Q105.654 746.668 105.654 750.418 Q105.654 754.145 107.483 756.32 Q109.334 758.473 112.483 758.473 Q115.631 758.473 117.459 756.32 Q119.311 754.145 119.311 750.418 Q119.311 746.668 117.459 744.515 Q115.631 742.362 112.483 742.362 M121.765 727.709 L121.765 731.969 Q120.006 731.135 118.2 730.696 Q116.418 730.256 114.659 730.256 Q110.029 730.256 107.575 733.381 Q105.145 736.506 104.797 742.825 Q106.163 740.811 108.223 739.746 Q110.284 738.658 112.76 738.658 Q117.969 738.658 120.978 741.83 Q124.01 744.978 124.01 750.418 Q124.01 755.742 120.862 758.959 Q117.714 762.177 112.483 762.177 Q106.487 762.177 103.316 757.594 Q100.145 752.987 100.145 744.26 Q100.145 736.066 104.034 731.205 Q107.922 726.321 114.473 726.321 Q116.233 726.321 118.015 726.668 Q119.821 727.015 121.765 727.709 Z\" fill=\"#000000\" fill-rule=\"evenodd\" fill-opacity=\"1\" /><path clip-path=\"url(#clip5700)\" d=\"M 0 0 M139.08 730.024 Q135.469 730.024 133.64 733.589 Q131.834 737.131 131.834 744.26 Q131.834 751.367 133.64 754.932 Q135.469 758.473 139.08 758.473 Q142.714 758.473 144.519 754.932 Q146.348 751.367 146.348 744.26 Q146.348 737.131 144.519 733.589 Q142.714 730.024 139.08 730.024 M139.08 726.321 Q144.89 726.321 147.945 730.927 Q151.024 735.51 151.024 744.26 Q151.024 752.987 147.945 757.594 Q144.89 762.177 139.08 762.177 Q133.27 762.177 130.191 757.594 Q127.135 752.987 127.135 744.26 Q127.135 735.51 130.191 730.927 Q133.27 726.321 139.08 726.321 Z\" fill=\"#000000\" fill-rule=\"evenodd\" fill-opacity=\"1\" /><path clip-path=\"url(#clip5700)\" d=\"M 0 0 M75.9319 539.399 Q72.3208 539.399 70.4921 542.964 Q68.6865 546.505 68.6865 553.635 Q68.6865 560.741 70.4921 564.306 Q72.3208 567.848 75.9319 567.848 Q79.5661 567.848 81.3717 564.306 Q83.2004 560.741 83.2004 553.635 Q83.2004 546.505 81.3717 542.964 Q79.5661 539.399 75.9319 539.399 M75.9319 535.695 Q81.742 535.695 84.7976 540.301 Q87.8763 544.885 87.8763 553.635 Q87.8763 562.362 84.7976 566.968 Q81.742 571.551 75.9319 571.551 Q70.1217 571.551 67.043 566.968 Q63.9875 562.362 63.9875 553.635 Q63.9875 544.885 67.043 540.301 Q70.1217 535.695 75.9319 535.695 Z\" fill=\"#000000\" fill-rule=\"evenodd\" fill-opacity=\"1\" /><path clip-path=\"url(#clip5700)\" d=\"M 0 0 M92.9457 565 L97.8299 565 L97.8299 570.88 L92.9457 570.88 L92.9457 565 Z\" fill=\"#000000\" fill-rule=\"evenodd\" fill-opacity=\"1\" /><path clip-path=\"url(#clip5700)\" d=\"M 0 0 M113.478 551.737 Q110.33 551.737 108.478 553.889 Q106.649 556.042 106.649 559.792 Q106.649 563.519 108.478 565.695 Q110.33 567.848 113.478 567.848 Q116.626 567.848 118.455 565.695 Q120.307 563.519 120.307 559.792 Q120.307 556.042 118.455 553.889 Q116.626 551.737 113.478 551.737 M122.76 537.084 L122.76 541.343 Q121.001 540.51 119.196 540.07 Q117.413 539.63 115.654 539.63 Q111.024 539.63 108.571 542.755 Q106.14 545.88 105.793 552.2 Q107.159 550.186 109.219 549.121 Q111.279 548.033 113.756 548.033 Q118.964 548.033 121.973 551.204 Q125.006 554.352 125.006 559.792 Q125.006 565.116 121.858 568.334 Q118.709 571.551 113.478 571.551 Q107.483 571.551 104.311 566.968 Q101.14 562.362 101.14 553.635 Q101.14 545.44 105.029 540.579 Q108.918 535.695 115.469 535.695 Q117.228 535.695 119.01 536.042 Q120.816 536.389 122.76 537.084 Z\" fill=\"#000000\" fill-rule=\"evenodd\" fill-opacity=\"1\" /><path clip-path=\"url(#clip5700)\" d=\"M 0 0 M130.121 536.32 L148.478 536.32 L148.478 540.255 L134.404 540.255 L134.404 548.727 Q135.422 548.38 136.441 548.218 Q137.459 548.033 138.478 548.033 Q144.265 548.033 147.644 551.204 Q151.024 554.375 151.024 559.792 Q151.024 565.371 147.552 568.473 Q144.08 571.551 137.76 571.551 Q135.584 571.551 133.316 571.181 Q131.07 570.811 128.663 570.07 L128.663 565.371 Q130.746 566.505 132.969 567.061 Q135.191 567.616 137.668 567.616 Q141.672 567.616 144.01 565.51 Q146.348 563.403 146.348 559.792 Q146.348 556.181 144.01 554.075 Q141.672 551.968 137.668 551.968 Q135.793 551.968 133.918 552.385 Q132.066 552.801 130.121 553.681 L130.121 536.32 Z\" fill=\"#000000\" fill-rule=\"evenodd\" fill-opacity=\"1\" /><path clip-path=\"url(#clip5700)\" d=\"M 0 0 M76.0013 348.773 Q72.3902 348.773 70.5615 352.338 Q68.756 355.88 68.756 363.009 Q68.756 370.116 70.5615 373.68 Q72.3902 377.222 76.0013 377.222 Q79.6356 377.222 81.4411 373.68 Q83.2698 370.116 83.2698 363.009 Q83.2698 355.88 81.4411 352.338 Q79.6356 348.773 76.0013 348.773 M76.0013 345.069 Q81.8115 345.069 84.867 349.676 Q87.9457 354.259 87.9457 363.009 Q87.9457 371.736 84.867 376.342 Q81.8115 380.926 76.0013 380.926 Q70.1912 380.926 67.1125 376.342 Q64.0569 371.736 64.0569 363.009 Q64.0569 354.259 67.1125 349.676 Q70.1912 345.069 76.0013 345.069 Z\" fill=\"#000000\" fill-rule=\"evenodd\" fill-opacity=\"1\" /><path clip-path=\"url(#clip5700)\" d=\"M 0 0 M93.0151 374.375 L97.8993 374.375 L97.8993 380.254 L93.0151 380.254 L93.0151 374.375 Z\" fill=\"#000000\" fill-rule=\"evenodd\" fill-opacity=\"1\" /><path clip-path=\"url(#clip5700)\" d=\"M 0 0 M101.788 345.694 L124.01 345.694 L124.01 347.685 L111.464 380.254 L106.58 380.254 L118.385 349.63 L101.788 349.63 L101.788 345.694 Z\" fill=\"#000000\" fill-rule=\"evenodd\" fill-opacity=\"1\" /><path clip-path=\"url(#clip5700)\" d=\"M 0 0 M139.08 348.773 Q135.469 348.773 133.64 352.338 Q131.834 355.88 131.834 363.009 Q131.834 370.116 133.64 373.68 Q135.469 377.222 139.08 377.222 Q142.714 377.222 144.519 373.68 Q146.348 370.116 146.348 363.009 Q146.348 355.88 144.519 352.338 Q142.714 348.773 139.08 348.773 M139.08 345.069 Q144.89 345.069 147.945 349.676 Q151.024 354.259 151.024 363.009 Q151.024 371.736 147.945 376.342 Q144.89 380.926 139.08 380.926 Q133.27 380.926 130.191 376.342 Q127.135 371.736 127.135 363.009 Q127.135 354.259 130.191 349.676 Q133.27 345.069 139.08 345.069 Z\" fill=\"#000000\" fill-rule=\"evenodd\" fill-opacity=\"1\" /><path clip-path=\"url(#clip5700)\" d=\"M 0 0 M76.9967 158.148 Q73.3856 158.148 71.5569 161.712 Q69.7513 165.254 69.7513 172.384 Q69.7513 179.49 71.5569 183.055 Q73.3856 186.597 76.9967 186.597 Q80.6309 186.597 82.4365 183.055 Q84.2652 179.49 84.2652 172.384 Q84.2652 165.254 82.4365 161.712 Q80.6309 158.148 76.9967 158.148 M76.9967 154.444 Q82.8068 154.444 85.8624 159.05 Q88.9411 163.634 88.9411 172.384 Q88.9411 181.11 85.8624 185.717 Q82.8068 190.3 76.9967 190.3 Q71.1865 190.3 68.1078 185.717 Q65.0523 181.11 65.0523 172.384 Q65.0523 163.634 68.1078 159.05 Q71.1865 154.444 76.9967 154.444 Z\" fill=\"#000000\" fill-rule=\"evenodd\" fill-opacity=\"1\" /><path clip-path=\"url(#clip5700)\" d=\"M 0 0 M94.0105 183.749 L98.8947 183.749 L98.8947 189.629 L94.0105 189.629 L94.0105 183.749 Z\" fill=\"#000000\" fill-rule=\"evenodd\" fill-opacity=\"1\" /><path clip-path=\"url(#clip5700)\" d=\"M 0 0 M102.784 155.069 L125.006 155.069 L125.006 157.06 L112.459 189.629 L107.575 189.629 L119.381 159.004 L102.784 159.004 L102.784 155.069 Z\" fill=\"#000000\" fill-rule=\"evenodd\" fill-opacity=\"1\" /><path clip-path=\"url(#clip5700)\" d=\"M 0 0 M130.121 155.069 L148.478 155.069 L148.478 159.004 L134.404 159.004 L134.404 167.476 Q135.422 167.129 136.441 166.967 Q137.459 166.782 138.478 166.782 Q144.265 166.782 147.644 169.953 Q151.024 173.124 151.024 178.541 Q151.024 184.12 147.552 187.222 Q144.08 190.3 137.76 190.3 Q135.584 190.3 133.316 189.93 Q131.07 189.559 128.663 188.819 L128.663 184.12 Q130.746 185.254 132.969 185.809 Q135.191 186.365 137.668 186.365 Q141.672 186.365 144.01 184.259 Q146.348 182.152 146.348 178.541 Q146.348 174.93 144.01 172.823 Q141.672 170.717 137.668 170.717 Q135.793 170.717 133.918 171.134 Q132.066 171.55 130.121 172.43 L130.121 155.069 Z\" fill=\"#000000\" fill-rule=\"evenodd\" fill-opacity=\"1\" /><polyline clip-path=\"url(#clip5702)\" style=\"stroke:#0000ff; stroke-width:4; stroke-opacity:1; fill:none\" points=\"\n",
       "  175.024,501.188 289.642,666.62 404.259,683.078 518.876,546.348 633.494,648.67 748.111,693.99 862.729,711.992 977.346,928.969 1091.96,653.944 1206.58,594.284 \n",
       "  1321.2,751.977 1435.82,582.394 1550.43,709.789 1665.05,869.842 1779.67,557.472 1894.29,693.261 2008.9,770.58 2123.52,356.596 2238.14,654.717 2352.76,854.412 \n",
       "  \n",
       "  \"/>\n",
       "<polyline clip-path=\"url(#clip5702)\" style=\"stroke:#0000ff; stroke-width:4; stroke-opacity:1; fill:none\" points=\"\n",
       "  175.024,656.032 289.642,756.433 404.259,506.994 518.876,602.225 633.494,436.731 748.111,689.713 862.729,618.585 977.346,904.982 1091.96,639.365 1206.58,617.239 \n",
       "  1321.2,646.47 1435.82,547.904 1550.43,465.887 1665.05,655.521 1779.67,538.607 1894.29,622.14 2008.9,791.52 2123.52,593.864 2238.14,788.607 2352.76,624.706 \n",
       "  \n",
       "  \"/>\n",
       "<polyline clip-path=\"url(#clip5702)\" style=\"stroke:#0000ff; stroke-width:4; stroke-opacity:1; fill:none\" points=\"\n",
       "  175.024,523.357 289.642,593.874 404.259,649.843 518.876,530.12 633.494,708.976 748.111,581.902 862.729,585.65 977.346,651.512 1091.96,624.023 1206.58,665.166 \n",
       "  1321.2,676.142 1435.82,675.28 1550.43,500.89 1665.05,577.271 1779.67,551.476 1894.29,596.614 2008.9,611.732 2123.52,535.851 2238.14,548.006 2352.76,774.549 \n",
       "  \n",
       "  \"/>\n",
       "<polyline clip-path=\"url(#clip5702)\" style=\"stroke:#0000ff; stroke-width:4; stroke-opacity:1; fill:none\" points=\"\n",
       "  175.024,827.962 289.642,766.646 404.259,648.434 518.876,727.273 633.494,703.917 748.111,654.644 862.729,790.808 977.346,926.585 1091.96,627.253 1206.58,844.88 \n",
       "  1321.2,886.877 1435.82,793.182 1550.43,685.428 1665.05,881.438 1779.67,831.936 1894.29,754.84 2008.9,459.549 2123.52,553.82 2238.14,692.488 2352.76,733.514 \n",
       "  \n",
       "  \"/>\n",
       "<polyline clip-path=\"url(#clip5702)\" style=\"stroke:#0000ff; stroke-width:4; stroke-opacity:1; fill:none\" points=\"\n",
       "  175.024,817.925 289.642,720.053 404.259,737.487 518.876,818.112 633.494,698.649 748.111,620.69 862.729,747.963 977.346,802.991 1091.96,531.918 1206.58,869.121 \n",
       "  1321.2,874.231 1435.82,842.748 1550.43,765.729 1665.05,793.87 1779.67,772.944 1894.29,830.951 2008.9,501.3 2123.52,663.559 2238.14,842.986 2352.76,612.26 \n",
       "  \n",
       "  \"/>\n",
       "<polyline clip-path=\"url(#clip5702)\" style=\"stroke:#0000ff; stroke-width:4; stroke-opacity:1; fill:none\" points=\"\n",
       "  175.024,512.284 289.642,818.042 404.259,721.317 518.876,643.587 633.494,696.944 748.111,735.809 862.729,820.275 977.346,897.397 1091.96,685.022 1206.58,798.74 \n",
       "  1321.2,821.231 1435.82,610.071 1550.43,598.73 1665.05,744.405 1779.67,782.985 1894.29,907.021 2008.9,592.176 2123.52,492.377 2238.14,563.093 2352.76,721.462 \n",
       "  \n",
       "  \"/>\n",
       "<polyline clip-path=\"url(#clip5702)\" style=\"stroke:#0000ff; stroke-width:4; stroke-opacity:1; fill:none\" points=\"\n",
       "  175.024,764.162 289.642,713.792 404.259,679.973 518.876,693.547 633.494,707.948 748.111,698.587 862.729,917.443 977.346,673.059 1091.96,652.144 1206.58,859.72 \n",
       "  1321.2,813.479 1435.82,873.735 1550.43,705.618 1665.05,679.337 1779.67,783.574 1894.29,657.773 2008.9,372.111 2123.52,578.873 2238.14,765.064 2352.76,684.108 \n",
       "  \n",
       "  \"/>\n",
       "<polyline clip-path=\"url(#clip5702)\" style=\"stroke:#0000ff; stroke-width:4; stroke-opacity:1; fill:none\" points=\"\n",
       "  175.024,732.703 289.642,608.2 404.259,685.526 518.876,672.175 633.494,571.442 748.111,641.303 862.729,877.721 977.346,634.908 1091.96,481.444 1206.58,1025.93 \n",
       "  1321.2,801.926 1435.82,660.879 1550.43,639.372 1665.05,593.201 1779.67,568.61 1894.29,822.312 2008.9,399.503 2123.52,765.96 2238.14,771.434 2352.76,626.652 \n",
       "  \n",
       "  \"/>\n",
       "<polyline clip-path=\"url(#clip5702)\" style=\"stroke:#0000ff; stroke-width:4; stroke-opacity:1; fill:none\" points=\"\n",
       "  175.024,671.514 289.642,792.016 404.259,491.51 518.876,762.256 633.494,767.242 748.111,711.302 862.729,538.889 977.346,893.214 1091.96,644.729 1206.58,692.617 \n",
       "  1321.2,748.11 1435.82,647.277 1550.43,543.699 1665.05,628.366 1779.67,663.978 1894.29,822.405 2008.9,671.171 2123.52,722.285 2238.14,862.805 2352.76,886.08 \n",
       "  \n",
       "  \"/>\n",
       "<polyline clip-path=\"url(#clip5702)\" style=\"stroke:#0000ff; stroke-width:4; stroke-opacity:1; fill:none\" points=\"\n",
       "  175.024,928.895 289.642,901.713 404.259,689.315 518.876,713.1 633.494,605.205 748.111,611.766 862.729,879.606 977.346,867.895 1091.96,561.897 1206.58,1022.73 \n",
       "  1321.2,710.666 1435.82,717.341 1550.43,632.269 1665.05,812.826 1779.67,867.506 1894.29,739.275 2008.9,479.831 2123.52,606.582 2238.14,723.106 2352.76,818.46 \n",
       "  \n",
       "  \"/>\n",
       "<polyline clip-path=\"url(#clip5702)\" style=\"stroke:#0000ff; stroke-width:4; stroke-opacity:1; fill:none\" points=\"\n",
       "  175.024,876.531 289.642,743.263 404.259,748.915 518.876,781.602 633.494,668.871 748.111,687.293 862.729,947.792 977.346,719.036 1091.96,637.227 1206.58,1063.07 \n",
       "  1321.2,891.72 1435.82,738.276 1550.43,767.637 1665.05,755.963 1779.67,763.41 1894.29,815.973 2008.9,469.143 2123.52,629.994 2238.14,793.312 2352.76,787.05 \n",
       "  \n",
       "  \"/>\n",
       "<polyline clip-path=\"url(#clip5702)\" style=\"stroke:#0000ff; stroke-width:4; stroke-opacity:1; fill:none\" points=\"\n",
       "  175.024,695.269 289.642,660.153 404.259,695.254 518.876,646.126 633.494,642.37 748.111,602.314 862.729,813.578 977.346,720.126 1091.96,562.333 1206.58,939.471 \n",
       "  1321.2,824.309 1435.82,730.92 1550.43,731.188 1665.05,719.9 1779.67,680.614 1894.29,759.057 2008.9,423.15 2123.52,467.829 2238.14,684.498 2352.76,700.347 \n",
       "  \n",
       "  \"/>\n",
       "<polyline clip-path=\"url(#clip5702)\" style=\"stroke:#0000ff; stroke-width:4; stroke-opacity:1; fill:none\" points=\"\n",
       "  175.024,490.944 289.642,591.617 404.259,688.5 518.876,518.399 633.494,543.852 748.111,550.538 862.729,565.055 977.346,631.053 1091.96,492.211 1206.58,698.236 \n",
       "  1321.2,466.222 1435.82,432.32 1550.43,442.446 1665.05,467.161 1779.67,561.556 1894.29,548.838 2008.9,608.213 2123.52,497.952 2238.14,486.916 2352.76,668.776 \n",
       "  \n",
       "  \"/>\n",
       "<polyline clip-path=\"url(#clip5702)\" style=\"stroke:#0000ff; stroke-width:4; stroke-opacity:1; fill:none\" points=\"\n",
       "  175.024,785.523 289.642,684.267 404.259,738.779 518.876,802.965 633.494,861.815 748.111,717.931 862.729,672.771 977.346,907.753 1091.96,819.077 1206.58,599.515 \n",
       "  1321.2,866.864 1435.82,813.211 1550.43,725.124 1665.05,885.523 1779.67,770.925 1894.29,795.194 2008.9,514.983 2123.52,554.395 2238.14,889.836 2352.76,802.298 \n",
       "  \n",
       "  \"/>\n",
       "<polyline clip-path=\"url(#clip5702)\" style=\"stroke:#0000ff; stroke-width:4; stroke-opacity:1; fill:none\" points=\"\n",
       "  175.024,980.824 289.642,866.335 404.259,656.634 518.876,672.468 633.494,575.032 748.111,599.472 862.729,888.262 977.346,868.745 1091.96,550.584 1206.58,1053.66 \n",
       "  1321.2,679.124 1435.82,718.643 1550.43,611.821 1665.05,801.825 1779.67,884.799 1894.29,739.702 2008.9,438.7 2123.52,560.29 2238.14,691.694 2352.76,839.606 \n",
       "  \n",
       "  \"/>\n",
       "<polyline clip-path=\"url(#clip5702)\" style=\"stroke:#0000ff; stroke-width:4; stroke-opacity:1; fill:none\" points=\"\n",
       "  175.024,602.052 289.642,747.63 404.259,475.094 518.876,453.816 633.494,451.842 748.111,606.305 862.729,525.81 977.346,773.656 1091.96,627.829 1206.58,521.602 \n",
       "  1321.2,621.946 1435.82,600.781 1550.43,506.617 1665.05,663.353 1779.67,448.765 1894.29,599.201 2008.9,800.493 2123.52,484.057 2238.14,799.032 2352.76,806.733 \n",
       "  \n",
       "  \"/>\n",
       "<polyline clip-path=\"url(#clip5702)\" style=\"stroke:#0000ff; stroke-width:4; stroke-opacity:1; fill:none\" points=\"\n",
       "  175.024,516.115 289.642,506.292 404.259,652.917 518.876,481.997 633.494,512.324 748.111,423.418 862.729,587.918 977.346,686.493 1091.96,389.639 1206.58,583.525 \n",
       "  1321.2,567.133 1435.82,403.423 1550.43,541.465 1665.05,492.835 1779.67,438.025 1894.29,504.223 2008.9,601.084 2123.52,255.116 2238.14,569.881 2352.76,542.868 \n",
       "  \n",
       "  \"/>\n",
       "<polyline clip-path=\"url(#clip5702)\" style=\"stroke:#0000ff; stroke-width:4; stroke-opacity:1; fill:none\" points=\"\n",
       "  175.024,672.23 289.642,557.482 404.259,664.299 518.876,672.834 633.494,683.495 748.111,676.545 862.729,763.883 977.346,697.135 1091.96,640.614 1206.58,890.108 \n",
       "  1321.2,899.057 1435.82,815.687 1550.43,532.735 1665.05,706.644 1779.67,743.578 1894.29,756.684 2008.9,411.467 2123.52,772.396 2238.14,670.27 2352.76,701.928 \n",
       "  \n",
       "  \"/>\n",
       "<polyline clip-path=\"url(#clip5702)\" style=\"stroke:#0000ff; stroke-width:4; stroke-opacity:1; fill:none\" points=\"\n",
       "  175.024,597.473 289.642,689.84 404.259,469.634 518.876,585.133 633.494,640.58 748.111,550.539 862.729,620.321 977.346,820.159 1091.96,637.228 1206.58,319.423 \n",
       "  1321.2,603.717 1435.82,494.613 1550.43,616.351 1665.05,698.826 1779.67,438.682 1894.29,533.08 2008.9,643.143 2123.52,335.147 2238.14,564.114 2352.76,799.012 \n",
       "  \n",
       "  \"/>\n",
       "<polyline clip-path=\"url(#clip5702)\" style=\"stroke:#0000ff; stroke-width:4; stroke-opacity:1; fill:none\" points=\"\n",
       "  175.024,789.52 289.642,790.172 404.259,647.861 518.876,619.51 633.494,661.997 748.111,662.606 862.729,913.813 977.346,886.853 1091.96,419.338 1206.58,925.828 \n",
       "  1321.2,815.832 1435.82,771.55 1550.43,737.559 1665.05,749.433 1779.67,791.756 1894.29,745.184 2008.9,486.81 2123.52,426.8 2238.14,663.684 2352.76,623.21 \n",
       "  \n",
       "  \"/>\n",
       "<polyline clip-path=\"url(#clip5702)\" style=\"stroke:#0000ff; stroke-width:4; stroke-opacity:1; fill:none\" points=\"\n",
       "  175.024,484.372 289.642,620.027 404.259,580.867 518.876,440.426 633.494,654.455 748.111,553.569 862.729,627.855 977.346,804.84 1091.96,425.163 1206.58,553.023 \n",
       "  1321.2,753.096 1435.82,522.567 1550.43,711.699 1665.05,808.388 1779.67,604.335 1894.29,583.246 2008.9,535.999 2123.52,301.185 2238.14,462.489 2352.76,692.175 \n",
       "  \n",
       "  \"/>\n",
       "<polyline clip-path=\"url(#clip5702)\" style=\"stroke:#0000ff; stroke-width:4; stroke-opacity:1; fill:none\" points=\"\n",
       "  175.024,672.23 289.642,557.482 404.259,664.299 518.876,672.834 633.494,683.495 748.111,676.545 862.729,763.883 977.346,697.135 1091.96,640.614 1206.58,890.108 \n",
       "  1321.2,899.057 1435.82,815.687 1550.43,532.735 1665.05,706.644 1779.67,743.578 1894.29,756.684 2008.9,411.467 2123.52,772.396 2238.14,670.27 2352.76,701.928 \n",
       "  \n",
       "  \"/>\n",
       "<polyline clip-path=\"url(#clip5702)\" style=\"stroke:#0000ff; stroke-width:4; stroke-opacity:1; fill:none\" points=\"\n",
       "  175.024,699.621 289.642,715.034 404.259,669.379 518.876,859.948 633.494,812.149 748.111,674.989 862.729,746.068 977.346,747.009 1091.96,537.259 1206.58,768.784 \n",
       "  1321.2,827.986 1435.82,837.938 1550.43,687.33 1665.05,703.81 1779.67,865.005 1894.29,834.796 2008.9,393.237 2123.52,510.771 2238.14,712.647 2352.76,654.073 \n",
       "  \n",
       "  \"/>\n",
       "<polyline clip-path=\"url(#clip5702)\" style=\"stroke:#0000ff; stroke-width:4; stroke-opacity:1; fill:none\" points=\"\n",
       "  175.024,383.753 289.642,649.288 404.259,559.849 518.876,458.566 633.494,649.256 748.111,579.128 862.729,616.741 977.346,847.06 1091.96,566.165 1206.58,470.542 \n",
       "  1321.2,774.019 1435.82,450.443 1550.43,774.331 1665.05,810.572 1779.67,521.739 1894.29,572.949 2008.9,626.729 2123.52,258.514 2238.14,580.047 2352.76,863.22 \n",
       "  \n",
       "  \"/>\n",
       "<polyline clip-path=\"url(#clip5702)\" style=\"stroke:#0000ff; stroke-width:4; stroke-opacity:1; fill:none\" points=\"\n",
       "  175.024,524.301 289.642,660.077 404.259,642.561 518.876,534.461 633.494,605.211 748.111,506.545 862.729,700.256 977.346,711.361 1091.96,498.873 1206.58,746.407 \n",
       "  1321.2,618.449 1435.82,433.658 1550.43,623.568 1665.05,405.593 1779.67,489.877 1894.29,603.49 2008.9,496.057 2123.52,474.659 2238.14,386.226 2352.76,642.161 \n",
       "  \n",
       "  \"/>\n",
       "<polyline clip-path=\"url(#clip5702)\" style=\"stroke:#0000ff; stroke-width:4; stroke-opacity:1; fill:none\" points=\"\n",
       "  175.024,742.795 289.642,657.603 404.259,709.567 518.876,528.002 633.494,472.825 748.111,570.87 862.729,492.985 977.346,722.48 1091.96,585.804 1206.58,491.79 \n",
       "  1321.2,644.652 1435.82,607.986 1550.43,648.883 1665.05,764.156 1779.67,519.641 1894.29,561.835 2008.9,519.863 2123.52,181.227 2238.14,637.809 2352.76,704.712 \n",
       "  \n",
       "  \"/>\n",
       "<polyline clip-path=\"url(#clip5702)\" style=\"stroke:#0000ff; stroke-width:4; stroke-opacity:1; fill:none\" points=\"\n",
       "  175.024,415.017 289.642,707.205 404.259,521.944 518.876,546.264 633.494,604.361 748.111,653.364 862.729,590.579 977.346,759.81 1091.96,709.421 1206.58,658.456 \n",
       "  1321.2,707.018 1435.82,503.668 1550.43,503.306 1665.05,698.094 1779.67,530.846 1894.29,561.687 2008.9,781.445 2123.52,493.749 2238.14,726.478 2352.76,811.961 \n",
       "  \n",
       "  \"/>\n",
       "<polyline clip-path=\"url(#clip5702)\" style=\"stroke:#0000ff; stroke-width:4; stroke-opacity:1; fill:none\" points=\"\n",
       "  175.024,416.725 289.642,798.415 404.259,600.125 518.876,516.562 633.494,676.021 748.111,630.771 862.729,662.006 977.346,874.752 1091.96,695.196 1206.58,510.421 \n",
       "  1321.2,816.428 1435.82,524.641 1550.43,775.085 1665.05,798.34 1779.67,460.224 1894.29,556.954 2008.9,778.671 2123.52,403.151 2238.14,675.06 2352.76,889.741 \n",
       "  \n",
       "  \"/>\n",
       "<polyline clip-path=\"url(#clip5702)\" style=\"stroke:#0000ff; stroke-width:4; stroke-opacity:1; fill:none\" points=\"\n",
       "  175.024,823.466 289.642,628.799 404.259,717.958 518.876,689.157 633.494,590.764 748.111,581.008 862.729,653.554 977.346,890.469 1091.96,636.29 1206.58,502.399 \n",
       "  1321.2,712.248 1435.82,678.465 1550.43,636.285 1665.05,732.737 1779.67,654.852 1894.29,569.406 2008.9,621.227 2123.52,160.325 2238.14,582.223 2352.76,636.97 \n",
       "  \n",
       "  \"/>\n",
       "<polyline clip-path=\"url(#clip5702)\" style=\"stroke:#0000ff; stroke-width:4; stroke-opacity:1; fill:none\" points=\"\n",
       "  175.024,845.652 289.642,751.406 404.259,598.835 518.876,656.527 633.494,552.2 748.111,547.424 862.729,807.008 977.346,855.918 1091.96,614.793 1206.58,798.972 \n",
       "  1321.2,655.692 1435.82,731.405 1550.43,521.024 1665.05,741.294 1779.67,806.427 1894.29,589.957 2008.9,397.765 2123.52,527.74 2238.14,628.328 2352.76,737.721 \n",
       "  \n",
       "  \"/>\n",
       "<polyline clip-path=\"url(#clip5702)\" style=\"stroke:#0000ff; stroke-width:4; stroke-opacity:1; fill:none\" points=\"\n",
       "  175.024,473.589 289.642,736.457 404.259,645.522 518.876,611.9 633.494,639.057 748.111,611.349 862.729,823.45 977.346,898.119 1091.96,529.584 1206.58,646.399 \n",
       "  1321.2,802.364 1435.82,479.085 1550.43,862.168 1665.05,810.59 1779.67,507.297 1894.29,766.118 2008.9,697.385 2123.52,489.591 2238.14,761.242 2352.76,843.296 \n",
       "  \n",
       "  \"/>\n",
       "<polyline clip-path=\"url(#clip5702)\" style=\"stroke:#0000ff; stroke-width:4; stroke-opacity:1; fill:none\" points=\"\n",
       "  175.024,813.14 289.642,731.835 404.259,697.096 518.876,538.183 633.494,674.291 748.111,606.541 862.729,796.226 977.346,658.808 1091.96,457.115 1206.58,909.689 \n",
       "  1321.2,683.443 1435.82,657.839 1550.43,718.792 1665.05,529.747 1779.67,579.812 1894.29,747.434 2008.9,511.011 2123.52,547.418 2238.14,613.269 2352.76,801.28 \n",
       "  \n",
       "  \"/>\n",
       "<polyline clip-path=\"url(#clip5702)\" style=\"stroke:#0000ff; stroke-width:4; stroke-opacity:1; fill:none\" points=\"\n",
       "  175.024,720.436 289.642,764.314 404.259,620.105 518.876,693.409 633.494,664.634 748.111,707.111 862.729,604.504 977.346,964.736 1091.96,816.952 1206.58,323.289 \n",
       "  1321.2,659.172 1435.82,625.212 1550.43,613.433 1665.05,683.29 1779.67,587.352 1894.29,596.583 2008.9,938.897 2123.52,478.867 2238.14,860.859 2352.76,856.253 \n",
       "  \n",
       "  \"/>\n",
       "<polyline clip-path=\"url(#clip5702)\" style=\"stroke:#0000ff; stroke-width:4; stroke-opacity:1; fill:none\" points=\"\n",
       "  175.024,699.621 289.642,715.034 404.259,669.379 518.876,859.948 633.494,812.149 748.111,674.989 862.729,746.068 977.346,747.009 1091.96,537.259 1206.58,768.784 \n",
       "  1321.2,827.986 1435.82,837.938 1550.43,687.33 1665.05,703.81 1779.67,865.005 1894.29,834.796 2008.9,393.237 2123.52,510.771 2238.14,712.647 2352.76,654.073 \n",
       "  \n",
       "  \"/>\n",
       "<polyline clip-path=\"url(#clip5702)\" style=\"stroke:#0000ff; stroke-width:4; stroke-opacity:1; fill:none\" points=\"\n",
       "  175.024,379.316 289.642,729.975 404.259,596.543 518.876,528.351 633.494,686.435 748.111,674.688 862.729,680.519 977.346,913.409 1091.96,646.569 1206.58,553.717 \n",
       "  1321.2,805.016 1435.82,501.326 1550.43,770.906 1665.05,821.057 1779.67,572.49 1894.29,623.82 2008.9,730.177 2123.52,327.983 2238.14,650.227 2352.76,904.911 \n",
       "  \n",
       "  \"/>\n",
       "<polyline clip-path=\"url(#clip5702)\" style=\"stroke:#0000ff; stroke-width:4; stroke-opacity:1; fill:none\" points=\"\n",
       "  175.024,591.523 289.642,635.89 404.259,619.741 518.876,560.236 633.494,702.92 748.111,616.45 862.729,668.738 977.346,756.648 1091.96,414.37 1206.58,605.007 \n",
       "  1321.2,574.703 1435.82,569.783 1550.43,617.849 1665.05,513.33 1779.67,686.048 1894.29,571.18 2008.9,548.183 2123.52,403.979 2238.14,539.381 2352.76,770.049 \n",
       "  \n",
       "  \"/>\n",
       "<polyline clip-path=\"url(#clip5702)\" style=\"stroke:#0000ff; stroke-width:4; stroke-opacity:1; fill:none\" points=\"\n",
       "  175.024,532.88 289.642,508.868 404.259,506.47 518.876,283.98 633.494,330.474 748.111,414.731 862.729,415.362 977.346,599.92 1091.96,360.126 1206.58,523.877 \n",
       "  1321.2,467.774 1435.82,438.784 1550.43,472.043 1665.05,441.272 1779.67,381.514 1894.29,414.818 2008.9,567.703 2123.52,173.543 2238.14,549.585 2352.76,591.169 \n",
       "  \n",
       "  \"/>\n",
       "<polyline clip-path=\"url(#clip5702)\" style=\"stroke:#0000ff; stroke-width:4; stroke-opacity:1; fill:none\" points=\"\n",
       "  175.024,562.593 289.642,649.082 404.259,704.12 518.876,565.583 633.494,726.152 748.111,667.045 862.729,654.373 977.346,782.636 1091.96,443.903 1206.58,685.374 \n",
       "  1321.2,508.075 1435.82,560.516 1550.43,548.841 1665.05,456.311 1779.67,690.517 1894.29,504.391 2008.9,619.414 2123.52,325.894 2238.14,497.637 2352.76,812.971 \n",
       "  \n",
       "  \"/>\n",
       "<polyline clip-path=\"url(#clip5702)\" style=\"stroke:#0000ff; stroke-width:4; stroke-opacity:1; fill:none\" points=\"\n",
       "  175.024,600.768 289.642,662.614 404.259,670.167 518.876,645.268 633.494,708.608 748.111,712.602 862.729,540.221 977.346,928.371 1091.96,864.571 1206.58,396.484 \n",
       "  1321.2,812.591 1435.82,563.79 1550.43,662.856 1665.05,886 1779.67,521.548 1894.29,601.514 2008.9,735.343 2123.52,402.952 2238.14,833.869 2352.76,797.253 \n",
       "  \n",
       "  \"/>\n",
       "<polyline clip-path=\"url(#clip5702)\" style=\"stroke:#0000ff; stroke-width:4; stroke-opacity:1; fill:none\" points=\"\n",
       "  175.024,784.214 289.642,751.961 404.259,815.806 518.876,904.183 633.494,864.969 748.111,756.111 862.729,778.028 977.346,755.195 1091.96,545.239 1206.58,920.303 \n",
       "  1321.2,920.29 1435.82,876.813 1550.43,815.789 1665.05,729.924 1779.67,868.134 1894.29,976.442 2008.9,454.911 2123.52,617.582 2238.14,825.068 2352.76,794.547 \n",
       "  \n",
       "  \"/>\n",
       "<polyline clip-path=\"url(#clip5702)\" style=\"stroke:#0000ff; stroke-width:4; stroke-opacity:1; fill:none\" points=\"\n",
       "  175.024,637.798 289.642,724.782 404.259,586.862 518.876,680.603 633.494,599.263 748.111,703.06 862.729,683.304 977.346,778.203 1091.96,770.676 1206.58,703.224 \n",
       "  1321.2,668.271 1435.82,685.261 1550.43,658.587 1665.05,850.05 1779.67,531.113 1894.29,666.55 2008.9,696.798 2123.52,394.797 2238.14,836.13 2352.76,658.37 \n",
       "  \n",
       "  \"/>\n",
       "<polyline clip-path=\"url(#clip5702)\" style=\"stroke:#0000ff; stroke-width:4; stroke-opacity:1; fill:none\" points=\"\n",
       "  175.024,781.828 289.642,763.026 404.259,882.244 518.876,658.444 633.494,835.684 748.111,584.739 862.729,760.218 977.346,897.864 1091.96,591.741 1206.58,727.403 \n",
       "  1321.2,901.676 1435.82,686.988 1550.43,838.46 1665.05,760.963 1779.67,753.394 1894.29,794.89 2008.9,574.377 2123.52,377.357 2238.14,556.85 2352.76,762.428 \n",
       "  \n",
       "  \"/>\n",
       "<polyline clip-path=\"url(#clip5702)\" style=\"stroke:#0000ff; stroke-width:4; stroke-opacity:1; fill:none\" points=\"\n",
       "  175.024,801.961 289.642,834.649 404.259,678.808 518.876,644.577 633.494,639.948 748.111,748.912 862.729,782.483 977.346,675.148 1091.96,541.253 1206.58,701.911 \n",
       "  1321.2,671.157 1435.82,690.824 1550.43,577.401 1665.05,613.224 1779.67,616.84 1894.29,535.189 2008.9,753.646 2123.52,484.635 2238.14,657.312 2352.76,859.096 \n",
       "  \n",
       "  \"/>\n",
       "<polyline clip-path=\"url(#clip5702)\" style=\"stroke:#0000ff; stroke-width:4; stroke-opacity:1; fill:none\" points=\"\n",
       "  175.024,840.077 289.642,789.469 404.259,806.751 518.876,698.098 633.494,702.422 748.111,668.672 862.729,700.25 977.346,960.168 1091.96,567.239 1206.58,689.892 \n",
       "  1321.2,726.692 1435.82,670.983 1550.43,684.01 1665.05,816.453 1779.67,664.3 1894.29,628.334 2008.9,647.629 2123.52,369.671 2238.14,659.444 2352.76,791.187 \n",
       "  \n",
       "  \"/>\n",
       "<polyline clip-path=\"url(#clip5702)\" style=\"stroke:#0000ff; stroke-width:4; stroke-opacity:1; fill:none\" points=\"\n",
       "  175.024,635.018 289.642,741.099 404.259,723.042 518.876,589.071 633.494,577.031 748.111,684.568 862.729,651.531 977.346,794.723 1091.96,522.179 1206.58,735.674 \n",
       "  1321.2,658.571 1435.82,519.087 1550.43,603.573 1665.05,690.227 1779.67,629.961 1894.29,641.842 2008.9,685.868 2123.52,362.367 2238.14,670.888 2352.76,762.83 \n",
       "  \n",
       "  \"/>\n",
       "<polyline clip-path=\"url(#clip5702)\" style=\"stroke:#0000ff; stroke-width:4; stroke-opacity:1; fill:none\" points=\"\n",
       "  175.024,723.171 289.642,632.602 404.259,670.458 518.876,579.483 633.494,624.265 748.111,742.64 862.729,750.524 977.346,806.619 1091.96,656.858 1206.58,701.631 \n",
       "  1321.2,766.837 1435.82,656.205 1550.43,559.845 1665.05,682.577 1779.67,591.305 1894.29,594.994 2008.9,757.154 2123.52,331.099 2238.14,645.735 2352.76,785.343 \n",
       "  \n",
       "  \"/>\n",
       "<polyline clip-path=\"url(#clip5702)\" style=\"stroke:#0000ff; stroke-width:4; stroke-opacity:1; fill:none\" points=\"\n",
       "  175.024,461.042 289.642,757.222 404.259,576.749 518.876,607.542 633.494,621.446 748.111,667.719 862.729,626.538 977.346,837.804 1091.96,742.77 1206.58,691.006 \n",
       "  1321.2,781.555 1435.82,527.576 1550.43,511.903 1665.05,749.02 1779.67,585.189 1894.29,628.269 2008.9,821.641 2123.52,538.93 2238.14,741.738 2352.76,844.92 \n",
       "  \n",
       "  \"/>\n",
       "<polyline clip-path=\"url(#clip5702)\" style=\"stroke:#0000ff; stroke-width:4; stroke-opacity:1; fill:none\" points=\"\n",
       "  175.024,500.91 289.642,733.319 404.259,954.545 518.876,632.173 633.494,718.376 748.111,678.484 862.729,729.914 977.346,753.259 1091.96,648.202 1206.58,961.079 \n",
       "  1321.2,843.591 1435.82,664.258 1550.43,622.831 1665.05,681.764 1779.67,692.846 1894.29,885.934 2008.9,717.492 2123.52,728.974 2238.14,701.664 2352.76,701.117 \n",
       "  \n",
       "  \"/>\n",
       "<polyline clip-path=\"url(#clip5702)\" style=\"stroke:#0000ff; stroke-width:4; stroke-opacity:1; fill:none\" points=\"\n",
       "  175.024,761.615 289.642,894.729 404.259,705.833 518.876,615.82 633.494,662.731 748.111,659.457 862.729,723.242 977.346,830.616 1091.96,663.921 1206.58,813.041 \n",
       "  1321.2,803.566 1435.82,817.544 1550.43,789.201 1665.05,791.514 1779.67,679.005 1894.29,678.05 2008.9,699.582 2123.52,424.806 2238.14,665.441 2352.76,713.782 \n",
       "  \n",
       "  \"/>\n",
       "<polyline clip-path=\"url(#clip5702)\" style=\"stroke:#0000ff; stroke-width:4; stroke-opacity:1; fill:none\" points=\"\n",
       "  175.024,786.825 289.642,800.621 404.259,746.107 518.876,771.429 633.494,807.979 748.111,784.209 862.729,937.738 977.346,707.318 1091.96,765.509 1206.58,956.805 \n",
       "  1321.2,832.446 1435.82,900.197 1550.43,742.574 1665.05,822.54 1779.67,800.509 1894.29,746.468 2008.9,542.271 2123.52,637.014 2238.14,898.101 2352.76,765.914 \n",
       "  \n",
       "  \"/>\n",
       "<polyline clip-path=\"url(#clip5702)\" style=\"stroke:#0000ff; stroke-width:4; stroke-opacity:1; fill:none\" points=\"\n",
       "  175.024,477.04 289.642,610.189 404.259,395.832 518.876,473.027 633.494,413.429 748.111,597.089 862.729,603.829 977.346,762.31 1091.96,707.907 1206.58,520.563 \n",
       "  1321.2,558.148 1435.82,597.867 1550.43,524.901 1665.05,675.266 1779.67,420.927 1894.29,525.128 2008.9,654.19 2123.52,349.378 2238.14,695.542 2352.76,616.136 \n",
       "  \n",
       "  \"/>\n",
       "<polyline clip-path=\"url(#clip5702)\" style=\"stroke:#0000ff; stroke-width:4; stroke-opacity:1; fill:none\" points=\"\n",
       "  175.024,512.525 289.642,714.533 404.259,471.495 518.876,491.55 633.494,678.374 748.111,577.978 862.729,627.47 977.346,875.527 1091.96,617.733 1206.58,391.461 \n",
       "  1321.2,758.106 1435.82,521.337 1550.43,628.963 1665.05,605.558 1779.67,428.619 1894.29,612.272 2008.9,714.025 2123.52,376.035 2238.14,624.311 2352.76,782.875 \n",
       "  \n",
       "  \"/>\n",
       "<polyline clip-path=\"url(#clip5702)\" style=\"stroke:#0000ff; stroke-width:4; stroke-opacity:1; fill:none\" points=\"\n",
       "  175.024,640.703 289.642,701.948 404.259,566.623 518.876,665.425 633.494,565.492 748.111,668.67 862.729,716.353 977.346,794.306 1091.96,787.774 1206.58,709.349 \n",
       "  1321.2,647.973 1435.82,692.778 1550.43,687.931 1665.05,835.764 1779.67,522.642 1894.29,640.146 2008.9,718.44 2123.52,401.537 2238.14,819.034 2352.76,624.097 \n",
       "  \n",
       "  \"/>\n",
       "<polyline clip-path=\"url(#clip5702)\" style=\"stroke:#0000ff; stroke-width:4; stroke-opacity:1; fill:none\" points=\"\n",
       "  175.024,831.337 289.642,738.659 404.259,663.595 518.876,585.211 633.494,623.933 748.111,523.254 862.729,662.918 977.346,678.33 1091.96,386.742 1206.58,854.933 \n",
       "  1321.2,749.725 1435.82,582.569 1550.43,682.85 1665.05,687.259 1779.67,682.37 1894.29,759.724 2008.9,413.18 2123.52,532.828 2238.14,613.376 2352.76,648.733 \n",
       "  \n",
       "  \"/>\n",
       "<polyline clip-path=\"url(#clip5702)\" style=\"stroke:#0000ff; stroke-width:4; stroke-opacity:1; fill:none\" points=\"\n",
       "  175.024,754.417 289.642,739.248 404.259,726.531 518.876,635.024 633.494,605.74 748.111,718.641 862.729,951.14 977.346,724.646 1091.96,592.46 1206.58,1077.78 \n",
       "  1321.2,892.907 1435.82,737.042 1550.43,705.905 1665.05,767.033 1779.67,650.447 1894.29,867.418 2008.9,502.025 2123.52,723.956 2238.14,712.381 2352.76,801.669 \n",
       "  \n",
       "  \"/>\n",
       "<polyline clip-path=\"url(#clip5702)\" style=\"stroke:#0000ff; stroke-width:4; stroke-opacity:1; fill:none\" points=\"\n",
       "  175.024,797.65 289.642,796.914 404.259,724.539 518.876,626.746 633.494,597.199 748.111,693.31 862.729,675.032 977.346,843.628 1091.96,736.771 1206.58,402.733 \n",
       "  1321.2,792.547 1435.82,630.67 1550.43,733.082 1665.05,775.015 1779.67,500.113 1894.29,680.6 2008.9,979.072 2123.52,394.647 2238.14,862.022 2352.76,896.386 \n",
       "  \n",
       "  \"/>\n",
       "<polyline clip-path=\"url(#clip5702)\" style=\"stroke:#0000ff; stroke-width:4; stroke-opacity:1; fill:none\" points=\"\n",
       "  175.024,659.062 289.642,922.744 404.259,661.998 518.876,454.502 633.494,556.737 748.111,680.007 862.729,610.083 977.346,842.143 1091.96,625.924 1206.58,578.067 \n",
       "  1321.2,644.999 1435.82,603.632 1550.43,782.289 1665.05,624.664 1779.67,416.528 1894.29,619.163 2008.9,712.877 2123.52,424.437 2238.14,551.035 2352.76,788.915 \n",
       "  \n",
       "  \"/>\n",
       "<polyline clip-path=\"url(#clip5702)\" style=\"stroke:#0000ff; stroke-width:4; stroke-opacity:1; fill:none\" points=\"\n",
       "  175.024,732.903 289.642,641.133 404.259,758.077 518.876,524.174 633.494,658.856 748.111,667.512 862.729,644.699 977.346,706.122 1091.96,433.598 1206.58,732.45 \n",
       "  1321.2,616.568 1435.82,561.748 1550.43,680.813 1665.05,442.933 1779.67,565.392 1894.29,570.29 2008.9,685.231 2123.52,419.265 2238.14,617.082 2352.76,770.763 \n",
       "  \n",
       "  \"/>\n",
       "<polyline clip-path=\"url(#clip5702)\" style=\"stroke:#0000ff; stroke-width:4; stroke-opacity:1; fill:none\" points=\"\n",
       "  175.024,726.044 289.642,526.08 404.259,780.62 518.876,632.027 633.494,800.486 748.111,715.315 862.729,868.939 977.346,635.746 1091.96,517.966 1206.58,770.591 \n",
       "  1321.2,725.899 1435.82,696.5 1550.43,741.946 1665.05,547.41 1779.67,629.017 1894.29,815.435 2008.9,659.463 2123.52,557.426 2238.14,591.422 2352.76,816.802 \n",
       "  \n",
       "  \"/>\n",
       "<polyline clip-path=\"url(#clip5702)\" style=\"stroke:#0000ff; stroke-width:4; stroke-opacity:1; fill:none\" points=\"\n",
       "  175.024,555.371 289.642,636.735 404.259,588.734 518.876,471.58 633.494,527.491 748.111,561.956 862.729,454.689 977.346,379.252 1091.96,526.534 1206.58,775.441 \n",
       "  1321.2,503.335 1435.82,543.951 1550.43,415.448 1665.05,420.256 1779.67,457.085 1894.29,544.811 2008.9,615.461 2123.52,617.955 2238.14,385.275 2352.76,631.285 \n",
       "  \n",
       "  \"/>\n",
       "<polyline clip-path=\"url(#clip5702)\" style=\"stroke:#0000ff; stroke-width:4; stroke-opacity:1; fill:none\" points=\"\n",
       "  175.024,450.766 289.642,718.465 404.259,622.105 518.876,491.655 633.494,634.778 748.111,618.893 862.729,645.008 977.346,851.229 1091.96,736.627 1206.58,709.803 \n",
       "  1321.2,887.113 1435.82,596.47 1550.43,596.456 1665.05,828.17 1779.67,654.758 1894.29,732.972 2008.9,761.178 2123.52,577.661 2238.14,667.014 2352.76,665.365 \n",
       "  \n",
       "  \"/>\n",
       "<polyline clip-path=\"url(#clip5702)\" style=\"stroke:#0000ff; stroke-width:4; stroke-opacity:1; fill:none\" points=\"\n",
       "  175.024,448.352 289.642,498.701 404.259,598.506 518.876,473.344 633.494,441.495 748.111,504.6 862.729,520.506 977.346,561.035 1091.96,399.051 1206.58,658.204 \n",
       "  1321.2,446.145 1435.82,347.79 1550.43,382.908 1665.05,447.81 1779.67,438.215 1894.29,446.121 2008.9,487.081 2123.52,378.877 2238.14,500.98 2352.76,641.352 \n",
       "  \n",
       "  \"/>\n",
       "<polyline clip-path=\"url(#clip5702)\" style=\"stroke:#0000ff; stroke-width:4; stroke-opacity:1; fill:none\" points=\"\n",
       "  175.024,436.646 289.642,480.474 404.259,540.395 518.876,395.355 633.494,403.401 748.111,402.57 862.729,477.617 977.346,493 1091.96,456.1 1206.58,651.981 \n",
       "  1321.2,391.73 1435.82,402.072 1550.43,394.582 1665.05,335.303 1779.67,305.156 1894.29,376.538 2008.9,530.542 2123.52,450.062 2238.14,397.636 2352.76,567.594 \n",
       "  \n",
       "  \"/>\n",
       "<polyline clip-path=\"url(#clip5702)\" style=\"stroke:#0000ff; stroke-width:4; stroke-opacity:1; fill:none\" points=\"\n",
       "  175.024,638.567 289.642,887.705 404.259,713.584 518.876,465.931 633.494,738.44 748.111,686.946 862.729,694.455 977.346,849.458 1091.96,540.58 1206.58,843.866 \n",
       "  1321.2,591.923 1435.82,705.475 1550.43,723.163 1665.05,692.08 1779.67,557.75 1894.29,645.381 2008.9,669.836 2123.52,431.74 2238.14,446.002 2352.76,741.82 \n",
       "  \n",
       "  \"/>\n",
       "<polyline clip-path=\"url(#clip5702)\" style=\"stroke:#0000ff; stroke-width:4; stroke-opacity:1; fill:none\" points=\"\n",
       "  175.024,626.739 289.642,759.605 404.259,691.142 518.876,579.152 633.494,906.766 748.111,692.859 862.729,779.663 977.346,807.173 1091.96,526.79 1206.58,723.941 \n",
       "  1321.2,805.167 1435.82,703.906 1550.43,828.254 1665.05,717.968 1779.67,618.563 1894.29,635.691 2008.9,640.859 2123.52,451.084 2238.14,357.153 2352.76,693.277 \n",
       "  \n",
       "  \"/>\n",
       "<polyline clip-path=\"url(#clip5702)\" style=\"stroke:#0000ff; stroke-width:4; stroke-opacity:1; fill:none\" points=\"\n",
       "  175.024,646.854 289.642,701.09 404.259,551.752 518.876,414.536 633.494,458.611 748.111,574.693 862.729,524.489 977.346,825.324 1091.96,642.233 1206.58,482.336 \n",
       "  1321.2,592.975 1435.82,539.022 1550.43,494.549 1665.05,727.646 1779.67,434.534 1894.29,644.837 2008.9,711.821 2123.52,292.745 2238.14,681.842 2352.76,740.185 \n",
       "  \n",
       "  \"/>\n",
       "<polyline clip-path=\"url(#clip5702)\" style=\"stroke:#0000ff; stroke-width:4; stroke-opacity:1; fill:none\" points=\"\n",
       "  175.024,846.647 289.642,655.472 404.259,721.567 518.876,660.112 633.494,723.367 748.111,701.747 862.729,706.634 977.346,884.414 1091.96,600.252 1206.58,638.858 \n",
       "  1321.2,874.521 1435.82,658.837 1550.43,748.142 1665.05,946.594 1779.67,671.949 1894.29,747.935 2008.9,589.235 2123.52,257.165 2238.14,510.093 2352.76,725.593 \n",
       "  \n",
       "  \"/>\n",
       "<polyline clip-path=\"url(#clip5702)\" style=\"stroke:#0000ff; stroke-width:4; stroke-opacity:1; fill:none\" points=\"\n",
       "  175.024,546.445 289.642,649.625 404.259,771.087 518.876,588.493 633.494,646.758 748.111,497.987 862.729,622.97 977.346,775.802 1091.96,612.827 1206.58,770.669 \n",
       "  1321.2,523.646 1435.82,634.794 1550.43,602.585 1665.05,548.975 1779.67,584.65 1894.29,502.19 2008.9,596.808 2123.52,326.111 2238.14,524.797 2352.76,686.206 \n",
       "  \n",
       "  \"/>\n",
       "<polyline clip-path=\"url(#clip5702)\" style=\"stroke:#0000ff; stroke-width:4; stroke-opacity:1; fill:none\" points=\"\n",
       "  175.024,656.314 289.642,848.368 404.259,758.796 518.876,619.192 633.494,705.639 748.111,595.457 862.729,642.255 977.346,708.324 1091.96,634.79 1206.58,786.48 \n",
       "  1321.2,679.463 1435.82,757.403 1550.43,765.426 1665.05,716.213 1779.67,606.29 1894.29,665.907 2008.9,761.131 2123.52,460.476 2238.14,472.085 2352.76,608.687 \n",
       "  \n",
       "  \"/>\n",
       "<polyline clip-path=\"url(#clip5702)\" style=\"stroke:#0000ff; stroke-width:4; stroke-opacity:1; fill:none\" points=\"\n",
       "  175.024,634.072 289.642,674.69 404.259,709.399 518.876,641.701 633.494,721.867 748.111,627.285 862.729,587.25 977.346,939.682 1091.96,769.055 1206.58,413.369 \n",
       "  1321.2,783.093 1435.82,588.259 1550.43,610.755 1665.05,756.471 1779.67,595.463 1894.29,586.429 2008.9,704.951 2123.52,308.602 2238.14,793.09 2352.76,721.917 \n",
       "  \n",
       "  \"/>\n",
       "<polyline clip-path=\"url(#clip5702)\" style=\"stroke:#0000ff; stroke-width:4; stroke-opacity:1; fill:none\" points=\"\n",
       "  175.024,511.734 289.642,583.501 404.259,463.204 518.876,524.681 633.494,517.491 748.111,587.78 862.729,515.325 977.346,849.192 1091.96,666.22 1206.58,573.567 \n",
       "  1321.2,660.063 1435.82,607.05 1550.43,493.822 1665.05,635.85 1779.67,471.825 1894.29,583.598 2008.9,833.459 2123.52,522.311 2238.14,840.872 2352.76,756.197 \n",
       "  \n",
       "  \"/>\n",
       "<polyline clip-path=\"url(#clip5702)\" style=\"stroke:#0000ff; stroke-width:4; stroke-opacity:1; fill:none\" points=\"\n",
       "  175.024,782.577 289.642,901.961 404.259,738.185 518.876,823.639 633.494,863.292 748.111,822.656 862.729,798.413 977.346,1046.64 1091.96,865.335 1206.58,532.344 \n",
       "  1321.2,857.33 1435.82,769.875 1550.43,778.708 1665.05,814.87 1779.67,752.523 1894.29,807.571 2008.9,1046.01 2123.52,713.723 2238.14,963.53 2352.76,1045.56 \n",
       "  \n",
       "  \"/>\n",
       "<polyline clip-path=\"url(#clip5702)\" style=\"stroke:#0000ff; stroke-width:4; stroke-opacity:1; fill:none\" points=\"\n",
       "  175.024,558.011 289.642,671.188 404.259,582.959 518.876,804.843 633.494,763.09 748.111,707.151 862.729,737.55 977.346,775.51 1091.96,634.732 1206.58,860.809 \n",
       "  1321.2,831.944 1435.82,769.312 1550.43,556.66 1665.05,690.387 1779.67,783.051 1894.29,860.108 2008.9,564.198 2123.52,680.81 2238.14,749.28 2352.76,654.801 \n",
       "  \n",
       "  \"/>\n",
       "<polyline clip-path=\"url(#clip5702)\" style=\"stroke:#0000ff; stroke-width:4; stroke-opacity:1; fill:none\" points=\"\n",
       "  175.024,655.173 289.642,618.569 404.259,573.584 518.876,633.547 633.494,754 748.111,575.368 862.729,674.899 977.346,1003.86 1091.96,551.703 1206.58,469.348 \n",
       "  1321.2,779.293 1435.82,657.196 1550.43,786.819 1665.05,591.222 1779.67,573.578 1894.29,670.746 2008.9,691.404 2123.52,303.986 2238.14,686.057 2352.76,815.81 \n",
       "  \n",
       "  \"/>\n",
       "<polyline clip-path=\"url(#clip5702)\" style=\"stroke:#0000ff; stroke-width:4; stroke-opacity:1; fill:none\" points=\"\n",
       "  175.024,1079.72 289.642,970.838 404.259,914.381 518.876,961.199 633.494,959.223 748.111,907.977 862.729,915.122 977.346,1079 1091.96,919.704 1206.58,716.001 \n",
       "  1321.2,1078.1 1435.82,1005.43 1550.43,902.874 1665.05,1036.07 1779.67,1029.06 1894.29,972.364 2008.9,911.138 2123.52,774.557 2238.14,1087.56 2352.76,1178.03 \n",
       "  \n",
       "  \"/>\n",
       "<polyline clip-path=\"url(#clip5702)\" style=\"stroke:#0000ff; stroke-width:4; stroke-opacity:1; fill:none\" points=\"\n",
       "  175.024,933.728 289.642,985.128 404.259,733.62 518.876,742.347 633.494,628.138 748.111,806.994 862.729,739.836 977.346,1086.01 1091.96,879.204 1206.58,670.96 \n",
       "  1321.2,747.887 1435.82,793.364 1550.43,746.337 1665.05,784.089 1779.67,713.668 1894.29,797.192 2008.9,1044.51 2123.52,489.471 2238.14,921.725 2352.76,1022.72 \n",
       "  \n",
       "  \"/>\n",
       "<polyline clip-path=\"url(#clip5702)\" style=\"stroke:#0000ff; stroke-width:4; stroke-opacity:1; fill:none\" points=\"\n",
       "  175.024,528.532 289.642,540.158 404.259,678.451 518.876,449.266 633.494,558.795 748.111,527.075 862.729,596.4 977.346,673.02 1091.96,475.15 1206.58,819.547 \n",
       "  1321.2,565.827 1435.82,532.794 1550.43,482.38 1665.05,593.309 1779.67,591.378 1894.29,632.348 2008.9,484.888 2123.52,462.371 2238.14,408.092 2352.76,567.205 \n",
       "  \n",
       "  \"/>\n",
       "<polyline clip-path=\"url(#clip5702)\" style=\"stroke:#0000ff; stroke-width:4; stroke-opacity:1; fill:none\" points=\"\n",
       "  175.024,609.532 289.642,916.962 404.259,567.992 518.876,521.807 633.494,617.992 748.111,656.809 862.729,698.747 977.346,998.719 1091.96,826.121 1206.58,584.371 \n",
       "  1321.2,700.012 1435.82,651.442 1550.43,655.998 1665.05,763.618 1779.67,532.522 1894.29,657.958 2008.9,848.167 2123.52,446.982 2238.14,681.035 2352.76,897.693 \n",
       "  \n",
       "  \"/>\n",
       "<polyline clip-path=\"url(#clip5702)\" style=\"stroke:#0000ff; stroke-width:4; stroke-opacity:1; fill:none\" points=\"\n",
       "  175.024,757.207 289.642,651.167 404.259,699.725 518.876,746.148 633.494,694.63 748.111,728.018 862.729,753.918 977.346,817.351 1091.96,776.231 1206.58,480.82 \n",
       "  1321.2,826.444 1435.82,737.441 1550.43,706.658 1665.05,841.885 1779.67,638.537 1894.29,678.243 2008.9,547.372 2123.52,483.917 2238.14,756.946 2352.76,751.158 \n",
       "  \n",
       "  \"/>\n",
       "<polyline clip-path=\"url(#clip5702)\" style=\"stroke:#0000ff; stroke-width:4; stroke-opacity:1; fill:none\" points=\"\n",
       "  175.024,694.545 289.642,808.126 404.259,671.401 518.876,688.917 633.494,662.23 748.111,666.253 862.729,690.601 977.346,1040.71 1091.96,834.39 1206.58,507.704 \n",
       "  1321.2,765.465 1435.82,687.384 1550.43,595.498 1665.05,870.285 1779.67,633.496 1894.29,787.785 2008.9,782.826 2123.52,547.499 2238.14,794.358 2352.76,849.398 \n",
       "  \n",
       "  \"/>\n",
       "<polyline clip-path=\"url(#clip5702)\" style=\"stroke:#0000ff; stroke-width:4; stroke-opacity:1; fill:none\" points=\"\n",
       "  175.024,729.204 289.642,727.342 404.259,643.06 518.876,540.806 633.494,587.188 748.111,726.984 862.729,661.54 977.346,595.115 1091.96,561.135 1206.58,782.99 \n",
       "  1321.2,656.189 1435.82,626.256 1550.43,459.812 1665.05,554.734 1779.67,523.592 1894.29,577.065 2008.9,837.765 2123.52,557.535 2238.14,548.263 2352.76,832.003 \n",
       "  \n",
       "  \"/>\n",
       "<polyline clip-path=\"url(#clip5702)\" style=\"stroke:#0000ff; stroke-width:4; stroke-opacity:1; fill:none\" points=\"\n",
       "  175.024,546.119 289.642,607.56 404.259,751.602 518.876,714.408 633.494,802.356 748.111,636.653 862.729,654.474 977.346,559.57 1091.96,477.168 1206.58,842.854 \n",
       "  1321.2,714.897 1435.82,642.451 1550.43,706.757 1665.05,508.229 1779.67,627.301 1894.29,691.235 2008.9,275.14 2123.52,442.443 2238.14,589.546 2352.76,719.09 \n",
       "  \n",
       "  \"/>\n",
       "<polyline clip-path=\"url(#clip5702)\" style=\"stroke:#0000ff; stroke-width:4; stroke-opacity:1; fill:none\" points=\"\n",
       "  175.024,738.608 289.642,568.902 404.259,560.59 518.876,548.352 633.494,467.169 748.111,515.831 862.729,648.785 977.346,499.123 1091.96,366.687 1206.58,870.92 \n",
       "  1321.2,664.219 1435.82,576.734 1550.43,497.006 1665.05,457.867 1779.67,600.26 1894.29,670.196 2008.9,385.571 2123.52,622.542 2238.14,638.268 2352.76,558.779 \n",
       "  \n",
       "  \"/>\n",
       "<polyline clip-path=\"url(#clip5702)\" style=\"stroke:#0000ff; stroke-width:4; stroke-opacity:1; fill:none\" points=\"\n",
       "  175.024,728.957 289.642,670.85 404.259,636.422 518.876,793.943 633.494,791.812 748.111,612.755 862.729,576.623 977.346,753.577 1091.96,576.317 1206.58,794.59 \n",
       "  1321.2,783.725 1435.82,795.608 1550.43,671.966 1665.05,686.231 1779.67,784.913 1894.29,759.06 2008.9,354.85 2123.52,531.235 2238.14,704.625 2352.76,603.131 \n",
       "  \n",
       "  \"/>\n",
       "<polyline clip-path=\"url(#clip5702)\" style=\"stroke:#ffa500; stroke-width:4; stroke-opacity:1; fill:none\" points=\"\n",
       "  175.024,602.277 289.642,828.081 404.259,641.809 518.876,420.564 633.494,666.085 748.111,621.567 862.729,595.831 977.346,799.067 1091.96,436.491 1206.58,741.489 \n",
       "  1321.2,531.015 1435.82,613.849 1550.43,677.172 1665.05,613.262 1779.67,501.804 1894.29,564.54 2008.9,624.025 2123.52,414.28 2238.14,386.575 2352.76,684.25 \n",
       "  \n",
       "  \"/>\n",
       "<polyline clip-path=\"url(#clip5702)\" style=\"stroke:#ffa500; stroke-width:4; stroke-opacity:1; fill:none\" points=\"\n",
       "  175.024,793.118 289.642,712.612 404.259,694.048 518.876,696.577 633.494,586.561 748.111,618.265 862.729,835.914 977.346,663.173 1091.96,543.768 1206.58,1013.01 \n",
       "  1321.2,829.619 1435.82,732.079 1550.43,714.301 1665.05,681.241 1779.67,695.152 1894.29,746.032 2008.9,300.147 2123.52,547.176 2238.14,731.887 2352.76,675.809 \n",
       "  \n",
       "  \"/>\n",
       "<polyline clip-path=\"url(#clip5702)\" style=\"stroke:#ffa500; stroke-width:4; stroke-opacity:1; fill:none\" points=\"\n",
       "  175.024,649.899 289.642,777.22 404.259,729.244 518.876,625.446 633.494,898.232 748.111,649.702 862.729,787.292 977.346,897.835 1091.96,505.364 1206.58,678.382 \n",
       "  1321.2,822.012 1435.82,707.875 1550.43,859.183 1665.05,748.155 1779.67,725.224 1894.29,659.975 2008.9,606.993 2123.52,347.027 2238.14,369.611 2352.76,667.728 \n",
       "  \n",
       "  \"/>\n",
       "<polyline clip-path=\"url(#clip5702)\" style=\"stroke:#ffa500; stroke-width:4; stroke-opacity:1; fill:none\" points=\"\n",
       "  175.024,879.951 289.642,667.547 404.259,760.799 518.876,656.545 633.494,736.627 748.111,616.43 862.729,753.663 977.346,895.725 1091.96,504.737 1206.58,655.743 \n",
       "  1321.2,845.023 1435.82,683.307 1550.43,696.041 1665.05,817.065 1779.67,745.864 1894.29,732.851 2008.9,558.842 2123.52,162.815 2238.14,469.314 2352.76,650.257 \n",
       "  \n",
       "  \"/>\n",
       "<polyline clip-path=\"url(#clip5702)\" style=\"stroke:#ffa500; stroke-width:4; stroke-opacity:1; fill:none\" points=\"\n",
       "  175.024,872.785 289.642,661.514 404.259,718.781 518.876,565.631 633.494,633.549 748.111,581.407 862.729,629.98 977.346,820.373 1091.96,512.667 1206.58,621.643 \n",
       "  1321.2,722.753 1435.82,686.011 1550.43,599.251 1665.05,851.842 1779.67,703.701 1894.29,636.272 2008.9,541.992 2123.52,118.776 2238.14,496.073 2352.76,648.875 \n",
       "  \n",
       "  \"/>\n",
       "<polyline clip-path=\"url(#clip5702)\" style=\"stroke:#ffa500; stroke-width:4; stroke-opacity:1; fill:none\" points=\"\n",
       "  175.024,768.625 289.642,529.736 404.259,670.769 518.876,602.947 633.494,733.477 748.111,638.097 862.729,846.23 977.346,575.968 1091.96,503.467 1206.58,866.304 \n",
       "  1321.2,704.579 1435.82,800.849 1550.43,635.994 1665.05,636.218 1779.67,725.006 1894.29,749.274 2008.9,380.52 2123.52,507.864 2238.14,638.954 2352.76,786.184 \n",
       "  \n",
       "  \"/>\n",
       "<polyline clip-path=\"url(#clip5702)\" style=\"stroke:#ffa500; stroke-width:4; stroke-opacity:1; fill:none\" points=\"\n",
       "  175.024,499.276 289.642,494.983 404.259,536.385 518.876,379.275 633.494,480.386 748.111,470.449 862.729,494.802 977.346,579.306 1091.96,384.344 1206.58,741.687 \n",
       "  1321.2,361.045 1435.82,387.276 1550.43,423.919 1665.05,409.772 1779.67,491.086 1894.29,461.265 2008.9,412.849 2123.52,348.855 2238.14,300.405 2352.76,632.974 \n",
       "  \n",
       "  \"/>\n",
       "<polyline clip-path=\"url(#clip5702)\" style=\"stroke:#ffa500; stroke-width:4; stroke-opacity:1; fill:none\" points=\"\n",
       "  175.024,555.371 289.642,636.735 404.259,588.734 518.876,471.58 633.494,527.491 748.111,561.956 862.729,454.689 977.346,379.252 1091.96,526.534 1206.58,775.441 \n",
       "  1321.2,503.335 1435.82,543.951 1550.43,415.448 1665.05,420.256 1779.67,457.085 1894.29,544.811 2008.9,615.461 2123.52,617.955 2238.14,385.275 2352.76,631.285 \n",
       "  \n",
       "  \"/>\n",
       "<polyline clip-path=\"url(#clip5702)\" style=\"stroke:#ffa500; stroke-width:4; stroke-opacity:1; fill:none\" points=\"\n",
       "  175.024,643.239 289.642,656.691 404.259,516.147 518.876,352.427 633.494,387.799 748.111,538 862.729,379.589 977.346,661.402 1091.96,518.923 1206.58,558.918 \n",
       "  1321.2,493.751 1435.82,478.583 1550.43,428.468 1665.05,492.08 1779.67,407.788 1894.29,509.308 2008.9,607.358 2123.52,290.026 2238.14,504.433 2352.76,624.639 \n",
       "  \n",
       "  \"/>\n",
       "<polyline clip-path=\"url(#clip5702)\" style=\"stroke:#ffa500; stroke-width:4; stroke-opacity:1; fill:none\" points=\"\n",
       "  175.024,602.511 289.642,599.588 404.259,581.328 518.876,596.517 633.494,500.414 748.111,635.431 862.729,529.374 977.346,796.553 1091.96,836.675 1206.58,417.241 \n",
       "  1321.2,692.863 1435.82,572.39 1550.43,505.48 1665.05,722.486 1779.67,426.498 1894.29,594.054 2008.9,700.118 2123.52,382.143 2238.14,790.015 2352.76,616.951 \n",
       "  \n",
       "  \"/>\n",
       "<polyline clip-path=\"url(#clip5702)\" style=\"stroke:#ffa500; stroke-width:4; stroke-opacity:1; fill:none\" points=\"\n",
       "  175.024,302.378 289.642,556.042 404.259,291.374 518.876,421.813 633.494,429.381 748.111,463.515 862.729,518.789 977.346,670.108 1091.96,557.816 1206.58,304.221 \n",
       "  1321.2,570.707 1435.82,409.477 1550.43,514.398 1665.05,518.623 1779.67,365.665 1894.29,364.242 2008.9,496.273 2123.52,172.728 2238.14,546.125 2352.76,608.356 \n",
       "  \n",
       "  \"/>\n",
       "<polyline clip-path=\"url(#clip5702)\" style=\"stroke:#ffa500; stroke-width:4; stroke-opacity:1; fill:none\" points=\"\n",
       "  175.024,599.874 289.642,534.794 404.259,482.804 518.876,386.877 633.494,433.948 748.111,410.49 862.729,529.671 977.346,604.884 1091.96,414.384 1206.58,459.185 \n",
       "  1321.2,469.757 1435.82,486.749 1550.43,582.294 1665.05,500.372 1779.67,392.957 1894.29,369.911 2008.9,493.011 2123.52,47.2441 2238.14,508.326 2352.76,606.506 \n",
       "  \n",
       "  \"/>\n",
       "<polyline clip-path=\"url(#clip5702)\" style=\"stroke:#ffa500; stroke-width:4; stroke-opacity:1; fill:none\" points=\"\n",
       "  175.024,728.957 289.642,670.85 404.259,636.422 518.876,793.943 633.494,791.812 748.111,612.755 862.729,576.623 977.346,753.577 1091.96,576.317 1206.58,794.59 \n",
       "  1321.2,783.725 1435.82,795.608 1550.43,671.966 1665.05,686.231 1779.67,784.913 1894.29,759.06 2008.9,354.85 2123.52,531.235 2238.14,704.625 2352.76,603.131 \n",
       "  \n",
       "  \"/>\n",
       "<polyline clip-path=\"url(#clip5702)\" style=\"stroke:#ffa500; stroke-width:4; stroke-opacity:1; fill:none\" points=\"\n",
       "  175.024,708.942 289.642,701.418 404.259,646.052 518.876,629.56 633.494,698.861 748.111,563.039 862.729,829.709 977.346,954.192 1091.96,288.16 1206.58,637.083 \n",
       "  1321.2,792.388 1435.82,610.729 1550.43,733.684 1665.05,640.813 1779.67,713.704 1894.29,681.937 2008.9,587.122 2123.52,324.947 2238.14,488.519 2352.76,597.2 \n",
       "  \n",
       "  \"/>\n",
       "<polyline clip-path=\"url(#clip5702)\" style=\"stroke:#ffa500; stroke-width:4; stroke-opacity:1; fill:none\" points=\"\n",
       "  175.024,667.028 289.642,763.897 404.259,589.874 518.876,561.656 633.494,585.845 748.111,753.724 862.729,724.742 977.346,775.259 1091.96,552.12 1206.58,858.829 \n",
       "  1321.2,814.054 1435.82,611.363 1550.43,650.503 1665.05,631.461 1779.67,662.353 1894.29,745.97 2008.9,420.108 2123.52,526.876 2238.14,639.132 2352.76,588.348 \n",
       "  \n",
       "  \"/>\n",
       "<polyline clip-path=\"url(#clip5702)\" style=\"stroke:#ffa500; stroke-width:4; stroke-opacity:1; fill:none\" points=\"\n",
       "  175.024,537.806 289.642,493.11 404.259,516.021 518.876,315.699 633.494,277.994 748.111,432.087 862.729,394.946 977.346,514.462 1091.96,528.942 1206.58,598.532 \n",
       "  1321.2,552.865 1435.82,518.82 1550.43,362.006 1665.05,593.382 1779.67,351.479 1894.29,478.865 2008.9,575.093 2123.52,369.156 2238.14,607.225 2352.76,583.915 \n",
       "  \n",
       "  \"/>\n",
       "<polyline clip-path=\"url(#clip5702)\" style=\"stroke:#ffa500; stroke-width:4; stroke-opacity:1; fill:none\" points=\"\n",
       "  175.024,638.99 289.642,651.555 404.259,634.158 518.876,611.394 633.494,574.145 748.111,598.471 862.729,765.791 977.346,483.979 1091.96,400.081 1206.58,817.905 \n",
       "  1321.2,678.778 1435.82,599.759 1550.43,655.954 1665.05,533.828 1779.67,569.252 1894.29,660.72 2008.9,272.924 2123.52,451.405 2238.14,743.994 2352.76,578.548 \n",
       "  \n",
       "  \"/>\n",
       "<polyline clip-path=\"url(#clip5702)\" style=\"stroke:#ffa500; stroke-width:4; stroke-opacity:1; fill:none\" points=\"\n",
       "  175.024,711.143 289.642,618.493 404.259,602.098 518.876,479.647 633.494,602.613 748.111,705.022 862.729,756.63 977.346,629.351 1091.96,382.184 1206.58,883.013 \n",
       "  1321.2,708.836 1435.82,601.183 1550.43,666.919 1665.05,556.542 1779.67,648.155 1894.29,903.695 2008.9,365.772 2123.52,522.568 2238.14,531.716 2352.76,578.079 \n",
       "  \n",
       "  \"/>\n",
       "<polyline clip-path=\"url(#clip5702)\" style=\"stroke:#ffa500; stroke-width:4; stroke-opacity:1; fill:none\" points=\"\n",
       "  175.024,395.67 289.642,499.286 404.259,443.466 518.876,327.79 633.494,446.773 748.111,362.411 862.729,542.88 977.346,537.781 1091.96,518.167 1206.58,674.393 \n",
       "  1321.2,385.032 1435.82,458.184 1550.43,394.167 1665.05,333.831 1779.67,343.729 1894.29,312.638 2008.9,451.668 2123.52,436.182 2238.14,308.012 2352.76,555.081 \n",
       "  \n",
       "  \"/>\n",
       "<polyline clip-path=\"url(#clip5702)\" style=\"stroke:#ffa500; stroke-width:4; stroke-opacity:1; fill:none\" points=\"\n",
       "  175.024,451.514 289.642,394.543 404.259,548.656 518.876,390.676 633.494,451.534 748.111,333.159 862.729,491.798 977.346,623.726 1091.96,366.445 1206.58,489.7 \n",
       "  1321.2,485.227 1435.82,347.442 1550.43,457.845 1665.05,477.328 1779.67,402.785 1894.29,451.071 2008.9,507.372 2123.52,168.865 2238.14,436.121 2352.76,536.47 \n",
       "  \n",
       "  \"/>\n",
       "<polyline clip-path=\"url(#clip5702)\" style=\"stroke:#ffa500; stroke-width:4; stroke-opacity:1; fill:none\" points=\"\n",
       "  175.024,503.742 289.642,447.574 404.259,456.272 518.876,269.928 633.494,325.458 748.111,372.272 862.729,413.538 977.346,568.613 1091.96,336.229 1206.58,453.492 \n",
       "  1321.2,464.767 1435.82,369.513 1550.43,443.317 1665.05,376.817 1779.67,329.347 1894.29,374.536 2008.9,544.748 2123.52,124.406 2238.14,495.542 2352.76,531.839 \n",
       "  \n",
       "  \"/>\n",
       "<polyline clip-path=\"url(#clip5702)\" style=\"stroke:#ffa500; stroke-width:4; stroke-opacity:1; fill:none\" points=\"\n",
       "  175.024,761.301 289.642,770.379 404.259,638.853 518.876,645.204 633.494,538.467 748.111,690.385 862.729,867.672 977.346,759.969 1091.96,435.135 1206.58,951.511 \n",
       "  1321.2,811.403 1435.82,589.123 1550.43,741.766 1665.05,620.994 1779.67,597.16 1894.29,888.267 2008.9,387.315 2123.52,688.484 2238.14,750.146 2352.76,526.733 \n",
       "  \n",
       "  \"/>\n",
       "<polyline clip-path=\"url(#clip5702)\" style=\"stroke:#ffa500; stroke-width:4; stroke-opacity:1; fill:none\" points=\"\n",
       "  175.024,612.81 289.642,614.198 404.259,619.521 518.876,512.611 633.494,590.371 748.111,524.821 862.729,713.576 977.346,917.921 1091.96,210.005 1206.58,631.39 \n",
       "  1321.2,787.399 1435.82,493.492 1550.43,594.707 1665.05,517.259 1779.67,650.093 1894.29,686.561 2008.9,638.859 2123.52,402.109 2238.14,475.734 2352.76,522.534 \n",
       "  \n",
       "  \"/>\n",
       "<polyline clip-path=\"url(#clip5702)\" style=\"stroke:#ffa500; stroke-width:4; stroke-opacity:1; fill:none\" points=\"\n",
       "  175.024,482.022 289.642,392.126 404.259,549.11 518.876,412.35 633.494,419.053 748.111,345.738 862.729,486.535 977.346,645.88 1091.96,373.208 1206.58,515.376 \n",
       "  1321.2,471.4 1435.82,371.703 1550.43,510.029 1665.05,422.848 1779.67,378.873 1894.29,428.732 2008.9,473.581 2123.52,161.251 2238.14,491.784 2352.76,488.745 \n",
       "  \n",
       "  \"/>\n",
       "<polyline clip-path=\"url(#clip5702)\" style=\"stroke:#ffa500; stroke-width:4; stroke-opacity:1; fill:none\" points=\"\n",
       "  175.024,517.967 289.642,682.226 404.259,310.485 518.876,401.658 633.494,379.319 748.111,563.54 862.729,450.35 977.346,706.3 1091.96,694.563 1206.58,455.686 \n",
       "  1321.2,559.15 1435.82,570.373 1550.43,510.685 1665.05,619.147 1779.67,323.283 1894.29,501.155 2008.9,720.788 2123.52,412.702 2238.14,800.06 2352.76,678.414 \n",
       "  \n",
       "  \"/>\n",
       "<polyline clip-path=\"url(#clip5702)\" style=\"stroke:#ffa500; stroke-width:4; stroke-opacity:1; fill:none\" points=\"\n",
       "  175.024,470.563 289.642,623.87 404.259,659.127 518.876,478.504 633.494,563.518 748.111,614.922 862.729,640.805 977.346,579.212 1091.96,588.424 1206.58,698.098 \n",
       "  1321.2,739.837 1435.82,494.965 1550.43,449.566 1665.05,520.585 1779.67,473.311 1894.29,642.391 2008.9,727.447 2123.52,595.915 2238.14,642.094 2352.76,382.692 \n",
       "  \n",
       "  \"/>\n",
       "<polyline clip-path=\"url(#clip5702)\" style=\"stroke:#ffa500; stroke-width:4; stroke-opacity:1; fill:none\" points=\"\n",
       "  175.024,718.802 289.642,624.522 404.259,642.241 518.876,681.319 633.494,779.667 748.111,657.873 862.729,813.432 977.346,628.578 1091.96,601.14 1206.58,790.459 \n",
       "  1321.2,772.558 1435.82,867.288 1550.43,645.041 1665.05,643.292 1779.67,752.958 1894.29,666.792 2008.9,305.685 2123.52,549.543 2238.14,672.492 2352.76,709.737 \n",
       "  \n",
       "  \"/>\n",
       "<polyline clip-path=\"url(#clip5702)\" style=\"stroke:#ffa500; stroke-width:4; stroke-opacity:1; fill:none\" points=\"\n",
       "  175.024,469.126 289.642,668.328 404.259,455.498 518.876,345.858 633.494,420.199 748.111,480.337 862.729,518.903 977.346,613.312 1091.96,499.008 1206.58,461.207 \n",
       "  1321.2,478.013 1435.82,478.301 1550.43,420.702 1665.05,446.702 1779.67,260.86 1894.29,478.845 2008.9,796.918 2123.52,381.757 2238.14,556.038 2352.76,686.141 \n",
       "  \n",
       "  \"/>\n",
       "<polyline clip-path=\"url(#clip5702)\" style=\"stroke:#ffa500; stroke-width:4; stroke-opacity:1; fill:none\" points=\"\n",
       "  175.024,602.086 289.642,597.482 404.259,832.623 518.876,646.726 633.494,827.44 748.111,547.498 862.729,803.52 977.346,784.142 1091.96,521.115 1206.58,685.95 \n",
       "  1321.2,897.119 1435.82,659.012 1550.43,818.164 1665.05,602.739 1779.67,697.965 1894.29,767.169 2008.9,419.8 2123.52,374.501 2238.14,537.669 2352.76,690.055 \n",
       "  \n",
       "  \"/>\n",
       "<polyline clip-path=\"url(#clip5702)\" style=\"stroke:#ffa500; stroke-width:4; stroke-opacity:1; fill:none\" points=\"\n",
       "  175.024,656.996 289.642,727.509 404.259,664.423 518.876,808.536 633.494,802.705 748.111,629.03 862.729,524.723 977.346,736.325 1091.96,492.434 1206.58,793.161 \n",
       "  1321.2,587.072 1435.82,635.804 1550.43,683.174 1665.05,609.573 1779.67,705.69 1894.29,600.811 2008.9,420.757 2123.52,242.596 2238.14,547.425 2352.76,696.12 \n",
       "  \n",
       "  \"/>\n",
       "<polyline clip-path=\"url(#clip5702)\" style=\"stroke:#ffa500; stroke-width:4; stroke-opacity:1; fill:none\" points=\"\n",
       "  175.024,632.968 289.642,522.282 404.259,636.537 518.876,622.105 633.494,776.188 748.111,633.891 862.729,907.22 977.346,704.082 1091.96,327.063 1206.58,662.472 \n",
       "  1321.2,718.241 1435.82,645.954 1550.43,828.828 1665.05,575.179 1779.67,652.641 1894.29,754.101 2008.9,528.428 2123.52,429.854 2238.14,633.292 2352.76,740.175 \n",
       "  \n",
       "  \"/>\n",
       "<polyline clip-path=\"url(#clip5702)\" style=\"stroke:#ffa500; stroke-width:4; stroke-opacity:1; fill:none\" points=\"\n",
       "  175.024,735.925 289.642,702.626 404.259,513.106 518.876,568.103 633.494,389.866 748.111,697.888 862.729,601.326 977.346,481.216 1091.96,514.426 1206.58,768.551 \n",
       "  1321.2,526.723 1435.82,562.767 1550.43,335.604 1665.05,434.507 1779.67,537.567 1894.29,487.618 2008.9,730.163 2123.52,650.96 2238.14,590.54 2352.76,691.589 \n",
       "  \n",
       "  \"/>\n",
       "<polyline clip-path=\"url(#clip5702)\" style=\"stroke:#ffa500; stroke-width:4; stroke-opacity:1; fill:none\" points=\"\n",
       "  175.024,424.251 289.642,492.687 404.259,377.908 518.876,439.81 633.494,391.616 748.111,482.818 862.729,550.261 977.346,685.668 1091.96,565.191 1206.58,344.788 \n",
       "  1321.2,517.669 1435.82,490.544 1550.43,453.281 1665.05,567.408 1779.67,350.646 1894.29,433.683 2008.9,536.676 2123.52,201.341 2238.14,550.615 2352.76,557.857 \n",
       "  \n",
       "  \"/>\n",
       "<polyline clip-path=\"url(#clip5702)\" style=\"stroke:#ffa500; stroke-width:4; stroke-opacity:1; fill:none\" points=\"\n",
       "  175.024,647.661 289.642,679.771 404.259,633.578 518.876,735.947 633.494,818.475 748.111,614.782 862.729,881.412 977.346,799.947 1091.96,638.012 1206.58,686.751 \n",
       "  1321.2,829.909 1435.82,823.116 1550.43,785.23 1665.05,563.887 1779.67,655.935 1894.29,614.112 2008.9,406.044 2123.52,509.149 2238.14,625.73 2352.76,655.502 \n",
       "  \n",
       "  \"/>\n",
       "<polyline clip-path=\"url(#clip5702)\" style=\"stroke:#ffa500; stroke-width:4; stroke-opacity:1; fill:none\" points=\"\n",
       "  175.024,496.779 289.642,626.242 404.259,667.391 518.876,552.418 633.494,688.314 748.111,521.6 862.729,463.27 977.346,929.169 1091.96,787.842 1206.58,491.572 \n",
       "  1321.2,715.081 1435.82,583.882 1550.43,569.552 1665.05,721.607 1779.67,480.182 1894.29,695.641 2008.9,686.73 2123.52,511.396 2238.14,663.81 2352.76,757.889 \n",
       "  \n",
       "  \"/>\n",
       "<polyline clip-path=\"url(#clip5702)\" style=\"stroke:#ffa500; stroke-width:4; stroke-opacity:1; fill:none\" points=\"\n",
       "  175.024,796.31 289.642,700.476 404.259,704.58 518.876,649.115 633.494,602.594 748.111,589.124 862.729,828.502 977.346,650.162 1091.96,485.693 1206.58,997.462 \n",
       "  1321.2,847.345 1435.82,695.259 1550.43,705.229 1665.05,690.315 1779.67,688.288 1894.29,774.105 2008.9,326.376 2123.52,534.813 2238.14,676.827 2352.76,724.785 \n",
       "  \n",
       "  \"/>\n",
       "<polyline clip-path=\"url(#clip5702)\" style=\"stroke:#ffa500; stroke-width:4; stroke-opacity:1; fill:none\" points=\"\n",
       "  175.024,664.739 289.642,735.19 404.259,568.264 518.876,552.034 633.494,673.001 748.111,567.748 862.729,746.073 977.346,881.552 1091.96,306.103 1206.58,559.642 \n",
       "  1321.2,680.566 1435.82,612.361 1550.43,690.089 1665.05,631.73 1779.67,634.887 1894.29,572.011 2008.9,573.125 2123.52,292.411 2238.14,539.378 2352.76,625.945 \n",
       "  \n",
       "  \"/>\n",
       "<polyline clip-path=\"url(#clip5702)\" style=\"stroke:#ffa500; stroke-width:4; stroke-opacity:1; fill:none\" points=\"\n",
       "  175.024,785.458 289.642,713.923 404.259,656.691 518.876,693.386 633.494,574.386 748.111,667.896 862.729,880.981 977.346,746.007 1091.96,412.599 1206.58,889.663 \n",
       "  1321.2,811.143 1435.82,541.153 1550.43,741.513 1665.05,607.789 1779.67,605.376 1894.29,864.295 2008.9,367.325 2123.52,640.564 2238.14,725.74 2352.76,537.91 \n",
       "  \n",
       "  \"/>\n",
       "<polyline clip-path=\"url(#clip5702)\" style=\"stroke:#ffa500; stroke-width:4; stroke-opacity:1; fill:none\" points=\"\n",
       "  175.024,788.557 289.642,608.328 404.259,719.361 518.876,701.338 633.494,781.091 748.111,566.051 862.729,563.597 977.346,925.817 1091.96,648.8 1206.58,764.879 \n",
       "  1321.2,751.513 1435.82,686.757 1550.43,361.09 1665.05,744.276 1779.67,765.656 1894.29,761.371 2008.9,544.596 2123.52,559.334 2238.14,761.059 2352.76,701.846 \n",
       "  \n",
       "  \"/>\n",
       "<polyline clip-path=\"url(#clip5702)\" style=\"stroke:#ffa500; stroke-width:4; stroke-opacity:1; fill:none\" points=\"\n",
       "  175.024,823.735 289.642,593.736 404.259,640.683 518.876,612.076 633.494,677.746 748.111,598.721 862.729,821.787 977.346,631.56 1091.96,532.709 1206.58,902.821 \n",
       "  1321.2,694.547 1435.82,841.378 1550.43,684.721 1665.05,621.693 1779.67,668.455 1894.29,727.966 2008.9,359.662 2123.52,478.132 2238.14,740.801 2352.76,726.979 \n",
       "  \n",
       "  \"/>\n",
       "<polyline clip-path=\"url(#clip5702)\" style=\"stroke:#ffa500; stroke-width:4; stroke-opacity:1; fill:none\" points=\"\n",
       "  175.024,712.098 289.642,656.74 404.259,633.981 518.876,661.619 633.494,701.524 748.111,653.399 862.729,868.707 977.346,643.756 1091.96,641.608 1206.58,788.045 \n",
       "  1321.2,801.389 1435.82,845.663 1550.43,653.088 1665.05,676.493 1779.67,761.554 1894.29,629.731 2008.9,337.947 2123.52,571.8 2238.14,700.5 2352.76,679.699 \n",
       "  \n",
       "  \"/>\n",
       "<polyline clip-path=\"url(#clip5702)\" style=\"stroke:#ffa500; stroke-width:4; stroke-opacity:1; fill:none\" points=\"\n",
       "  175.024,718.961 289.642,570.128 404.259,727.896 518.876,606.084 633.494,829.33 748.111,594.684 862.729,728.447 977.346,813.766 1091.96,335.477 1206.58,732.863 \n",
       "  1321.2,689.621 1435.82,668.119 1550.43,762.881 1665.05,691.404 1779.67,769.961 1894.29,845.187 2008.9,526.216 2123.52,408.54 2238.14,502.954 2352.76,742.188 \n",
       "  \n",
       "  \"/>\n",
       "<polyline clip-path=\"url(#clip5702)\" style=\"stroke:#ffa500; stroke-width:4; stroke-opacity:1; fill:none\" points=\"\n",
       "  175.024,551.428 289.642,509.158 404.259,527.053 518.876,283.72 633.494,317.189 748.111,442.566 862.729,385.249 977.346,446.667 1091.96,570.774 1206.58,624.065 \n",
       "  1321.2,495.093 1435.82,550.889 1550.43,402.8 1665.05,547.287 1779.67,302.93 1894.29,432.732 2008.9,595.459 2123.52,364.748 2238.14,597.475 2352.76,620.818 \n",
       "  \n",
       "  \"/>\n",
       "<polyline clip-path=\"url(#clip5702)\" style=\"stroke:#ffa500; stroke-width:4; stroke-opacity:1; fill:none\" points=\"\n",
       "  175.024,376.125 289.642,754.004 404.259,672.088 518.876,521.969 633.494,709.209 748.111,723.481 862.729,623.685 977.346,822.592 1091.96,648.343 1206.58,800.52 \n",
       "  1321.2,692.472 1435.82,579.134 1550.43,562.669 1665.05,713.649 1779.67,696.06 1894.29,683.584 2008.9,634.141 2123.52,333.949 2238.14,411.786 2352.76,674.775 \n",
       "  \n",
       "  \"/>\n",
       "<polyline clip-path=\"url(#clip5702)\" style=\"stroke:#ffa500; stroke-width:4; stroke-opacity:1; fill:none\" points=\"\n",
       "  175.024,762.138 289.642,470.216 404.259,680.647 518.876,581.241 633.494,731.398 748.111,645.85 862.729,831.163 977.346,522.512 1091.96,400.029 1206.58,898.689 \n",
       "  1321.2,687.751 1435.82,734.575 1550.43,697.917 1665.05,600.407 1779.67,670.318 1894.29,798.043 2008.9,290.569 2123.52,403.678 2238.14,593.325 2352.76,700.687 \n",
       "  \n",
       "  \"/>\n",
       "<polyline clip-path=\"url(#clip5702)\" style=\"stroke:#ffa500; stroke-width:4; stroke-opacity:1; fill:none\" points=\"\n",
       "  175.024,697.279 289.642,644.372 404.259,671.555 518.876,464.67 633.494,555.009 748.111,535.357 862.729,608.657 977.346,828.887 1091.96,318.674 1206.58,662.975 \n",
       "  1321.2,510.561 1435.82,482.783 1550.43,537.265 1665.05,498.947 1779.67,579.432 1894.29,531.789 2008.9,610.722 2123.52,304.953 2238.14,448.617 2352.76,649.727 \n",
       "  \n",
       "  \"/>\n",
       "<polyline clip-path=\"url(#clip5702)\" style=\"stroke:#ffa500; stroke-width:4; stroke-opacity:1; fill:none\" points=\"\n",
       "  175.024,568.083 289.642,669.479 404.259,521.856 518.876,455.382 633.494,590.325 748.111,553.232 862.729,726.364 977.346,816.352 1091.96,321.145 1206.58,680.626 \n",
       "  1321.2,682.901 1435.82,512.576 1550.43,590.613 1665.05,464.148 1779.67,496.046 1894.29,640.588 2008.9,640.974 2123.52,447.306 2238.14,401.987 2352.76,514.595 \n",
       "  \n",
       "  \"/>\n",
       "<polyline clip-path=\"url(#clip5702)\" style=\"stroke:#ffa500; stroke-width:4; stroke-opacity:1; fill:none\" points=\"\n",
       "  175.024,722.816 289.642,567.73 404.259,825.621 518.876,528.469 633.494,605.129 748.111,471.934 862.729,464.231 977.346,566.78 1091.96,523.388 1206.58,584.365 \n",
       "  1321.2,596.976 1435.82,535.441 1550.43,488.407 1665.05,604.088 1779.67,501.3 1894.29,617.12 2008.9,558.042 2123.52,217.242 2238.14,440.714 2352.76,515.271 \n",
       "  \n",
       "  \"/>\n",
       "<polyline clip-path=\"url(#clip5702)\" style=\"stroke:#ffa500; stroke-width:4; stroke-opacity:1; fill:none\" points=\"\n",
       "  175.024,436.646 289.642,480.474 404.259,540.395 518.876,395.355 633.494,403.401 748.111,402.57 862.729,477.617 977.346,493 1091.96,456.1 1206.58,651.981 \n",
       "  1321.2,391.73 1435.82,402.072 1550.43,394.582 1665.05,335.303 1779.67,305.156 1894.29,376.538 2008.9,530.542 2123.52,450.062 2238.14,397.636 2352.76,567.594 \n",
       "  \n",
       "  \"/>\n",
       "<polyline clip-path=\"url(#clip5702)\" style=\"stroke:#ffa500; stroke-width:4; stroke-opacity:1; fill:none\" points=\"\n",
       "  175.024,546.119 289.642,607.56 404.259,751.602 518.876,714.408 633.494,802.356 748.111,636.653 862.729,654.474 977.346,559.57 1091.96,477.168 1206.58,842.854 \n",
       "  1321.2,714.897 1435.82,642.451 1550.43,706.757 1665.05,508.229 1779.67,627.301 1894.29,691.235 2008.9,275.14 2123.52,442.443 2238.14,589.546 2352.76,719.09 \n",
       "  \n",
       "  \"/>\n",
       "<polyline clip-path=\"url(#clip5702)\" style=\"stroke:#ffa500; stroke-width:4; stroke-opacity:1; fill:none\" points=\"\n",
       "  175.024,514.324 289.642,546.98 404.259,551.26 518.876,400.133 633.494,441.121 748.111,508.302 862.729,503.69 977.346,459.881 1091.96,419.527 1206.58,590.255 \n",
       "  1321.2,551.723 1435.82,436.592 1550.43,438.757 1665.05,382.03 1779.67,380.139 1894.29,520.527 2008.9,487.865 2123.52,465.749 2238.14,366.575 2352.76,429.359 \n",
       "  \n",
       "  \"/>\n",
       "<polyline clip-path=\"url(#clip5702)\" style=\"stroke:#ffa500; stroke-width:4; stroke-opacity:1; fill:none\" points=\"\n",
       "  175.024,682.544 289.642,456.314 404.259,648.771 518.876,506.618 633.494,635.587 748.111,655.94 862.729,766.679 977.346,504.29 1091.96,428.493 1206.58,957.43 \n",
       "  1321.2,699.359 1435.82,672.939 1550.43,564.526 1665.05,528.749 1779.67,619.605 1894.29,837.739 2008.9,377.959 2123.52,600.043 2238.14,553.004 2352.76,677.998 \n",
       "  \n",
       "  \"/>\n",
       "<polyline clip-path=\"url(#clip5702)\" style=\"stroke:#ffa500; stroke-width:4; stroke-opacity:1; fill:none\" points=\"\n",
       "  175.024,679.352 289.642,468.45 404.259,638.239 518.876,554.08 633.494,619.554 748.111,685.081 862.729,774.09 977.346,517.301 1091.96,486.568 1206.58,972.979 \n",
       "  1321.2,681.633 1435.82,709.759 1550.43,573.598 1665.05,519.675 1779.67,626.469 1894.29,809.667 2008.9,351.731 2123.52,612.406 2238.14,608.064 2352.76,629.022 \n",
       "  \n",
       "  \"/>\n",
       "<polyline clip-path=\"url(#clip5702)\" style=\"stroke:#ffa500; stroke-width:4; stroke-opacity:1; fill:none\" points=\"\n",
       "  175.024,520.524 289.642,534.221 404.259,562.609 518.876,501.728 633.494,540.516 748.111,507.181 862.729,605.237 977.346,656.03 1091.96,418.967 1206.58,743.97 \n",
       "  1321.2,441.892 1435.82,396.185 1550.43,469.456 1665.05,396.521 1779.67,513.103 1894.29,512.601 2008.9,464.495 2123.52,418.797 2238.14,323.59 2352.76,659.534 \n",
       "  \n",
       "  \"/>\n",
       "<polyline clip-path=\"url(#clip5702)\" style=\"stroke:#ffa500; stroke-width:4; stroke-opacity:1; fill:none\" points=\"\n",
       "  175.024,636.232 289.642,690.902 404.259,620.436 518.876,592.525 633.494,570.828 748.111,591.535 862.729,755.313 977.346,529.825 1091.96,384.535 1206.58,754.194 \n",
       "  1321.2,662.177 1435.82,591.555 1550.43,658.703 1665.05,587.098 1779.67,600.515 1894.29,644.765 2008.9,315.669 2123.52,355.996 2238.14,691.148 2352.76,658.259 \n",
       "  \n",
       "  \"/>\n",
       "<polyline clip-path=\"url(#clip5702)\" style=\"stroke:#ffa500; stroke-width:4; stroke-opacity:1; fill:none\" points=\"\n",
       "  175.024,676.594 289.642,507.797 404.259,624.517 518.876,535.211 633.494,616.238 748.111,678.145 862.729,763.612 977.346,563.147 1091.96,471.022 1206.58,909.267 \n",
       "  1321.2,665.032 1435.82,701.556 1550.43,576.347 1665.05,572.944 1779.67,657.732 1894.29,793.712 2008.9,394.475 2123.52,516.997 2238.14,555.218 2352.76,708.734 \n",
       "  \n",
       "  \"/>\n",
       "<polyline clip-path=\"url(#clip5702)\" style=\"stroke:#ffa500; stroke-width:4; stroke-opacity:1; fill:none\" points=\"\n",
       "  175.024,511.282 289.642,580.074 404.259,697.788 518.876,601.35 633.494,799.366 748.111,565.027 862.729,791.57 977.346,684.424 1091.96,390.13 1206.58,620.199 \n",
       "  1321.2,756.068 1435.82,582.711 1550.43,837.694 1665.05,531.705 1779.67,576.216 1894.29,652.468 2008.9,435.553 2123.52,373.057 2238.14,545.925 2352.76,723.855 \n",
       "  \n",
       "  \"/>\n",
       "<polyline clip-path=\"url(#clip5702)\" style=\"stroke:#ffa500; stroke-width:4; stroke-opacity:1; fill:none\" points=\"\n",
       "  175.024,329.158 289.642,491.348 404.259,703.912 518.876,474.61 633.494,503.474 748.111,454.79 862.729,516.852 977.346,586.977 1091.96,508.638 1206.58,742.898 \n",
       "  1321.2,589.587 1435.82,503.126 1550.43,370.764 1665.05,572.755 1779.67,513.244 1894.29,643.907 2008.9,581.838 2123.52,550.511 2238.14,541.227 2352.76,473.232 \n",
       "  \n",
       "  \"/>\n",
       "<polyline clip-path=\"url(#clip5702)\" style=\"stroke:#ffa500; stroke-width:4; stroke-opacity:1; fill:none\" points=\"\n",
       "  175.024,576.115 289.642,542.891 404.259,598.727 518.876,447.176 633.494,528.101 748.111,531.216 862.729,633.573 977.346,690.675 1091.96,258.994 1206.58,625.636 \n",
       "  1321.2,484.64 1435.82,480.863 1550.43,517.756 1665.05,403.322 1779.67,534.452 1894.29,482.042 2008.9,573.836 2123.52,265.409 2238.14,498.231 2352.76,647.065 \n",
       "  \n",
       "  \"/>\n",
       "<polyline clip-path=\"url(#clip5702)\" style=\"stroke:#ffa500; stroke-width:4; stroke-opacity:1; fill:none\" points=\"\n",
       "  175.024,617.846 289.642,543.175 404.259,670.963 518.876,567.909 633.494,490.255 748.111,396.717 862.729,530.482 977.346,620.133 1091.96,465.871 1206.58,629.875 \n",
       "  1321.2,624.162 1435.82,550.032 1550.43,548.217 1665.05,641.451 1779.67,571.269 1894.29,557.1 2008.9,427.758 2123.52,359.374 2238.14,551.726 2352.76,398.411 \n",
       "  \n",
       "  \"/>\n",
       "<polyline clip-path=\"url(#clip5702)\" style=\"stroke:#ffa500; stroke-width:4; stroke-opacity:1; fill:none\" points=\"\n",
       "  175.024,395.2 289.642,445.583 404.259,534.008 518.876,372.479 633.494,366.045 748.111,360.559 862.729,425.846 977.346,572.989 1091.96,377.582 1206.58,568.922 \n",
       "  1321.2,386.995 1435.82,359.257 1550.43,419.25 1665.05,441.972 1779.67,365.655 1894.29,432.128 2008.9,460.122 2123.52,342.307 2238.14,432.249 2352.76,523.186 \n",
       "  \n",
       "  \"/>\n",
       "<polyline clip-path=\"url(#clip5702)\" style=\"stroke:#ffa500; stroke-width:4; stroke-opacity:1; fill:none\" points=\"\n",
       "  175.024,623.773 289.642,560.379 404.259,517.414 518.876,505.159 633.494,574.76 748.111,562.116 862.729,529.768 977.346,686.731 1091.96,484.211 1206.58,511.556 \n",
       "  1321.2,605.993 1435.82,445.949 1550.43,476.465 1665.05,349.379 1779.67,475.498 1894.29,419.302 2008.9,504.018 2123.52,495.127 2238.14,380.432 2352.76,663.193 \n",
       "  \n",
       "  \"/>\n",
       "<polyline clip-path=\"url(#clip5702)\" style=\"stroke:#ffa500; stroke-width:4; stroke-opacity:1; fill:none\" points=\"\n",
       "  175.024,419.474 289.642,580.054 404.259,487.615 518.876,388.232 633.494,551.644 748.111,551.008 862.729,462.347 977.346,671.203 1091.96,406.509 1206.58,513.564 \n",
       "  1321.2,540.951 1435.82,449.577 1550.43,402.077 1665.05,486.389 1779.67,365.112 1894.29,494.19 2008.9,742.622 2123.52,386.123 2238.14,564.634 2352.76,719.794 \n",
       "  \n",
       "  \"/>\n",
       "<polyline clip-path=\"url(#clip5702)\" style=\"stroke:#ffa500; stroke-width:4; stroke-opacity:1; fill:none\" points=\"\n",
       "  175.024,587.192 289.642,666.303 404.259,423.871 518.876,304.091 633.494,341.993 748.111,539.768 862.729,561.201 977.346,456.64 1091.96,518.072 1206.58,747.597 \n",
       "  1321.2,505.341 1435.82,606.596 1550.43,428.1 1665.05,418.599 1779.67,340.776 1894.29,390.995 2008.9,573.139 2123.52,431.487 2238.14,547.959 2352.76,651.479 \n",
       "  \n",
       "  \"/>\n",
       "<polyline clip-path=\"url(#clip5702)\" style=\"stroke:#ffa500; stroke-width:4; stroke-opacity:1; fill:none\" points=\"\n",
       "  175.024,761.301 289.642,770.379 404.259,638.853 518.876,645.204 633.494,538.467 748.111,690.385 862.729,867.672 977.346,759.969 1091.96,435.135 1206.58,951.511 \n",
       "  1321.2,811.403 1435.82,589.123 1550.43,741.766 1665.05,620.994 1779.67,597.16 1894.29,888.267 2008.9,387.315 2123.52,688.484 2238.14,750.146 2352.76,526.733 \n",
       "  \n",
       "  \"/>\n",
       "<polyline clip-path=\"url(#clip5702)\" style=\"stroke:#ffa500; stroke-width:4; stroke-opacity:1; fill:none\" points=\"\n",
       "  175.024,502.077 289.642,533.657 404.259,464.875 518.876,446.899 633.494,380.336 748.111,524.62 862.729,570.518 977.346,411.347 1091.96,462.248 1206.58,719.968 \n",
       "  1321.2,533.395 1435.82,520.286 1550.43,452.094 1665.05,479.394 1779.67,448.777 1894.29,495.638 2008.9,481.434 2123.52,491.322 2238.14,550.744 2352.76,499.036 \n",
       "  \n",
       "  \"/>\n",
       "<polyline clip-path=\"url(#clip5702)\" style=\"stroke:#ffa500; stroke-width:4; stroke-opacity:1; fill:none\" points=\"\n",
       "  175.024,346.994 289.642,531.106 404.259,418.079 518.876,456.154 633.494,576.05 748.111,527.028 862.729,466.274 977.346,681.069 1091.96,545.052 1206.58,492.111 \n",
       "  1321.2,647.131 1435.82,470.759 1550.43,405.773 1665.05,518.846 1779.67,483.295 1894.29,482.011 2008.9,544.859 2123.52,406.278 2238.14,500.869 2352.76,755.784 \n",
       "  \n",
       "  \"/>\n",
       "<polyline clip-path=\"url(#clip5702)\" style=\"stroke:#ffa500; stroke-width:4; stroke-opacity:1; fill:none\" points=\"\n",
       "  175.024,574.913 289.642,627.936 404.259,429.34 518.876,513.477 633.494,457.93 748.111,577.517 862.729,634.453 977.346,589.826 1091.96,471.914 1206.58,797.968 \n",
       "  1321.2,495.736 1435.82,561.915 1550.43,469.493 1665.05,578.922 1779.67,580.118 1894.29,471.679 2008.9,592.399 2123.52,529.466 2238.14,649.963 2352.76,613.036 \n",
       "  \n",
       "  \"/>\n",
       "<polyline clip-path=\"url(#clip5702)\" style=\"stroke:#ffa500; stroke-width:4; stroke-opacity:1; fill:none\" points=\"\n",
       "  175.024,372.988 289.642,611.803 404.259,491.574 518.876,393.622 633.494,562.049 748.111,537.564 862.729,545.107 977.346,771.514 1091.96,515.17 1206.58,473.312 \n",
       "  1321.2,625.505 1435.82,413.872 1550.43,595.673 1665.05,596.194 1779.67,485.574 1894.29,567.141 2008.9,595.644 2123.52,282.275 2238.14,492.063 2352.76,740 \n",
       "  \n",
       "  \"/>\n",
       "<polyline clip-path=\"url(#clip5702)\" style=\"stroke:#ffa500; stroke-width:4; stroke-opacity:1; fill:none\" points=\"\n",
       "  175.024,668.169 289.642,612.176 404.259,611.565 518.876,693.487 633.494,716.441 748.111,669.1 862.729,680.297 977.346,619.058 1091.96,514.595 1206.58,884.803 \n",
       "  1321.2,767.43 1435.82,655.983 1550.43,494.599 1665.05,578.912 1779.67,608.584 1894.29,814.379 2008.9,344.856 2123.52,688.174 2238.14,557.958 2352.76,653.342 \n",
       "  \n",
       "  \"/>\n",
       "<polyline clip-path=\"url(#clip5702)\" style=\"stroke:#ffa500; stroke-width:4; stroke-opacity:1; fill:none\" points=\"\n",
       "  175.024,517.962 289.642,568.295 404.259,585.153 518.876,483.369 633.494,537.906 748.111,605.873 862.729,473.202 977.346,417.909 1091.96,477.906 1206.58,818.737 \n",
       "  1321.2,491.922 1435.82,520.637 1550.43,411.269 1665.05,442.972 1779.67,569.352 1894.29,611.676 2008.9,566.967 2123.52,542.787 2238.14,360.442 2352.76,646.455 \n",
       "  \n",
       "  \"/>\n",
       "<polyline clip-path=\"url(#clip5702)\" style=\"stroke:#ffa500; stroke-width:4; stroke-opacity:1; fill:none\" points=\"\n",
       "  175.024,520.835 289.642,528.776 404.259,639.484 518.876,479.593 633.494,471.465 748.111,527.872 862.729,542.078 977.346,482.197 1091.96,534.946 1206.58,759.036 \n",
       "  1321.2,779.906 1435.82,547.418 1550.43,414.87 1665.05,612.794 1779.67,523.027 1894.29,648.105 2008.9,571.762 2123.52,624.799 2238.14,558.595 2352.76,415.364 \n",
       "  \n",
       "  \"/>\n",
       "<polyline clip-path=\"url(#clip5702)\" style=\"stroke:#ffa500; stroke-width:4; stroke-opacity:1; fill:none\" points=\"\n",
       "  175.024,559.42 289.642,673.712 404.259,607.391 518.876,397.428 633.494,677.186 748.111,587.829 862.729,627.591 977.346,750.744 1091.96,426.014 1206.58,807.481 \n",
       "  1321.2,612.949 1435.82,612.987 1550.43,623.653 1665.05,573.431 1779.67,468.136 1894.29,613.602 2008.9,681.372 2123.52,488.36 2238.14,362.364 2352.76,597.171 \n",
       "  \n",
       "  \"/>\n",
       "<polyline clip-path=\"url(#clip5702)\" style=\"stroke:#ffa500; stroke-width:4; stroke-opacity:1; fill:none\" points=\"\n",
       "  175.024,482.399 289.642,690.183 404.259,739.398 518.876,440.455 633.494,567.082 748.111,590.432 862.729,602.013 977.346,558.04 1091.96,567.322 1206.58,712.636 \n",
       "  1321.2,719.389 1435.82,560.86 1550.43,456.315 1665.05,495.217 1779.67,452.775 1894.29,635.649 2008.9,713.441 2123.52,585.709 2238.14,581.127 2352.76,442.427 \n",
       "  \n",
       "  \"/>\n",
       "<polyline clip-path=\"url(#clip5702)\" style=\"stroke:#ffa500; stroke-width:4; stroke-opacity:1; fill:none\" points=\"\n",
       "  175.024,494.081 289.642,648.798 404.259,409.848 518.876,313.282 633.494,505.494 748.111,463.863 862.729,580.79 977.346,652.696 1091.96,518.202 1206.58,655.141 \n",
       "  1321.2,463.966 1435.82,531.798 1550.43,416.932 1665.05,437.408 1779.67,432.757 1894.29,340.425 2008.9,549.838 2123.52,404.803 2238.14,383.124 2352.76,684.232 \n",
       "  \n",
       "  \"/>\n",
       "<polyline clip-path=\"url(#clip5702)\" style=\"stroke:#ffa500; stroke-width:4; stroke-opacity:1; fill:none\" points=\"\n",
       "  175.024,354.949 289.642,573.707 404.259,556.857 518.876,389.576 633.494,419.486 748.111,423.549 862.729,466.246 977.346,500.77 1091.96,483.067 1206.58,653.593 \n",
       "  1321.2,409.349 1435.82,386.983 1550.43,422.403 1665.05,391.945 1779.67,404.824 1894.29,479.836 2008.9,467.812 2123.52,390.073 2238.14,372.304 2352.76,556.552 \n",
       "  \n",
       "  \"/>\n",
       "<polyline clip-path=\"url(#clip5702)\" style=\"stroke:#ffa500; stroke-width:4; stroke-opacity:1; fill:none\" points=\"\n",
       "  175.024,527.478 289.642,430.185 404.259,485.675 518.876,408.742 633.494,501.375 748.111,558.894 862.729,632.095 977.346,700.186 1091.96,425.155 1206.58,641.628 \n",
       "  1321.2,515.036 1435.82,482.29 1550.43,365.809 1665.05,517.805 1779.67,505.753 1894.29,404.304 2008.9,555.359 2123.52,261.195 2238.14,494.329 2352.76,708.117 \n",
       "  \n",
       "  \"/>\n",
       "<polyline clip-path=\"url(#clip5702)\" style=\"stroke:#ffa500; stroke-width:4; stroke-opacity:1; fill:none\" points=\"\n",
       "  175.024,455.056 289.642,466.483 404.259,606.766 518.876,493.045 633.494,519.637 748.111,509.074 862.729,465.232 977.346,545.856 1091.96,358.584 1206.58,660.619 \n",
       "  1321.2,417.315 1435.82,369.415 1550.43,374.861 1665.05,414.609 1779.67,429.619 1894.29,483.182 2008.9,454.819 2123.52,356.619 2238.14,472.971 2352.76,671.39 \n",
       "  \n",
       "  \"/>\n",
       "<polyline clip-path=\"url(#clip5702)\" style=\"stroke:#ffa500; stroke-width:4; stroke-opacity:1; fill:none\" points=\"\n",
       "  175.024,443.389 289.642,508.168 404.259,624.766 518.876,507.388 633.494,649.968 748.111,515.7 862.729,673.698 977.346,663.458 1091.96,364.029 1206.58,642.43 \n",
       "  1321.2,746.085 1435.82,464.343 1550.43,677.381 1665.05,409.981 1779.67,545.533 1894.29,681.783 2008.9,410.664 2123.52,450.651 2238.14,416.425 2352.76,632.978 \n",
       "  \n",
       "  \"/>\n",
       "<polyline clip-path=\"url(#clip5702)\" style=\"stroke:#ffa500; stroke-width:4; stroke-opacity:1; fill:none\" points=\"\n",
       "  175.024,530.579 289.642,474.011 404.259,564.674 518.876,473.136 633.494,513.725 748.111,374.592 862.729,458.108 977.346,627.58 1091.96,458.87 1206.58,487.586 \n",
       "  1321.2,449.874 1435.82,376.87 1550.43,495.917 1665.05,552.395 1779.67,345.346 1894.29,403.288 2008.9,495.277 2123.52,279.611 2238.14,382.78 2352.76,549.721 \n",
       "  \n",
       "  \"/>\n",
       "<polyline clip-path=\"url(#clip5702)\" style=\"stroke:#ffa500; stroke-width:4; stroke-opacity:1; fill:none\" points=\"\n",
       "  175.024,568.049 289.642,559.709 404.259,492.736 518.876,337.516 633.494,384.102 748.111,470.931 862.729,397.393 977.346,522.949 1091.96,446.355 1206.58,510.323 \n",
       "  1321.2,465.768 1435.82,430.479 1550.43,445.197 1665.05,419.87 1779.67,344.911 1894.29,443.754 2008.9,564.969 2123.52,221.06 2238.14,444.955 2352.76,654.866 \n",
       "  \n",
       "  \"/>\n",
       "<polyline clip-path=\"url(#clip5702)\" style=\"stroke:#ffa500; stroke-width:4; stroke-opacity:1; fill:none\" points=\"\n",
       "  175.024,686.388 289.642,613.106 404.259,627.035 518.876,416.818 633.494,365.611 748.111,452.585 862.729,446.52 977.346,487.558 1091.96,479.626 1206.58,569.147 \n",
       "  1321.2,610.257 1435.82,644.302 1550.43,544.715 1665.05,678.765 1779.67,489.974 1894.29,513.564 2008.9,476.942 2123.52,207.329 2238.14,618.122 2352.76,594.732 \n",
       "  \n",
       "  \"/>\n",
       "<polyline clip-path=\"url(#clip5702)\" style=\"stroke:#ffa500; stroke-width:4; stroke-opacity:1; fill:none\" points=\"\n",
       "  175.024,457.865 289.642,448.583 404.259,531.271 518.876,364.168 633.494,383.135 748.111,368.227 862.729,473.226 977.346,659.843 1091.96,395.744 1206.58,577.224 \n",
       "  1321.2,471.659 1435.82,419.673 1550.43,510.281 1665.05,436.053 1779.67,370.657 1894.29,452.704 2008.9,493.572 2123.52,209.171 2238.14,516.191 2352.76,477.568 \n",
       "  \n",
       "  \"/>\n",
       "<polyline clip-path=\"url(#clip5702)\" style=\"stroke:#ffa500; stroke-width:4; stroke-opacity:1; fill:none\" points=\"\n",
       "  175.024,411.067 289.642,398.974 404.259,555.422 518.876,433.228 633.494,344.584 748.111,397.47 862.729,475.043 977.346,503.02 1091.96,505.435 1206.58,688.669 \n",
       "  1321.2,589.039 1435.82,550.013 1550.43,409.21 1665.05,619.094 1779.67,453.335 1894.29,540.169 2008.9,494.677 2123.52,547.698 2238.14,562.616 2352.76,439.652 \n",
       "  \n",
       "  \"/>\n",
       "<polyline clip-path=\"url(#clip5702)\" style=\"stroke:#ffa500; stroke-width:4; stroke-opacity:1; fill:none\" points=\"\n",
       "  175.024,573.133 289.642,562.684 404.259,625.415 518.876,446.958 633.494,429.003 748.111,494.236 862.729,464.712 977.346,487.953 1091.96,496.755 1206.58,630.153 \n",
       "  1321.2,548.744 1435.82,451.659 1550.43,381.11 1665.05,583.826 1779.67,410.879 1894.29,482.203 2008.9,546.865 2123.52,448.589 2238.14,534.441 2352.76,464.461 \n",
       "  \n",
       "  \"/>\n",
       "<polyline clip-path=\"url(#clip5702)\" style=\"stroke:#ffa500; stroke-width:4; stroke-opacity:1; fill:none\" points=\"\n",
       "  175.024,786.159 289.642,670.773 404.259,613.803 518.876,632.453 633.494,550.161 748.111,558.297 862.729,820.663 977.346,664.552 1091.96,482.227 1206.58,904.126 \n",
       "  1321.2,766.905 1435.82,704.61 1550.43,629.162 1665.05,691.408 1779.67,685.564 1894.29,706.872 2008.9,327.318 2123.52,429.35 2238.14,638.76 2352.76,648.547 \n",
       "  \n",
       "  \"/>\n",
       "<polyline clip-path=\"url(#clip5702)\" style=\"stroke:#ffa500; stroke-width:4; stroke-opacity:1; fill:none\" points=\"\n",
       "  175.024,514.713 289.642,489.971 404.259,696.395 518.876,621.07 633.494,687.257 748.111,510.359 862.729,627.455 977.346,431.306 1091.96,343.337 1206.58,734.861 \n",
       "  1321.2,677.68 1435.82,613.408 1550.43,626.072 1665.05,438.896 1779.67,519.885 1894.29,660.945 2008.9,343.304 2123.52,336.189 2238.14,453.556 2352.76,575.962 \n",
       "  \n",
       "  \"/>\n",
       "<polyline clip-path=\"url(#clip5702)\" style=\"stroke:#ffa500; stroke-width:4; stroke-opacity:1; fill:none\" points=\"\n",
       "  175.024,440.143 289.642,531.112 404.259,675.206 518.876,427.95 633.494,616.229 748.111,438.342 862.729,530.981 977.346,660.889 1091.96,435.879 1206.58,590.722 \n",
       "  1321.2,633.451 1435.82,374.271 1550.43,574.563 1665.05,482.115 1779.67,457.507 1894.29,509.04 2008.9,515.029 2123.52,296.861 2238.14,497.981 2352.76,635.51 \n",
       "  \n",
       "  \"/>\n",
       "<polyline clip-path=\"url(#clip5702)\" style=\"stroke:#ffa500; stroke-width:4; stroke-opacity:1; fill:none\" points=\"\n",
       "  175.024,682.61 289.642,724.065 404.259,489.447 518.876,579.926 633.494,457.393 748.111,750.015 862.729,740.965 977.346,627.325 1091.96,475.546 1206.58,790.833 \n",
       "  1321.2,607.53 1435.82,639.303 1550.43,397.226 1665.05,511.185 1779.67,609.901 1894.29,523.114 2008.9,716.521 2123.52,618.319 2238.14,672.804 2352.76,641.366 \n",
       "  \n",
       "  \"/>\n",
       "<polyline clip-path=\"url(#clip5702)\" style=\"stroke:#ffa500; stroke-width:4; stroke-opacity:1; fill:none\" points=\"\n",
       "  175.024,636.068 289.642,569.147 404.259,611.182 518.876,487.89 633.494,498.024 748.111,466.114 862.729,481.443 977.346,641.221 1091.96,488.123 1206.58,647.337 \n",
       "  1321.2,463.448 1435.82,529.936 1550.43,555.93 1665.05,477.013 1779.67,439.486 1894.29,532.429 2008.9,513.599 2123.52,237.721 2238.14,512.11 2352.76,601.668 \n",
       "  \n",
       "  \"/>\n",
       "<polyline clip-path=\"url(#clip5702)\" style=\"stroke:#ffa500; stroke-width:4; stroke-opacity:1; fill:none\" points=\"\n",
       "  175.024,649.899 289.642,777.22 404.259,729.244 518.876,625.446 633.494,898.232 748.111,649.702 862.729,787.292 977.346,897.835 1091.96,505.364 1206.58,678.382 \n",
       "  1321.2,822.012 1435.82,707.875 1550.43,859.183 1665.05,748.155 1779.67,725.224 1894.29,659.975 2008.9,606.993 2123.52,347.027 2238.14,369.611 2352.76,667.728 \n",
       "  \n",
       "  \"/>\n",
       "<polyline clip-path=\"url(#clip5702)\" style=\"stroke:#ffa500; stroke-width:4; stroke-opacity:1; fill:none\" points=\"\n",
       "  175.024,577.181 289.642,646.145 404.259,476.094 518.876,365.488 633.494,356.386 748.111,571.99 862.729,528.611 977.346,443.571 1091.96,525.511 1206.58,691.035 \n",
       "  1321.2,503.545 1435.82,552.204 1550.43,389.153 1665.05,399.595 1779.67,362.13 1894.29,396.496 2008.9,613.877 2123.52,411.881 2238.14,564.865 2352.76,682.287 \n",
       "  \n",
       "  \"/>\n",
       "<polyline clip-path=\"url(#clip5702)\" style=\"stroke:#ffa500; stroke-width:4; stroke-opacity:1; fill:none\" points=\"\n",
       "  175.024,561.242 289.642,757.5 404.259,584.406 518.876,381.181 633.494,668.411 748.111,606.892 862.729,579.913 977.346,756.098 1091.96,477.307 1206.58,762.589 \n",
       "  1321.2,575.664 1435.82,638.526 1550.43,588.655 1665.05,615.274 1779.67,443.663 1894.29,570.258 2008.9,707.57 2123.52,501.005 2238.14,428.484 2352.76,658.874 \n",
       "  \n",
       "  \"/>\n",
       "<polyline clip-path=\"url(#clip5702)\" style=\"stroke:#ffa500; stroke-width:4; stroke-opacity:1; fill:none\" points=\"\n",
       "  175.024,617.153 289.642,682.188 404.259,633.124 518.876,714.274 633.494,850.956 748.111,602.203 862.729,886.676 977.346,777.793 1091.96,631.249 1206.58,661.075 \n",
       "  1321.2,843.737 1435.82,798.855 1550.43,733.045 1665.05,618.367 1779.67,679.847 1894.29,636.452 2008.9,439.835 2123.52,516.763 2238.14,570.067 2352.76,703.227 \n",
       "  \n",
       "  \"/>\n",
       "<polyline clip-path=\"url(#clip5702)\" style=\"stroke:#ffa500; stroke-width:4; stroke-opacity:1; fill:none\" points=\"\n",
       "  175.024,706.767 289.642,667.608 404.259,507.285 518.876,628.108 633.494,493.311 748.111,727.526 862.729,754.274 977.346,613.363 1091.96,453.01 1206.58,728.985 \n",
       "  1321.2,607.271 1435.82,591.333 1550.43,396.973 1665.05,497.981 1779.67,618.117 1894.29,499.142 2008.9,696.531 2123.52,570.399 2238.14,648.397 2352.76,652.543 \n",
       "  \n",
       "  \"/>\n",
       "<polyline clip-path=\"url(#clip5702)\" style=\"stroke:#ffa500; stroke-width:4; stroke-opacity:1; fill:none\" points=\"\n",
       "  175.024,676.417 289.642,565.63 404.259,575.652 518.876,612.993 633.494,646.445 748.111,612.527 862.729,738.995 977.346,610.641 1091.96,529.325 1206.58,771.618 \n",
       "  1321.2,746.962 1435.82,575.152 1550.43,487.798 1665.05,573.748 1779.67,561.882 1894.29,660.307 2008.9,365.257 2123.52,601.529 2238.14,534.332 2352.76,590.489 \n",
       "  \n",
       "  \"/>\n",
       "<polyline clip-path=\"url(#clip5702)\" style=\"stroke:#ffa500; stroke-width:4; stroke-opacity:1; fill:none\" points=\"\n",
       "  175.024,463.093 289.642,517.489 404.259,607.031 518.876,466.441 633.494,515.444 748.111,409.886 862.729,543.718 977.346,593.956 1091.96,403.683 1206.58,546.691 \n",
       "  1321.2,396.978 1435.82,477.626 1550.43,579.563 1665.05,563.696 1779.67,396.337 1894.29,402.813 2008.9,485.01 2123.52,264.713 2238.14,561.749 2352.76,614.063 \n",
       "  \n",
       "  \"/>\n",
       "<polyline clip-path=\"url(#clip5702)\" style=\"stroke:#ffa500; stroke-width:4; stroke-opacity:1; fill:none\" points=\"\n",
       "  175.024,656.285 289.642,657.059 404.259,599.989 518.876,371.745 633.494,474.723 748.111,523.376 862.729,497.412 977.346,656.649 1091.96,401.496 1206.58,594.954 \n",
       "  1321.2,507.039 1435.82,507.405 1550.43,602.392 1665.05,508.476 1779.67,508.309 1894.29,520.081 2008.9,567.021 2123.52,146.711 2238.14,459.977 2352.76,672.803 \n",
       "  \n",
       "  \"/>\n",
       "<polyline clip-path=\"url(#clip5702)\" style=\"stroke:#ffa500; stroke-width:4; stroke-opacity:1; fill:none\" points=\"\n",
       "  175.024,490.073 289.642,607.558 404.259,671.553 518.876,695.951 633.494,721.127 748.111,644.545 862.729,554.174 977.346,595.401 1091.96,524.895 1206.58,788.793 \n",
       "  1321.2,684.027 1435.82,562.512 1550.43,550.678 1665.05,425.15 1779.67,615.88 1894.29,720.022 2008.9,400.513 2123.52,586.164 2238.14,470.475 2352.76,717.246 \n",
       "  \n",
       "  \"/>\n",
       "<polyline clip-path=\"url(#clip5702)\" style=\"stroke:#ffa500; stroke-width:4; stroke-opacity:1; fill:none\" points=\"\n",
       "  175.024,524.187 289.642,436.155 404.259,489.71 518.876,413.539 633.494,387.295 748.111,432.708 862.729,487.559 977.346,670.725 1091.96,377.01 1206.58,418.84 \n",
       "  1321.2,527.678 1435.82,408.886 1550.43,460.666 1665.05,412.064 1779.67,394.999 1894.29,372.42 2008.9,549.481 2123.52,120.391 2238.14,487.317 2352.76,515.574 \n",
       "  \n",
       "  \"/>\n",
       "<polyline clip-path=\"url(#clip5702)\" style=\"stroke:#ffa500; stroke-width:4; stroke-opacity:1; fill:none\" points=\"\n",
       "  175.024,673.78 289.642,681.04 404.259,619.084 518.876,563.757 633.494,616.521 748.111,585.663 862.729,606.693 977.346,787.51 1091.96,497.972 1206.58,550.017 \n",
       "  1321.2,614.004 1435.82,464.365 1550.43,588.736 1665.05,375.328 1779.67,545.239 1894.29,426.29 2008.9,474.825 2123.52,464.984 2238.14,384.18 2352.76,721.655 \n",
       "  \n",
       "  \"/>\n",
       "<polyline clip-path=\"url(#clip5702)\" style=\"stroke:#ffa500; stroke-width:4; stroke-opacity:1; fill:none\" points=\"\n",
       "  175.024,438.499 289.642,495.72 404.259,482.982 518.876,387.236 633.494,359.855 748.111,406.907 862.729,602.962 977.346,492.718 1091.96,426.763 1206.58,744.349 \n",
       "  1321.2,426.308 1435.82,487.405 1550.43,401.901 1665.05,427.496 1779.67,369.737 1894.29,355.397 2008.9,448.301 2123.52,504.814 2238.14,510.847 2352.76,530.976 \n",
       "  \n",
       "  \"/>\n",
       "<polyline clip-path=\"url(#clip5702)\" style=\"stroke:#ffa500; stroke-width:4; stroke-opacity:1; fill:none\" points=\"\n",
       "  175.024,602.277 289.642,828.081 404.259,641.809 518.876,420.564 633.494,666.085 748.111,621.567 862.729,595.831 977.346,799.067 1091.96,436.491 1206.58,741.489 \n",
       "  1321.2,531.015 1435.82,613.849 1550.43,677.172 1665.05,613.262 1779.67,501.804 1894.29,564.54 2008.9,624.025 2123.52,414.28 2238.14,386.575 2352.76,684.25 \n",
       "  \n",
       "  \"/>\n",
       "<polyline clip-path=\"url(#clip5702)\" style=\"stroke:#ffa500; stroke-width:4; stroke-opacity:1; fill:none\" points=\"\n",
       "  175.024,610.588 289.642,529.241 404.259,605.532 518.876,377.136 633.494,406.72 748.111,524.704 862.729,499.867 977.346,498.353 1091.96,377.367 1206.58,529 \n",
       "  1321.2,478.946 1435.82,523.248 1550.43,563.094 1665.05,411.118 1779.67,427.176 1894.29,489.851 2008.9,554.392 2123.52,195.02 2238.14,532.268 2352.76,679.398 \n",
       "  \n",
       "  \"/>\n",
       "<polyline clip-path=\"url(#clip5702)\" style=\"stroke:#ffa500; stroke-width:4; stroke-opacity:1; fill:none\" points=\"\n",
       "  175.024,517.967 289.642,682.226 404.259,310.485 518.876,401.658 633.494,379.319 748.111,563.54 862.729,450.35 977.346,706.3 1091.96,694.563 1206.58,455.686 \n",
       "  1321.2,559.15 1435.82,570.373 1550.43,510.685 1665.05,619.147 1779.67,323.283 1894.29,501.155 2008.9,720.788 2123.52,412.702 2238.14,800.06 2352.76,678.414 \n",
       "  \n",
       "  \"/>\n",
       "<polyline clip-path=\"url(#clip5702)\" style=\"stroke:#ffa500; stroke-width:4; stroke-opacity:1; fill:none\" points=\"\n",
       "  175.024,546.763 289.642,648.214 404.259,564.888 518.876,458.836 633.494,500.215 748.111,606.053 862.729,558.416 977.346,675.949 1091.96,399.086 1206.58,638.953 \n",
       "  1321.2,525.079 1435.82,421.403 1550.43,405.672 1665.05,551.387 1779.67,527.243 1894.29,473.908 2008.9,585.251 2123.52,347.498 2238.14,576.092 2352.76,770.504 \n",
       "  \n",
       "  \"/>\n",
       "<polyline clip-path=\"url(#clip5702)\" style=\"stroke:#ffa500; stroke-width:4; stroke-opacity:1; fill:none\" points=\"\n",
       "  175.024,510.041 289.642,532.468 404.259,604.66 518.876,444.219 633.494,567.593 748.111,512.012 862.729,566.436 977.346,654.851 1091.96,435.339 1206.58,738.917 \n",
       "  1321.2,509.559 1435.82,423.847 1550.43,602.577 1665.05,624.15 1779.67,527.251 1894.29,467.073 2008.9,443.935 2123.52,325.093 2238.14,388.389 2352.76,756.194 \n",
       "  \n",
       "  \"/>\n",
       "<polyline clip-path=\"url(#clip5702)\" style=\"stroke:#ffa500; stroke-width:4; stroke-opacity:1; fill:none\" points=\"\n",
       "  175.024,626.244 289.642,603.681 404.259,607.499 518.876,446.05 633.494,620.009 748.111,504.057 862.729,690.135 977.346,741.781 1091.96,346.126 1206.58,698.982 \n",
       "  1321.2,673.062 1435.82,632.928 1550.43,666.877 1665.05,691.431 1779.67,541.971 1894.29,630.847 2008.9,470.435 2123.52,278.345 2238.14,479.169 2352.76,554.314 \n",
       "  \n",
       "  \"/>\n",
       "<polyline clip-path=\"url(#clip5702)\" style=\"stroke:#ffa500; stroke-width:4; stroke-opacity:1; fill:none\" points=\"\n",
       "  175.024,657.789 289.642,624.595 404.259,518.345 518.876,345.469 633.494,404.43 748.111,492.648 862.729,408.447 977.346,563.954 1091.96,451.143 1206.58,585.453 \n",
       "  1321.2,456.816 1435.82,527.746 1550.43,489.218 1665.05,430.982 1779.67,389.96 1894.29,478.233 2008.9,584.766 2123.52,200.876 2238.14,515.868 2352.76,644.762 \n",
       "  \n",
       "  \"/>\n",
       "<polyline clip-path=\"url(#clip5702)\" style=\"stroke:#ffa500; stroke-width:4; stroke-opacity:1; fill:none\" points=\"\n",
       "  175.024,543.892 289.642,616.166 404.259,474.897 518.876,289.334 633.494,348.183 748.111,493.42 862.729,384.084 977.346,536.911 1091.96,468.891 1206.58,572.171 \n",
       "  1321.2,466.027 1435.82,478.449 1550.43,445.449 1665.05,433.075 1779.67,336.694 1894.29,467.726 2008.9,584.96 2123.52,268.98 2238.14,469.362 2352.76,643.689 \n",
       "  \n",
       "  \"/>\n",
       "<polyline clip-path=\"url(#clip5702)\" style=\"stroke:#ffa500; stroke-width:4; stroke-opacity:1; fill:none\" points=\"\n",
       "  175.024,452.555 289.642,556.281 404.259,526.987 518.876,366.546 633.494,495.133 748.111,531.88 862.729,433.616 977.346,578.396 1091.96,395.035 1206.58,724.212 \n",
       "  1321.2,457.638 1435.82,426.076 1550.43,486.701 1665.05,531.189 1779.67,520.201 1894.29,538.265 2008.9,508.157 2123.52,219.425 2238.14,372.625 2352.76,604.104 \n",
       "  \n",
       "  \"/>\n",
       "<polyline clip-path=\"url(#clip5702)\" style=\"stroke:#ffa500; stroke-width:4; stroke-opacity:1; fill:none\" points=\"\n",
       "  175.024,489.725 289.642,480.82 404.259,637.115 518.876,554.619 633.494,451.367 748.111,374.079 862.729,535.351 977.346,584.211 1091.96,497.025 1206.58,632.936 \n",
       "  1321.2,529.149 1435.82,558.804 1550.43,460.323 1665.05,568.27 1779.67,535.855 1894.29,431.001 2008.9,436.698 2123.52,312.279 2238.14,581.276 2352.76,526.376 \n",
       "  \n",
       "  \"/>\n",
       "<polyline clip-path=\"url(#clip5702)\" style=\"stroke:#ffa500; stroke-width:4; stroke-opacity:1; fill:none\" points=\"\n",
       "  175.024,617.153 289.642,682.188 404.259,633.124 518.876,714.274 633.494,850.956 748.111,602.203 862.729,886.676 977.346,777.793 1091.96,631.249 1206.58,661.075 \n",
       "  1321.2,843.737 1435.82,798.855 1550.43,733.045 1665.05,618.367 1779.67,679.847 1894.29,636.452 2008.9,439.835 2123.52,516.763 2238.14,570.067 2352.76,703.227 \n",
       "  \n",
       "  \"/>\n",
       "<polyline clip-path=\"url(#clip5702)\" style=\"stroke:#ffa500; stroke-width:4; stroke-opacity:1; fill:none\" points=\"\n",
       "  175.024,448.352 289.642,498.701 404.259,598.506 518.876,473.344 633.494,441.495 748.111,504.6 862.729,520.506 977.346,561.035 1091.96,399.051 1206.58,658.204 \n",
       "  1321.2,446.145 1435.82,347.79 1550.43,382.908 1665.05,447.81 1779.67,438.215 1894.29,446.121 2008.9,487.081 2123.52,378.877 2238.14,500.98 2352.76,641.352 \n",
       "  \n",
       "  \"/>\n",
       "<polyline clip-path=\"url(#clip5702)\" style=\"stroke:#ffa500; stroke-width:4; stroke-opacity:1; fill:none\" points=\"\n",
       "  175.024,546.201 289.642,551.16 404.259,597.3 518.876,523.795 633.494,385.685 748.111,520.551 862.729,542.842 977.346,504.082 1091.96,380.487 1206.58,731.744 \n",
       "  1321.2,451.456 1435.82,348.949 1550.43,366.021 1665.05,409.151 1779.67,452.753 1894.29,433.096 2008.9,364.078 2123.52,458.224 2238.14,548.369 2352.76,616.814 \n",
       "  \n",
       "  \"/>\n",
       "<polyline clip-path=\"url(#clip5702)\" style=\"stroke:#ffa500; stroke-width:4; stroke-opacity:1; fill:none\" points=\"\n",
       "  175.024,626.244 289.642,603.681 404.259,607.499 518.876,446.05 633.494,620.009 748.111,504.057 862.729,690.135 977.346,741.781 1091.96,346.126 1206.58,698.982 \n",
       "  1321.2,673.062 1435.82,632.928 1550.43,666.877 1665.05,691.431 1779.67,541.971 1894.29,630.847 2008.9,470.435 2123.52,278.345 2238.14,479.169 2352.76,554.314 \n",
       "  \n",
       "  \"/>\n",
       "</svg>\n"
      ]
     },
     "metadata": {},
     "output_type": "display_data"
    }
   ],
   "source": [
    "ymin = Inf\n",
    "ymax = -Inf\n",
    "function plot_pop(P)\n",
    "    global ymin = min(ymin, minimum([minimum(i.y) for i in P]))\n",
    "    global ymax = max(ymax, maximum([maximum(i.y) for i in P]))\n",
    "    plot(xlims=(1, n_objectives), ylims=(ymin, ymax))\n",
    "    ND = filter(indiv -> indiv.rank == 1, P)\n",
    "    dominated = filter(indiv->indiv.rank != 1, P)\n",
    "    for i in dominated\n",
    "        plot!(1:n_objectives, collect(i.y), legend=:none, color=:blue)\n",
    "    end\n",
    "    for i in ND\n",
    "        plot!(1:n_objectives, collect(i.y), legend=:none, color=:orange)\n",
    "    end\n",
    "    sleep(2.0)\n",
    "end\n",
    "\n",
    "non_dominated = nsga_max(popsize, 50, objective, init, fCV=constraint,\n",
    "    fplot=plot_pop, plotevery=10, showprogress=false);"
   ]
  },
  {
   "cell_type": "markdown",
   "metadata": {
    "slideshow": {
     "slide_type": "slide"
    }
   },
   "source": [
    "<div class=\"alert alert-success\">\n",
    "    <b>Exercise 4</b>\n",
    "    <br/>\n",
    "Gradually increase $K$, the number of objectives, and watch the number of non-dominated individuals in the population over evolution. What do you notice as $K$ increases?\n",
    "    <br/>\n",
    "</div>"
   ]
  },
  {
   "cell_type": "markdown",
   "metadata": {},
   "source": [
    "Quand on augmente K on augmente ausso le nombre de pareto front"
   ]
  },
  {
   "cell_type": "code",
   "execution_count": null,
   "metadata": {},
   "outputs": [],
   "source": []
  }
 ],
 "metadata": {
  "celltoolbar": "Slideshow",
  "kernelspec": {
   "display_name": "Julia 1.0.5",
   "language": "julia",
   "name": "julia-1.0"
  },
  "language_info": {
   "file_extension": ".jl",
   "mimetype": "application/julia",
   "name": "julia",
   "version": "1.0.5"
  }
 },
 "nbformat": 4,
 "nbformat_minor": 2
}
