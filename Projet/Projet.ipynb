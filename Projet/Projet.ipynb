{
 "cells": [
  {
   "cell_type": "markdown",
   "metadata": {},
   "source": [
    "# Projet\n",
    "\n",
    "## Idée 1 : Démineur"
   ]
  },
  {
   "cell_type": "code",
   "execution_count": 1,
   "metadata": {},
   "outputs": [],
   "source": [
    "import numpy as np\n",
    "import random as rd"
   ]
  },
  {
   "cell_type": "code",
   "execution_count": 35,
   "metadata": {},
   "outputs": [],
   "source": [
    "def initializationRealGrid(n,h,l,x,y): #n nombre de bombes, h hauteur de la grille, l largeur de la grille\n",
    "    grid = np.zeros([h,l], dtype=\"int\")\n",
    "    \n",
    "    #positionnement des bombes\n",
    "    i = 0\n",
    "    while i < n:\n",
    "        xb = rd.randint(0,l-1)\n",
    "        yb = rd.randint(0,h-1)\n",
    "        if (xb==x & yb==y)|(xb==x & yb==y-1)|(xb==x & yb==y+1)|(xb==x-1 & yb==y)|(xb==x-1 & yb==y-1)|(xb==x-1 & yb==y+1)|(xb==x+1 & yb==y)|(xb==x+1 & yb==y-1)|(xb==x+1 & yb==y+1):\n",
    "            i=i\n",
    "        elif grid[yb,xb] != 9:\n",
    "            grid[yb,xb]=9\n",
    "            i+=1\n",
    "    print(grid)\n",
    "    #écriture des chiffres\n",
    "    \n",
    "    #première ligne\n",
    "    nb=0\n",
    "    if grid[0,0]!=9:\n",
    "        if grid[0,1]==9:\n",
    "            nb+=1\n",
    "        if grid[1,1]==9:\n",
    "            nb+=1\n",
    "        if grid[1,0]==9:\n",
    "            nb+=1\n",
    "        grid[0,0]=nb\n",
    "    nb=0\n",
    "    if grid[0,l-1]!=9:\n",
    "        if grid[0,l-2]==9:\n",
    "            nb+=1\n",
    "        if grid[1,l-2]==9:\n",
    "            nb+=1\n",
    "        if grid[1,l-1]==9:\n",
    "            nb+=1\n",
    "        grid[0,l-1]=nb\n",
    "    for j in range(1,l-1):\n",
    "        if grid[0,j]!=9:\n",
    "            nb=0\n",
    "            if grid[0,j-1]==9:\n",
    "                nb+=1\n",
    "            if grid[0,j+1]==9:\n",
    "                nb+=1\n",
    "            if grid[1,j-1]==9:\n",
    "                nb+=1\n",
    "            if grid[1,j]==9:\n",
    "                nb+=1\n",
    "            if grid[1,j+1]==9:\n",
    "                nb+=1\n",
    "            grid[0,j]=nb\n",
    "        \n",
    "    #dernière ligne\n",
    "    nb=0\n",
    "    if grid[h-1,0]!=9:\n",
    "        if grid[h-1,1]==9:\n",
    "            nb+=1\n",
    "        if grid[h-2,1]==9:\n",
    "            nb+=1\n",
    "        if grid[h-2,0]==9:\n",
    "            nb+=1\n",
    "        grid[h-1,0]=nb\n",
    "    nb=0\n",
    "    if grid[h-1,l-1]!=9:\n",
    "        if grid[h-1,l-2]==9:\n",
    "            nb+=1\n",
    "        if grid[h-2,l-2]==9:\n",
    "            nb+=1\n",
    "        if grid[h-2,l-1]==9:\n",
    "            nb+=1\n",
    "        grid[h-1,l-1]=nb\n",
    "    for j in range(1,l-1):\n",
    "        if grid[h-1,j]!=9:\n",
    "            nb=0\n",
    "            if grid[h-1,j-1]==9:\n",
    "                nb+=1\n",
    "            if grid[h-1,j+1]==9:\n",
    "                nb+=1\n",
    "            if grid[h-2,j-1]==9:\n",
    "                nb+=1\n",
    "            if grid[h-2,j]==9:\n",
    "                nb+=1\n",
    "            if grid[h-2,j+1]==9:\n",
    "                nb+=1\n",
    "            grid[h-1,j]=nb\n",
    "    \n",
    "    #autres lignes\n",
    "    for i in range (1,h-1):\n",
    "        nb=0\n",
    "        if grid[i,0]!=9:\n",
    "            if grid[i-1,0]==9:\n",
    "                nb+=1\n",
    "            if grid[i-1,1]==9:\n",
    "                nb+=1\n",
    "            if grid[i,1]==9:\n",
    "                nb+=1\n",
    "            if grid[i+1,1]==9:\n",
    "                nb+=1\n",
    "            if grid[i+1,0]==9:\n",
    "                nb+=1\n",
    "            grid[i,0]=nb\n",
    "        nb=0\n",
    "        if grid[i,l-1]!=9:\n",
    "            if grid[i-1,l-1]==9:\n",
    "                nb+=1\n",
    "            if grid[i-1,l-2]==9:\n",
    "                nb+=1\n",
    "            if grid[i,l-2]==9:\n",
    "                nb+=1\n",
    "            if grid[i+1,l-2]==9:\n",
    "                nb+=1\n",
    "            if grid[i+1,l-1]==9:\n",
    "                nb+=1\n",
    "            grid[i,l-1]=nb\n",
    "        for j in range(1,l-1):\n",
    "            nb=0\n",
    "            if grid[i,j] !=9:\n",
    "                if grid[i-1,j-1]==9:\n",
    "                    nb+=1\n",
    "                if grid[i-1,j]==9:\n",
    "                    nb+=1\n",
    "                if grid[i-1,j+1]==9:\n",
    "                    nb+=1\n",
    "                if grid[i,j-1]==9:\n",
    "                    nb+=1\n",
    "                if grid[i,j+1]==9:\n",
    "                    nb+=1\n",
    "                if grid[i+1,j-1]==9:\n",
    "                    nb+=1\n",
    "                if grid[i+1,j]==9:\n",
    "                    nb+=1\n",
    "                if grid[i+1,j+1]==9:\n",
    "                    nb+=1\n",
    "                grid[i,j]=nb\n",
    "        \n",
    "    return grid"
   ]
  },
  {
   "cell_type": "code",
   "execution_count": 37,
   "metadata": {},
   "outputs": [
    {
     "name": "stdout",
     "output_type": "stream",
     "text": [
      "[['_|', '_|', '_|'], ['_|', '_|', '_|']]\n"
     ]
    }
   ],
   "source": [
    "def initializationGamerGrid(h,l):\n",
    "    grid \n",
    "    grid = [[\"_|\" for j in range (l)]for i in range(h)]\n",
    "    return grid\n",
    "\n",
    "print(initializationGamerGrid(2,3))"
   ]
  },
  {
   "cell_type": "code",
   "execution_count": 39,
   "metadata": {},
   "outputs": [
    {
     "ename": "IndexError",
     "evalue": "too many indices for array",
     "output_type": "error",
     "traceback": [
      "\u001b[0;31m---------------------------------------------------------------------------\u001b[0m",
      "\u001b[0;31mIndexError\u001b[0m                                Traceback (most recent call last)",
      "\u001b[0;32m<ipython-input-39-f556d4413240>\u001b[0m in \u001b[0;36m<module>\u001b[0;34m\u001b[0m\n\u001b[1;32m      2\u001b[0m \u001b[0;32mfor\u001b[0m \u001b[0mi\u001b[0m \u001b[0;32min\u001b[0m \u001b[0mrange\u001b[0m\u001b[0;34m(\u001b[0m\u001b[0;36m2\u001b[0m\u001b[0;34m)\u001b[0m\u001b[0;34m:\u001b[0m\u001b[0;34m\u001b[0m\u001b[0;34m\u001b[0m\u001b[0m\n\u001b[1;32m      3\u001b[0m     \u001b[0;32mfor\u001b[0m \u001b[0mj\u001b[0m \u001b[0;32min\u001b[0m \u001b[0mrange\u001b[0m\u001b[0;34m(\u001b[0m\u001b[0;36m3\u001b[0m\u001b[0;34m)\u001b[0m\u001b[0;34m:\u001b[0m\u001b[0;34m\u001b[0m\u001b[0;34m\u001b[0m\u001b[0m\n\u001b[0;32m----> 4\u001b[0;31m         \u001b[0mgrid\u001b[0m\u001b[0;34m[\u001b[0m\u001b[0mi\u001b[0m\u001b[0;34m,\u001b[0m\u001b[0mj\u001b[0m\u001b[0;34m]\u001b[0m\u001b[0;34m=\u001b[0m\u001b[0;34m'_'\u001b[0m\u001b[0;34m\u001b[0m\u001b[0;34m\u001b[0m\u001b[0m\n\u001b[0m",
      "\u001b[0;31mIndexError\u001b[0m: too many indices for array"
     ]
    }
   ],
   "source": [
    "grid = np.array([2,3])\n",
    "for i in range(2):\n",
    "    for j in range(3):\n",
    "        grid[i,j]='_'"
   ]
  },
  {
   "cell_type": "code",
   "execution_count": null,
   "metadata": {},
   "outputs": [],
   "source": []
  }
 ],
 "metadata": {
  "kernelspec": {
   "display_name": "Python 3",
   "language": "python",
   "name": "python3"
  },
  "language_info": {
   "codemirror_mode": {
    "name": "ipython",
    "version": 3
   },
   "file_extension": ".py",
   "mimetype": "text/x-python",
   "name": "python",
   "nbconvert_exporter": "python",
   "pygments_lexer": "ipython3",
   "version": "3.7.6"
  }
 },
 "nbformat": 4,
 "nbformat_minor": 4
}
